{
 "cells": [
  {
   "cell_type": "code",
   "execution_count": 1,
   "metadata": {},
   "outputs": [],
   "source": [
    "%load_ext autoreload\n",
    "%autoreload 2\n",
    "\n",
    "from ble import get_ble_controller\n",
    "from base_ble import LOG\n",
    "from cmd_types import CMD\n",
    "from funcs import *\n",
    "from robotClass import *\n",
    "\n",
    "import time\n",
    "import numpy as np\n",
    "import matplotlib.pyplot as plt\n",
    "import asyncio\n",
    "\n",
    "LOG.propagate = False"
   ]
  },
  {
   "cell_type": "markdown",
   "metadata": {},
   "source": [
    "### Lab 9\n"
   ]
  },
  {
   "cell_type": "code",
   "execution_count": 3,
   "metadata": {},
   "outputs": [
    {
     "name": "stdout",
     "output_type": "stream",
     "text": [
      "2022-04-12 22:34:27,748 |\u001b[32m INFO     \u001b[0m|: Looking for Artemis Nano Peripheral Device: C0:83:B0:6C:9A:3C\n",
      "2022-04-12 22:34:30,641 |\u001b[32m INFO     \u001b[0m|: Connected to C0:83:B0:6C:9A:3C\n"
     ]
    }
   ],
   "source": [
    "# Setup robot\n",
    "rc = setupRobot()"
   ]
  },
  {
   "cell_type": "code",
   "execution_count": 9,
   "metadata": {},
   "outputs": [],
   "source": [
    "rc.turn(130, 85, 0)\n",
    "await asyncio.sleep(5)\n",
    "\n",
    "# Stop\n",
    "rc.stop()"
   ]
  },
  {
   "cell_type": "code",
   "execution_count": null,
   "metadata": {},
   "outputs": [],
   "source": []
  },
  {
   "cell_type": "code",
   "execution_count": null,
   "metadata": {},
   "outputs": [],
   "source": []
  },
  {
   "cell_type": "code",
   "execution_count": 11,
   "metadata": {},
   "outputs": [
    {
     "ename": "TypeError",
     "evalue": "pingRobot() missing 1 required positional argument: 'toggleUpdate'",
     "output_type": "error",
     "traceback": [
      "\u001b[0;31m---------------------------------------------------------------------------\u001b[0m",
      "\u001b[0;31mTypeError\u001b[0m                                 Traceback (most recent call last)",
      "Input \u001b[0;32mIn [11]\u001b[0m, in \u001b[0;36m<module>\u001b[0;34m\u001b[0m\n\u001b[0;32m----> 1\u001b[0m \u001b[43mrc\u001b[49m\u001b[38;5;241;43m.\u001b[39;49m\u001b[43mpingRobot\u001b[49m\u001b[43m(\u001b[49m\u001b[43mclear\u001b[49m\u001b[43m \u001b[49m\u001b[38;5;241;43m=\u001b[39;49m\u001b[43m \u001b[49m\u001b[38;5;28;43;01mTrue\u001b[39;49;00m\u001b[43m)\u001b[49m\n\u001b[1;32m      2\u001b[0m rc\u001b[38;5;241m.\u001b[39mupdatePID(\u001b[38;5;241m300\u001b[39m, \u001b[38;5;241m0.05\u001b[39m, \u001b[38;5;241m0\u001b[39m, \u001b[38;5;241m0.75\u001b[39m, \u001b[38;5;241m1000\u001b[39m, \u001b[38;5;241m200\u001b[39m, \u001b[38;5;241m1\u001b[39m)\n\u001b[1;32m      3\u001b[0m \u001b[38;5;66;03m#rc.move_forward([255, 255], 0, 1)\u001b[39;00m\n\u001b[1;32m      4\u001b[0m \n\u001b[1;32m      5\u001b[0m \u001b[38;5;66;03m# Wait one second\u001b[39;00m\n",
      "\u001b[0;31mTypeError\u001b[0m: pingRobot() missing 1 required positional argument: 'toggleUpdate'"
     ]
    }
   ],
   "source": [
    "rc.pingRobot(clear = True, toggleUpdate = True)\n",
    "rc.updatePID(300, 0.05, 0, 0.75, 1000, 200, 1)\n",
    "#rc.move_forward([255, 255], 0, 1)\n",
    "\n",
    "# Wait one second\n",
    "await asyncio.sleep(2)\n",
    "\n",
    "rc.stop()"
   ]
  },
  {
   "cell_type": "code",
   "execution_count": null,
   "metadata": {},
   "outputs": [],
   "source": []
  },
  {
   "cell_type": "code",
   "execution_count": null,
   "metadata": {},
   "outputs": [],
   "source": [
    "# Start taking measurements\n",
    "rc.updatePID(20, 0.25, 0.000001, 0.75, 0, 0)\n",
    "rc.pingRobot(toggleUpdate = 1, clear = True)"
   ]
  },
  {
   "cell_type": "code",
   "execution_count": null,
   "metadata": {},
   "outputs": [],
   "source": [
    "len(rc.tof2_readings)"
   ]
  },
  {
   "cell_type": "code",
   "execution_count": null,
   "metadata": {},
   "outputs": [],
   "source": [
    "rc.imu_readings[-25:]"
   ]
  },
  {
   "cell_type": "code",
   "execution_count": null,
   "metadata": {},
   "outputs": [],
   "source": []
  },
  {
   "cell_type": "code",
   "execution_count": null,
   "metadata": {},
   "outputs": [],
   "source": [
    "# Stop taking measurements\n",
    "rc.pingRobot(toggleUpdate = 1)"
   ]
  },
  {
   "cell_type": "code",
   "execution_count": null,
   "metadata": {},
   "outputs": [],
   "source": []
  },
  {
   "cell_type": "code",
   "execution_count": null,
   "metadata": {},
   "outputs": [],
   "source": []
  },
  {
   "cell_type": "code",
   "execution_count": null,
   "metadata": {},
   "outputs": [],
   "source": [
    "# Get front ToF sensor output\n",
    "frontTOFData = rc.tof2_readings\n",
    "startTimeTOF = frontTOFData[0][1]\n",
    "\n",
    "# Get motor PWM input\n",
    "motorData = rc.motor_readings"
   ]
  },
  {
   "cell_type": "code",
   "execution_count": null,
   "metadata": {},
   "outputs": [],
   "source": [
    "# Plot ---\n",
    "\n",
    "# Front ToF Sensor Output\n",
    "plotTOFData = dataForPlot(frontTOFData)\n",
    "\n",
    "plt.plot([x - startTimeTOF for x in plotTOFData[1]], plotTOFData[0], 'ro')\n",
    "\n",
    "plt.title('Front ToF Sensor')\n",
    "plt.xlim([0, 20])\n",
    "plt.xlabel('Time (sec)')\n",
    "plt.ylabel('Distance (mm)')\n",
    "plt.show()\n",
    "\n",
    "# Motor data\n",
    "plotMotorData = dataForPlot(motorData)\n",
    "startTimeMotor = plotMotorData[1][0]\n",
    "plt.plot([x - startTimeMotor for x in plotMotorData[1]], plotMotorData[0])\n",
    "plt.title('PWM Input Graph')\n",
    "plt.xlabel('Time (sec)')\n",
    "plt.ylabel('PWM Signal Input')\n",
    "plt.show()"
   ]
  },
  {
   "cell_type": "code",
   "execution_count": null,
   "metadata": {},
   "outputs": [],
   "source": []
  }
 ],
 "metadata": {
  "kernelspec": {
   "display_name": "Python 3 (ipykernel)",
   "language": "python",
   "name": "python3"
  },
  "language_info": {
   "codemirror_mode": {
    "name": "ipython",
    "version": 3
   },
   "file_extension": ".py",
   "mimetype": "text/x-python",
   "name": "python",
   "nbconvert_exporter": "python",
   "pygments_lexer": "ipython3",
   "version": "3.9.10"
  }
 },
 "nbformat": 4,
 "nbformat_minor": 4
}
