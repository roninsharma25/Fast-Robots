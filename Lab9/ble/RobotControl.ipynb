{
 "cells": [
  {
   "cell_type": "code",
   "execution_count": 2,
   "metadata": {},
   "outputs": [
    {
     "name": "stdout",
     "output_type": "stream",
     "text": [
      "The autoreload extension is already loaded. To reload it, use:\n",
      "  %reload_ext autoreload\n"
     ]
    }
   ],
   "source": [
    "%load_ext autoreload\n",
    "%autoreload 2\n",
    "\n",
    "from ble import get_ble_controller\n",
    "from base_ble import LOG\n",
    "from cmd_types import CMD\n",
    "from funcs import *\n",
    "from robotClass import *\n",
    "\n",
    "import time\n",
    "import numpy as np\n",
    "import matplotlib.pyplot as plt\n",
    "import asyncio\n",
    "\n",
    "LOG.propagate = False"
   ]
  },
  {
   "cell_type": "markdown",
   "metadata": {},
   "source": [
    "### Lab 9"
   ]
  },
  {
   "cell_type": "code",
   "execution_count": 4,
   "metadata": {},
   "outputs": [
    {
     "name": "stdout",
     "output_type": "stream",
     "text": [
      "2022-04-13 14:59:15,179 |\u001b[32m INFO     \u001b[0m|: Looking for Artemis Nano Peripheral Device: C0:83:B0:6C:9A:3C\n",
      "2022-04-13 14:59:18,032 |\u001b[32m INFO     \u001b[0m|: Connected to C0:83:B0:6C:9A:3C\n"
     ]
    }
   ],
   "source": [
    "# Setup robot\n",
    "rc = setupRobot()"
   ]
  },
  {
   "cell_type": "code",
   "execution_count": 42,
   "metadata": {},
   "outputs": [],
   "source": [
    "rc.pingRobot(clear = True)\n",
    "rc.updatePID(20, 50, 10, 0, 1, 2, 90)\n",
    "#rc.move_forward([255, 255], 0, 1)\n",
    "\n",
    "# Wait one second\n",
    "await asyncio.sleep(50)\n",
    "\n",
    "rc.stop()\n",
    "rc.pingRobot(clear = False)"
   ]
  },
  {
   "cell_type": "code",
   "execution_count": 37,
   "metadata": {},
   "outputs": [
    {
     "data": {
      "text/plain": [
       "[(-2493.541259765625, 1649877084.657772),\n",
       " (-2516.9931640625, 1649877086.712121),\n",
       " (-2538.022705078125, 1649877088.903797),\n",
       " (-2569.221923828125, 1649877090.958226),\n",
       " (-2587.206298828125, 1649877093.102638),\n",
       " (-2608.306884765625, 1649877095.128584),\n",
       " (-2634.806396484375, 1649877097.4230459),\n",
       " (-2676.71044921875, 1649877099.448119),\n",
       " (-2694.49853515625, 1649877101.637526),\n",
       " (-2718.474609375, 1649877103.663132),\n",
       " (-2734.23681640625, 1649877105.883109),\n",
       " (-2757.27099609375, 1649877107.9525208),\n",
       " (-2773.724609375, 1649877110.112996),\n",
       " (-2791.580322265625, 1649877112.212308),\n",
       " (-2810.486328125, 1649877114.446439),\n",
       " (-2831.395263671875, 1649877116.532615),\n",
       " (-2848.24560546875, 1649877118.6469052),\n",
       " (-2864.2197265625, 1649877120.642335),\n",
       " (-2885.824951171875, 1649877122.861042),\n",
       " (-2916.871337890625, 1649877124.886813),\n",
       " (-2933.757568359375, 1649877127.061995),\n",
       " (-2949.119384765625, 1649877129.087163),\n",
       " (-2964.899169921875, 1649877131.2615),\n",
       " (-2980.376220703125, 1649877133.331379)]"
      ]
     },
     "execution_count": 37,
     "metadata": {},
     "output_type": "execute_result"
    }
   ],
   "source": [
    "rc.imu_readings"
   ]
  },
  {
   "cell_type": "code",
   "execution_count": 38,
   "metadata": {},
   "outputs": [
    {
     "data": {
      "text/plain": [
       "[(119.0, 1649877084.6432781),\n",
       " (169.0, 1649877086.6975),\n",
       " (129.0, 1649877088.90337),\n",
       " (101.0, 1649877090.9435189),\n",
       " (102.0, 1649877093.1022248),\n",
       " (393.0, 1649877095.128206),\n",
       " (437.0, 1649877097.4080791),\n",
       " (493.0, 1649877099.432228),\n",
       " (412.0, 1649877101.622279),\n",
       " (272.0, 1649877103.662807),\n",
       " (267.0, 1649877105.868237),\n",
       " (322.0, 1649877107.937143),\n",
       " (338.0, 1649877110.1125681),\n",
       " (435.0, 1649877112.211984),\n",
       " (431.0, 1649877114.4170392),\n",
       " (119.0, 1649877116.5160441),\n",
       " (124.0, 1649877118.631694),\n",
       " (141.0, 1649877120.641838),\n",
       " (179.0, 1649877122.8463411),\n",
       " (96.0, 1649877124.872989),\n",
       " (114.0, 1649877127.061625),\n",
       " (94.0, 1649877129.086931),\n",
       " (95.0, 1649877131.261246),\n",
       " (400.0, 1649877133.317743)]"
      ]
     },
     "execution_count": 38,
     "metadata": {},
     "output_type": "execute_result"
    }
   ],
   "source": [
    "rc.tof_readings"
   ]
  },
  {
   "cell_type": "code",
   "execution_count": null,
   "metadata": {},
   "outputs": [],
   "source": []
  },
  {
   "cell_type": "code",
   "execution_count": null,
   "metadata": {},
   "outputs": [],
   "source": []
  },
  {
   "cell_type": "code",
   "execution_count": 43,
   "metadata": {},
   "outputs": [],
   "source": [
    "trial = 2\n",
    "\n",
    "\"\"\"\n",
    "Location\n",
    "\n",
    "0: (-3,-2)\n",
    "1: (0,0)\n",
    "2: (5,3)\n",
    "3: (5,-3)\n",
    "4: (0,3)\n",
    "\"\"\"\n",
    "location = 3"
   ]
  },
  {
   "cell_type": "code",
   "execution_count": 44,
   "metadata": {},
   "outputs": [],
   "source": [
    "rc.imu_readings # gyroscope values\n",
    "storeData(rc.imu_readings, f'data/gyroscopeValues_t{trial}_{location}.txt')"
   ]
  },
  {
   "cell_type": "code",
   "execution_count": null,
   "metadata": {},
   "outputs": [],
   "source": [
    "x = processRunData(f'data/gyroscopeValues_t{trial}_{location}.txt')\n",
    "x"
   ]
  },
  {
   "cell_type": "code",
   "execution_count": 45,
   "metadata": {},
   "outputs": [
    {
     "name": "stdout",
     "output_type": "stream",
     "text": [
      "2022-04-13 15:15:25,106 |\u001b[32m INFO     \u001b[0m|: Disconnected from 607452C2-8441-D076-814E-841EB3635426\n"
     ]
    }
   ],
   "source": [
    "rc.tof_readings # front ToF sensor values\n",
    "storeData(rc.tof_readings, f'data/TOFValues_t{trial}_{location}.txt')"
   ]
  },
  {
   "cell_type": "code",
   "execution_count": null,
   "metadata": {},
   "outputs": [],
   "source": [
    "y = processRunData(f'data/TOFValues_t{trial}_{location}.txt')\n",
    "y"
   ]
  },
  {
   "cell_type": "code",
   "execution_count": null,
   "metadata": {},
   "outputs": [],
   "source": []
  },
  {
   "cell_type": "code",
   "execution_count": null,
   "metadata": {},
   "outputs": [],
   "source": []
  },
  {
   "cell_type": "code",
   "execution_count": null,
   "metadata": {},
   "outputs": [],
   "source": [
    "# Plot ---\n",
    "\n",
    "# Front ToF Sensor Output\n",
    "plotTOFData = dataForPlot(frontTOFData)\n",
    "\n",
    "plt.plot([x - startTimeTOF for x in plotTOFData[1]], plotTOFData[0], 'ro')\n",
    "\n",
    "plt.title('Front ToF Sensor')\n",
    "plt.xlim([0, 20])\n",
    "plt.xlabel('Time (sec)')\n",
    "plt.ylabel('Distance (mm)')\n",
    "plt.show()\n",
    "\n",
    "# Motor data\n",
    "plotMotorData = dataForPlot(motorData)\n",
    "startTimeMotor = plotMotorData[1][0]\n",
    "plt.plot([x - startTimeMotor for x in plotMotorData[1]], plotMotorData[0])\n",
    "plt.title('PWM Input Graph')\n",
    "plt.xlabel('Time (sec)')\n",
    "plt.ylabel('PWM Signal Input')\n",
    "plt.show()"
   ]
  },
  {
   "cell_type": "code",
   "execution_count": null,
   "metadata": {},
   "outputs": [],
   "source": []
  }
 ],
 "metadata": {
  "kernelspec": {
   "display_name": "Python 3 (ipykernel)",
   "language": "python",
   "name": "python3"
  },
  "language_info": {
   "codemirror_mode": {
    "name": "ipython",
    "version": 3
   },
   "file_extension": ".py",
   "mimetype": "text/x-python",
   "name": "python",
   "nbconvert_exporter": "python",
   "pygments_lexer": "ipython3",
   "version": "3.9.10"
  }
 },
 "nbformat": 4,
 "nbformat_minor": 4
}
