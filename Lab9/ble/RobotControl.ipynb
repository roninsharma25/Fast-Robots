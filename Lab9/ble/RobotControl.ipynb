{
 "cells": [
  {
   "cell_type": "code",
   "execution_count": null,
   "metadata": {},
   "outputs": [],
   "source": [
    "%load_ext autoreload\n",
    "%autoreload 2\n",
    "\n",
    "from ble import get_ble_controller\n",
    "from base_ble import LOG\n",
    "from cmd_types import CMD\n",
    "from funcs import *\n",
    "from robotClass import *\n",
    "\n",
    "import time\n",
    "import numpy as np\n",
    "import matplotlib.pyplot as plt\n",
    "import asyncio\n",
    "\n",
    "LOG.propagate = False"
   ]
  },
  {
   "cell_type": "markdown",
   "metadata": {},
   "source": [
    "### Lab 9\n"
   ]
  },
  {
   "cell_type": "code",
   "execution_count": null,
   "metadata": {},
   "outputs": [],
   "source": [
    "# Setup robot\n",
    "rc = setupRobot()"
   ]
  },
  {
   "cell_type": "code",
   "execution_count": null,
   "metadata": {},
   "outputs": [],
   "source": [
    "rc.pingRobot(clear = True)\n",
    "rc.updatePID(300, 0.05, 0, 0.75, 1000, 200)\n",
    "rc.move_forward([255, 255], 0, 1)\n",
    "\n",
    "# Wait one second\n",
    "await asyncio.sleep(1)\n",
    "\n",
    "rc.stop()"
   ]
  },
  {
   "cell_type": "code",
   "execution_count": null,
   "metadata": {},
   "outputs": [],
   "source": [
    "# Get front ToF sensor output\n",
    "frontTOFData = rc.tof2_readings\n",
    "startTimeTOF = frontTOFData[0][1]\n",
    "\n",
    "# Get motor PWM input\n",
    "motorData = rc.motor_readings"
   ]
  },
  {
   "cell_type": "code",
   "execution_count": null,
   "metadata": {},
   "outputs": [],
   "source": [
    "# Plot ---\n",
    "\n",
    "# Front ToF Sensor Output\n",
    "plotTOFData = dataForPlot(frontTOFData)\n",
    "\n",
    "plt.plot([x - startTimeTOF for x in plotTOFData[1]], plotTOFData[0], 'ro')\n",
    "\n",
    "plt.title('Front ToF Sensor')\n",
    "plt.xlim([0, 20])\n",
    "plt.xlabel('Time (sec)')\n",
    "plt.ylabel('Distance (mm)')\n",
    "plt.show()\n",
    "\n",
    "# Motor data\n",
    "plotMotorData = dataForPlot(motorData)\n",
    "startTimeMotor = plotMotorData[1][0]\n",
    "plt.plot([x - startTimeMotor for x in plotMotorData[1]], plotMotorData[0])\n",
    "plt.title('PWM Input Graph')\n",
    "plt.xlabel('Time (sec)')\n",
    "plt.ylabel('PWM Signal Input')\n",
    "plt.show()"
   ]
  }
 ],
 "metadata": {
  "kernelspec": {
   "display_name": "Python 3 (ipykernel)",
   "language": "python",
   "name": "python3"
  },
  "language_info": {
   "codemirror_mode": {
    "name": "ipython",
    "version": 3
   },
   "file_extension": ".py",
   "mimetype": "text/x-python",
   "name": "python",
   "nbconvert_exporter": "python",
   "pygments_lexer": "ipython3",
   "version": "3.9.10"
  }
 },
 "nbformat": 4,
 "nbformat_minor": 4
}
