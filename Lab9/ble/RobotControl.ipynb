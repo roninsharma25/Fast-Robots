{
 "cells": [
  {
   "cell_type": "code",
   "execution_count": 1,
   "metadata": {},
   "outputs": [],
   "source": [
    "%load_ext autoreload\n",
    "%autoreload 2\n",
    "\n",
    "from ble import get_ble_controller\n",
    "from base_ble import LOG\n",
    "from cmd_types import CMD\n",
    "from funcs import *\n",
    "from robotClass import *\n",
    "\n",
    "import time\n",
    "import numpy as np\n",
    "import matplotlib.pyplot as plt\n",
    "import asyncio\n",
    "\n",
    "LOG.propagate = False"
   ]
  },
  {
   "cell_type": "markdown",
   "metadata": {},
   "source": [
    "### Lab 9"
   ]
  },
  {
   "cell_type": "code",
   "execution_count": 9,
   "metadata": {},
   "outputs": [
    {
     "name": "stdout",
     "output_type": "stream",
     "text": [
      "2022-04-13 02:47:41,932 |\u001b[32m INFO     \u001b[0m|: Looking for Artemis Nano Peripheral Device: C0:83:B0:6C:9A:3C\n",
      "2022-04-13 02:47:44,702 |\u001b[32m INFO     \u001b[0m|: Connected to C0:83:B0:6C:9A:3C\n"
     ]
    }
   ],
   "source": [
    "# Setup robot\n",
    "rc = setupRobot()"
   ]
  },
  {
   "cell_type": "code",
   "execution_count": 18,
   "metadata": {},
   "outputs": [],
   "source": [
    "rc.pingRobot(clear = True)\n",
    "rc.updatePID(20, 0.05, 0, 0, 1, 2)\n",
    "#rc.move_forward([255, 255], 0, 1)\n",
    "\n",
    "# Wait one second\n",
    "await asyncio.sleep(20)\n",
    "\n",
    "rc.stop()\n",
    "rc.pingRobot(clear = False)"
   ]
  },
  {
   "cell_type": "code",
   "execution_count": 19,
   "metadata": {},
   "outputs": [
    {
     "data": {
      "text/plain": [
       "[(153.430419921875, 1649832602.174461),\n",
       " (134.62078857421875, 1649832604.589386),\n",
       " (118.93425750732422, 1649832606.914346),\n",
       " (102.1688232421875, 1649832609.2097669),\n",
       " (86.39281463623047, 1649832611.518542),\n",
       " (69.7164535522461, 1649832613.9947898),\n",
       " (52.655242919921875, 1649832616.364266),\n",
       " (37.03825759887695, 1649832618.734247),\n",
       " (21.154428482055664, 1649832621.119005)]"
      ]
     },
     "execution_count": 19,
     "metadata": {},
     "output_type": "execute_result"
    }
   ],
   "source": [
    "rc.imu_readings # gyroscope values"
   ]
  },
  {
   "cell_type": "code",
   "execution_count": 20,
   "metadata": {},
   "outputs": [
    {
     "data": {
      "text/plain": [
       "[(137.0, 1649832602.158852),\n",
       " (169.0, 1649832604.574222),\n",
       " (197.0, 1649832606.8994381),\n",
       " (284.0, 1649832609.2093399),\n",
       " (324.0, 1649832611.5043142),\n",
       " (219.0, 1649832613.99437),\n",
       " (193.0, 1649832616.3491251),\n",
       " (249.0, 1649832618.718993),\n",
       " (115.0, 1649832621.1040409)]"
      ]
     },
     "execution_count": 20,
     "metadata": {},
     "output_type": "execute_result"
    }
   ],
   "source": [
    "rc.tof_readings # front ToF sensor values"
   ]
  },
  {
   "cell_type": "code",
   "execution_count": null,
   "metadata": {},
   "outputs": [],
   "source": []
  },
  {
   "cell_type": "code",
   "execution_count": null,
   "metadata": {},
   "outputs": [],
   "source": [
    "rc.turn(130, 85, 0)\n",
    "await asyncio.sleep(5)\n",
    "\n",
    "# Stop\n",
    "rc.stop()"
   ]
  },
  {
   "cell_type": "code",
   "execution_count": null,
   "metadata": {},
   "outputs": [],
   "source": []
  },
  {
   "cell_type": "code",
   "execution_count": null,
   "metadata": {},
   "outputs": [],
   "source": [
    "# Start taking measurements\n",
    "rc.updatePID(20, 0.25, 0.000001, 0.75, 0, 0)\n",
    "rc.pingRobot(toggleUpdate = 1, clear = True)"
   ]
  },
  {
   "cell_type": "code",
   "execution_count": null,
   "metadata": {},
   "outputs": [],
   "source": [
    "len(rc.tof2_readings)"
   ]
  },
  {
   "cell_type": "code",
   "execution_count": null,
   "metadata": {},
   "outputs": [],
   "source": [
    "rc.imu_readings[-25:]"
   ]
  },
  {
   "cell_type": "code",
   "execution_count": null,
   "metadata": {},
   "outputs": [],
   "source": []
  },
  {
   "cell_type": "code",
   "execution_count": null,
   "metadata": {},
   "outputs": [],
   "source": [
    "# Stop taking measurements\n",
    "rc.pingRobot(toggleUpdate = 1)"
   ]
  },
  {
   "cell_type": "code",
   "execution_count": null,
   "metadata": {},
   "outputs": [],
   "source": []
  },
  {
   "cell_type": "code",
   "execution_count": null,
   "metadata": {},
   "outputs": [],
   "source": []
  },
  {
   "cell_type": "code",
   "execution_count": null,
   "metadata": {},
   "outputs": [],
   "source": [
    "# Get front ToF sensor output\n",
    "frontTOFData = rc.tof2_readings\n",
    "startTimeTOF = frontTOFData[0][1]\n",
    "\n",
    "# Get motor PWM input\n",
    "motorData = rc.motor_readings"
   ]
  },
  {
   "cell_type": "code",
   "execution_count": null,
   "metadata": {},
   "outputs": [],
   "source": [
    "# Plot ---\n",
    "\n",
    "# Front ToF Sensor Output\n",
    "plotTOFData = dataForPlot(frontTOFData)\n",
    "\n",
    "plt.plot([x - startTimeTOF for x in plotTOFData[1]], plotTOFData[0], 'ro')\n",
    "\n",
    "plt.title('Front ToF Sensor')\n",
    "plt.xlim([0, 20])\n",
    "plt.xlabel('Time (sec)')\n",
    "plt.ylabel('Distance (mm)')\n",
    "plt.show()\n",
    "\n",
    "# Motor data\n",
    "plotMotorData = dataForPlot(motorData)\n",
    "startTimeMotor = plotMotorData[1][0]\n",
    "plt.plot([x - startTimeMotor for x in plotMotorData[1]], plotMotorData[0])\n",
    "plt.title('PWM Input Graph')\n",
    "plt.xlabel('Time (sec)')\n",
    "plt.ylabel('PWM Signal Input')\n",
    "plt.show()"
   ]
  },
  {
   "cell_type": "code",
   "execution_count": null,
   "metadata": {},
   "outputs": [],
   "source": []
  }
 ],
 "metadata": {
  "kernelspec": {
   "display_name": "Python 3 (ipykernel)",
   "language": "python",
   "name": "python3"
  },
  "language_info": {
   "codemirror_mode": {
    "name": "ipython",
    "version": 3
   },
   "file_extension": ".py",
   "mimetype": "text/x-python",
   "name": "python",
   "nbconvert_exporter": "python",
   "pygments_lexer": "ipython3",
   "version": "3.9.10"
  }
 },
 "nbformat": 4,
 "nbformat_minor": 4
}
