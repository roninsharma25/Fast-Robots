{
 "cells": [
  {
   "cell_type": "code",
   "execution_count": null,
   "metadata": {},
   "outputs": [],
   "source": [
    "%load_ext autoreload\n",
    "%autoreload 2\n",
    "\n",
    "from ble import get_ble_controller\n",
    "from base_ble import LOG\n",
    "from cmd_types import CMD\n",
    "from funcs import *\n",
    "from robotClass import *\n",
    "\n",
    "import time\n",
    "import numpy as np\n",
    "import matplotlib.pyplot as plt\n",
    "import asyncio\n",
    "\n",
    "LOG.propagate = False"
   ]
  },
  {
   "cell_type": "markdown",
   "metadata": {},
   "source": [
    "### Lab 8\n"
   ]
  },
  {
   "cell_type": "code",
   "execution_count": null,
   "metadata": {},
   "outputs": [],
   "source": [
    "# Setup robot\n",
    "rc = setupRobot()"
   ]
  },
  {
   "cell_type": "code",
   "execution_count": null,
   "metadata": {},
   "outputs": [],
   "source": [
    "rc.move_forward([255, 255], 0, 1)"
   ]
  },
  {
   "cell_type": "code",
   "execution_count": null,
   "metadata": {},
   "outputs": [],
   "source": [
    "rc.stop()"
   ]
  },
  {
   "cell_type": "code",
   "execution_count": null,
   "metadata": {},
   "outputs": [],
   "source": []
  },
  {
   "cell_type": "code",
   "execution_count": null,
   "metadata": {},
   "outputs": [],
   "source": [
    "# Initialization\n",
    "rc.pingRobot(clear = True, startX = 2000)\n",
    "rc.updatePID(300, 0.05, 0, 0.75, 1000, 200)\n",
    "\n",
    "# Wait one second\n",
    "await asyncio.sleep(1)\n",
    "\n",
    "# Move forward without performing PID\n",
    "rc.move_forward([255, 255], 0, 1)"
   ]
  },
  {
   "cell_type": "code",
   "execution_count": null,
   "metadata": {},
   "outputs": [],
   "source": [
    "# After some time, perform flip\n",
    "#rc.stop()\n",
    "rc.move_forward([255, 255], 1, 1) \n",
    "\n",
    "await asyncio.sleep(0.75)\n",
    "\n",
    "rc.stop()\n",
    "\n",
    "#rc.pingRobot(performFlip = 1) # flips and moves backwards\n",
    "\n",
    "await asyncio.sleep(1)\n",
    "\n",
    "rc.move_forward([255, 255], 1, 1) \n",
    "\n",
    "await asyncio.sleep(0.75)\n",
    "\n",
    "rc.stop()"
   ]
  },
  {
   "cell_type": "code",
   "execution_count": null,
   "metadata": {},
   "outputs": [],
   "source": [
    "# Stop the robot once it moves back far enough\n",
    "rc.stop()"
   ]
  },
  {
   "cell_type": "code",
   "execution_count": null,
   "metadata": {},
   "outputs": [],
   "source": [
    "rc.motor_readings"
   ]
  },
  {
   "cell_type": "code",
   "execution_count": null,
   "metadata": {},
   "outputs": [],
   "source": [
    "# Plot Motor Data\n",
    "motorData = rc.motor_readings\n",
    "\n",
    "plotMotorData = dataForPlot(motorData)\n",
    "startTimeMotor = plotMotorData[1][0]\n",
    "plt.plot([x - startTimeMotor for x in plotMotorData[1]], plotMotorData[0])\n",
    "plt.title('PWM Input Graph')\n",
    "plt.xlabel('Time (sec)')\n",
    "plt.ylabel('PWM Signal Input')\n",
    "plt.show()"
   ]
  },
  {
   "cell_type": "code",
   "execution_count": null,
   "metadata": {},
   "outputs": [],
   "source": [
    "storeData(motorData, 'stuntMotorData.txt')"
   ]
  },
  {
   "cell_type": "code",
   "execution_count": null,
   "metadata": {},
   "outputs": [],
   "source": []
  },
  {
   "cell_type": "markdown",
   "metadata": {},
   "source": [
    "Use PID and KF"
   ]
  },
  {
   "cell_type": "code",
   "execution_count": null,
   "metadata": {},
   "outputs": [],
   "source": [
    "# Ping robot to start writing PWM values to the characteristic\n",
    "rc.pingRobot(clear = True, startX = 600)\n",
    "rc.updatePID(300, 0.05, 0, 0.75, 1000, 200)\n",
    "\n",
    "# Wait two seconds\n",
    "await asyncio.sleep(2)\n",
    "\n",
    "# Apply a constant PWM signal for enough time to reach steady state (constant speed)\n",
    "rc.move_forward([50, 50], 0, 0) # PWM: 100, 0: forward, 0: do PID (no PWM adjustment)\n",
    "\n",
    "# await asyncio.sleep(10) # start with 5 seconds but make it longer if needed\n",
    "# rc.stop()\n",
    "# await asyncio.sleep(2)\n",
    "\n",
    "# # Ping robot to stop writing PWM values to the characteristic\n",
    "# rc.pingRobot()"
   ]
  },
  {
   "cell_type": "code",
   "execution_count": null,
   "metadata": {},
   "outputs": [],
   "source": [
    "rc.pingRobot(clearAllDone = 1) # reset the robot to its initial state\n",
    "rc.stop()"
   ]
  },
  {
   "cell_type": "code",
   "execution_count": null,
   "metadata": {},
   "outputs": [],
   "source": [
    "rc.kf_tof"
   ]
  },
  {
   "cell_type": "code",
   "execution_count": null,
   "metadata": {},
   "outputs": [],
   "source": [
    "rc.tof2_readings"
   ]
  },
  {
   "cell_type": "code",
   "execution_count": null,
   "metadata": {},
   "outputs": [],
   "source": [
    "# Get front ToF sensor output\n",
    "frontTOFData = rc.tof2_readings\n",
    "startTimeTOF = frontTOFData[0][1]\n",
    "\n",
    "# Get KF ToF Sensor output\n",
    "kfTOF = rc.kf_tof\n",
    "startTimeKFTOF = kfTOF[0][1]\n",
    "\n",
    "# Get speed data\n",
    "# format: [ [velocities], [times] ]\n",
    "speedData = distToVelocity(frontTOFData)\n",
    "\n",
    "# Get motor PWM input\n",
    "motorData = rc.motor_readings\n",
    "\n",
    "# Get KF motor PWM\n",
    "kfMotorData = rc.kf_motor_pwm"
   ]
  },
  {
   "cell_type": "code",
   "execution_count": null,
   "metadata": {},
   "outputs": [],
   "source": [
    "# Plot ---\n",
    "\n",
    "# Front ToF Sensor Output\n",
    "plotTOFData = dataForPlot(frontTOFData)\n",
    "plotKFTOFData = dataForPlot(kfTOF)\n",
    "\n",
    "plt.plot([x - startTimeTOF for x in plotTOFData[1]], plotTOFData[0], 'ro')\n",
    "plt.plot([x - startTimeTOF for x in plotKFTOFData[1]], plotKFTOFData[0])\n",
    "\n",
    "plt.title('Kalman Filter vs. Front ToF Sensor')\n",
    "plt.xlim([0, 20])\n",
    "plt.xlabel('Time (sec)')\n",
    "plt.ylabel('Distance (mm)')\n",
    "plt.show()\n",
    "\n",
    "# Motor data\n",
    "plotMotorData = dataForPlot(motorData)\n",
    "startTimeMotor = plotMotorData[1][0]\n",
    "plt.plot([x - startTimeMotor for x in plotMotorData[1]], plotMotorData[0])\n",
    "plt.title('PWM Input Graph')\n",
    "plt.xlabel('Time (sec)')\n",
    "plt.ylabel('PWM Signal Input')\n",
    "plt.show()"
   ]
  },
  {
   "cell_type": "markdown",
   "metadata": {},
   "source": [
    "### Open-Loop Stunts"
   ]
  },
  {
   "cell_type": "code",
   "execution_count": null,
   "metadata": {},
   "outputs": [],
   "source": [
    "rc = setupRobot()"
   ]
  },
  {
   "cell_type": "markdown",
   "metadata": {},
   "source": [
    "#### Spinning in place"
   ]
  },
  {
   "cell_type": "code",
   "execution_count": null,
   "metadata": {},
   "outputs": [],
   "source": [
    "# Turn in one direction\n",
    "rc.turn(220, 175, 0)\n",
    "await asyncio.sleep(2)\n",
    "\n",
    "# Stop\n",
    "rc.stop()\n",
    "await asyncio.sleep(2)\n",
    "\n",
    "# Turn in the other direction\n",
    "rc.turn(220, 175, 1)\n",
    "await asyncio.sleep(2)\n",
    "\n",
    "# Stop\n",
    "rc.stop()"
   ]
  },
  {
   "cell_type": "markdown",
   "metadata": {},
   "source": [
    "#### Draw a T"
   ]
  },
  {
   "cell_type": "code",
   "execution_count": null,
   "metadata": {},
   "outputs": [],
   "source": [
    "rc.move_forward([100, 100], 1, 1)\n",
    "await asyncio.sleep(0.5)\n",
    "rc.stop()"
   ]
  },
  {
   "cell_type": "code",
   "execution_count": null,
   "metadata": {},
   "outputs": [],
   "source": [
    "# Move forward\n",
    "rc.move_forward([100, 100], 0, 1)\n",
    "await asyncio.sleep(0.5)\n",
    "\n",
    "# Turn left 90 degrees\n",
    "rc.turn(220, 175, 0)\n",
    "await asyncio.sleep(0.35)\n",
    "\n",
    "# Move forward\n",
    "rc.move_forward([100, 100], 0, 1)\n",
    "await asyncio.sleep(0.5)\n",
    "\n",
    "# Turn left 180 degrees\n",
    "rc.turn(220, 175, 1)\n",
    "await asyncio.sleep(0.5)\n",
    "\n",
    "# Move forward\n",
    "rc.move_forward([100, 100], 0, 1)\n",
    "await asyncio.sleep(0.75)\n",
    "\n",
    "# Stop\n",
    "rc.stop()"
   ]
  },
  {
   "cell_type": "markdown",
   "metadata": {},
   "source": [
    "#### Double Flip"
   ]
  },
  {
   "cell_type": "code",
   "execution_count": null,
   "metadata": {},
   "outputs": [],
   "source": [
    "# Move forward\n",
    "rc.move_forward([255, 255], 0, 1)\n",
    "await asyncio.sleep(1)\n",
    "\n",
    "# Flip\n",
    "rc.move_forward([255, 255], 1, 1)\n",
    "await asyncio.sleep(0.75)\n",
    "rc.stop()\n",
    "await asyncio.sleep(1)\n",
    "\n",
    "# Move forward\n",
    "rc.move_forward([255, 255], 1, 1) \n",
    "await asyncio.sleep(1)\n",
    "\n",
    "# Flip\n",
    "rc.move_forward([255, 255], 0, 1)\n",
    "await asyncio.sleep(0.75)\n",
    "rc.stop()"
   ]
  },
  {
   "cell_type": "code",
   "execution_count": null,
   "metadata": {},
   "outputs": [],
   "source": []
  },
  {
   "cell_type": "code",
   "execution_count": null,
   "metadata": {},
   "outputs": [],
   "source": []
  }
 ],
 "metadata": {
  "kernelspec": {
   "display_name": "Python 3 (ipykernel)",
   "language": "python",
   "name": "python3"
  },
  "language_info": {
   "codemirror_mode": {
    "name": "ipython",
    "version": 3
   },
   "file_extension": ".py",
   "mimetype": "text/x-python",
   "name": "python",
   "nbconvert_exporter": "python",
   "pygments_lexer": "ipython3",
   "version": "3.10.4"
  }
 },
 "nbformat": 4,
 "nbformat_minor": 4
}
