{
 "cells": [
  {
   "cell_type": "code",
   "execution_count": 1,
   "metadata": {},
   "outputs": [],
   "source": [
    "%load_ext autoreload\n",
    "%autoreload 2\n",
    "\n",
    "from ble import get_ble_controller\n",
    "from base_ble import LOG\n",
    "from cmd_types import CMD\n",
    "from funcs import *\n",
    "from robotClass import *\n",
    "\n",
    "import time\n",
    "import numpy as np\n",
    "import matplotlib.pyplot as plt\n",
    "import asyncio\n",
    "\n",
    "LOG.propagate = False"
   ]
  },
  {
   "cell_type": "markdown",
   "metadata": {},
   "source": [
    "### Lab 8\n"
   ]
  },
  {
   "cell_type": "code",
   "execution_count": 54,
   "metadata": {},
   "outputs": [
    {
     "name": "stdout",
     "output_type": "stream",
     "text": [
      "2022-03-25 21:07:33,046 |\u001b[32m INFO     \u001b[0m|: Looking for Artemis Nano Peripheral Device: C0:83:B0:6C:9A:3C\n",
      "2022-03-25 21:07:35,908 |\u001b[32m INFO     \u001b[0m|: Connected to C0:83:B0:6C:9A:3C\n"
     ]
    }
   ],
   "source": [
    "# Setup robot\n",
    "rc = setupRobot()"
   ]
  },
  {
   "cell_type": "code",
   "execution_count": null,
   "metadata": {},
   "outputs": [],
   "source": [
    "# Initialization\n",
    "rc.pingRobot(clear = True, startX = 600)\n",
    "rc.updatePID(300, 0.05, 0, 0.75, 1000, 200)\n",
    "\n",
    "# Wait one second\n",
    "await asyncio.sleep(1)\n",
    "\n",
    "# Move forward without performing PID\n",
    "rc.move_forward([50, 50], 0, 0)"
   ]
  },
  {
   "cell_type": "code",
   "execution_count": null,
   "metadata": {},
   "outputs": [],
   "source": [
    "# After some time, perform flip\n",
    "rc.pingRobot(performFlip = 1) # flips and moves backwards"
   ]
  },
  {
   "cell_type": "code",
   "execution_count": null,
   "metadata": {},
   "outputs": [],
   "source": [
    "# Stop the robot once it moves back far enough\n",
    "rc.stop()"
   ]
  },
  {
   "cell_type": "code",
   "execution_count": null,
   "metadata": {},
   "outputs": [],
   "source": []
  },
  {
   "cell_type": "markdown",
   "metadata": {},
   "source": [
    "Use PID and KF"
   ]
  },
  {
   "cell_type": "code",
   "execution_count": 55,
   "metadata": {},
   "outputs": [],
   "source": [
    "# Ping robot to start writing PWM values to the characteristic\n",
    "rc.pingRobot(clear = True, startX = 600)\n",
    "rc.updatePID(300, 0.05, 0, 0.75, 1000, 200)\n",
    "\n",
    "# Wait two seconds\n",
    "await asyncio.sleep(2)\n",
    "\n",
    "# Apply a constant PWM signal for enough time to reach steady state (constant speed)\n",
    "rc.move_forward([50, 50], 0, 0) # PWM: 100, 0: forward, 0: do PID (no PWM adjustment)\n",
    "\n",
    "# await asyncio.sleep(10) # start with 5 seconds but make it longer if needed\n",
    "# rc.stop()\n",
    "# await asyncio.sleep(2)\n",
    "\n",
    "# # Ping robot to stop writing PWM values to the characteristic\n",
    "# rc.pingRobot()"
   ]
  },
  {
   "cell_type": "code",
   "execution_count": 43,
   "metadata": {},
   "outputs": [],
   "source": [
    "rc.pingRobot(clearAllDone = 1) # reset the robot to its initial state\n",
    "rc.stop()"
   ]
  },
  {
   "cell_type": "code",
   "execution_count": 57,
   "metadata": {},
   "outputs": [
    {
     "data": {
      "text/plain": [
       "[(0.0, 1648256860.436131),\n",
       " (0.0, 1648256860.496119),\n",
       " (0.0, 1648256860.5260742),\n",
       " (0.0, 1648256860.556329),\n",
       " (0.0, 1648256860.601656),\n",
       " (0.0, 1648256860.631673),\n",
       " (0.0, 1648256860.675951),\n",
       " (0.0, 1648256860.691065),\n",
       " (0.0, 1648256860.7210329),\n",
       " (0.0, 1648256860.751355),\n",
       " (0.0, 1648256860.781125),\n",
       " (0.0, 1648256860.8109372),\n",
       " (0.0, 1648256860.841326),\n",
       " (0.0, 1648256860.8709881),\n",
       " (0.0, 1648256860.9161012),\n",
       " (0.0, 1648256860.9460402),\n",
       " (0.0, 1648256860.976086),\n",
       " (0.0, 1648256861.005902),\n",
       " (0.0, 1648256861.0364878),\n",
       " (0.0, 1648256861.081082),\n",
       " (0.0, 1648256861.1119611),\n",
       " (0.0, 1648256861.1559942),\n",
       " (0.0, 1648256861.186294),\n",
       " (0.0, 1648256861.20261),\n",
       " (0.0, 1648256861.2317529),\n",
       " (0.0, 1648256861.2759318),\n",
       " (0.0, 1648256861.291379),\n",
       " (0.0, 1648256861.336906),\n",
       " (0.0, 1648256861.366144),\n",
       " (0.0, 1648256861.3967202),\n",
       " (0.0, 1648256861.4268422),\n",
       " (0.0, 1648256861.45595),\n",
       " (0.0, 1648256861.487026),\n",
       " (0.0, 1648256861.516879),\n",
       " (0.0, 1648256861.546361),\n",
       " (0.0, 1648256861.591943),\n",
       " (0.0, 1648256861.607247),\n",
       " (0.0, 1648256861.651458),\n",
       " (0.0, 1648256861.681772),\n",
       " (0.0, 1648256861.7118452),\n",
       " (0.0, 1648256861.7416909),\n",
       " (0.0, 1648256861.771787),\n",
       " (0.0, 1648256861.801549),\n",
       " (0.0, 1648256861.831507),\n",
       " (0.0, 1648256861.861907),\n",
       " (0.0, 1648256861.891763),\n",
       " (0.0, 1648256861.921776),\n",
       " (0.0, 1648256861.951516),\n",
       " (0.0, 1648256861.981677),\n",
       " (0.0, 1648256862.011772),\n",
       " (0.0, 1648256862.0418391),\n",
       " (0.0, 1648256862.07132),\n",
       " (0.0, 1648256862.101464),\n",
       " (0.0, 1648256862.131823),\n",
       " (0.0, 1648256862.161869),\n",
       " (0.0, 1648256862.1918652),\n",
       " (0.0, 1648256862.221765),\n",
       " (0.0, 1648256862.26663),\n",
       " (0.0, 1648256862.2970319),\n",
       " (0.0, 1648256862.341913),\n",
       " (0.0, 1648256862.357165),\n",
       " (0.0, 1648256862.386633),\n",
       " (0.0, 1648256862.417016),\n",
       " (0.0, 1648256862.446839),\n",
       " (0.0, 1648256862.491883),\n",
       " (0.0, 1648256862.5216699),\n",
       " (0.0, 1648256862.5517051),\n",
       " (0.0, 1648256862.597009),\n",
       " (0.0, 1648256862.6269581),\n",
       " (0.0, 1648256862.656537),\n",
       " (0.0, 1648256862.7018418),\n",
       " (0.0, 1648256862.747082),\n",
       " (0.0, 1648256862.7766788),\n",
       " (0.0, 1648256862.821271),\n",
       " (0.0, 1648256862.866913),\n",
       " (0.0, 1648256862.897202),\n",
       " (0.0, 1648256862.9416451),\n",
       " (0.0, 1648256862.971711),\n",
       " (0.0, 1648256863.00193),\n",
       " (0.0, 1648256863.03185),\n",
       " (0.0, 1648256863.076573),\n",
       " (0.0, 1648256863.106577),\n",
       " (0.0, 1648256863.136781),\n",
       " (0.0, 1648256863.18194),\n",
       " (0.0, 1648256863.211854),\n",
       " (0.0, 1648256863.256885),\n",
       " (0.0, 1648256863.301984),\n",
       " (0.0, 1648256863.331529),\n",
       " (0.0, 1648256863.361774),\n",
       " (0.0, 1648256863.391634),\n",
       " (0.0, 1648256863.4217331),\n",
       " (0.0, 1648256863.451136),\n",
       " (0.0, 1648256863.4960902),\n",
       " (0.0, 1648256863.526089),\n",
       " (0.0, 1648256863.5711942),\n",
       " (0.0, 1648256863.601653),\n",
       " (0.0, 1648256863.646983),\n",
       " (0.0, 1648256863.676136),\n",
       " (0.0, 1648256863.72097),\n",
       " (0.0, 1648256863.75107),\n",
       " (0.0, 1648256863.7810729),\n",
       " (0.0, 1648256863.811112),\n",
       " (0.0, 1648256863.841068),\n",
       " (0.0, 1648256863.886127),\n",
       " (0.0, 1648256863.916157),\n",
       " (0.0, 1648256863.961366),\n",
       " (0.0, 1648256864.006142),\n",
       " (0.0, 1648256864.036541),\n",
       " (0.0, 1648256864.0660548),\n",
       " (0.0, 1648256864.1112058),\n",
       " (0.0, 1648256864.1410382),\n",
       " (0.0, 1648256864.186974),\n",
       " (0.0, 1648256864.2167838),\n",
       " (0.0, 1648256864.26122),\n",
       " (0.0, 1648256864.3070562),\n",
       " (0.0, 1648256864.336056),\n",
       " (0.0, 1648256864.381797),\n",
       " (0.0, 1648256864.411627),\n",
       " (0.0, 1648256864.4410481),\n",
       " (0.0, 1648256864.4866219),\n",
       " (0.0, 1648256864.516057)]"
      ]
     },
     "execution_count": 57,
     "metadata": {},
     "output_type": "execute_result"
    }
   ],
   "source": [
    "rc.kf_tof"
   ]
  },
  {
   "cell_type": "code",
   "execution_count": 56,
   "metadata": {},
   "outputs": [
    {
     "data": {
      "text/plain": [
       "[(450.0, 1648256857.526807),\n",
       " (446.0, 1648256857.58596),\n",
       " (450.0, 1648256857.6911218),\n",
       " (462.0, 1648256857.795959),\n",
       " (454.0, 1648256857.871326),\n",
       " (438.0, 1648256857.97588),\n",
       " (465.0, 1648256858.081324),\n",
       " (445.0, 1648256858.186177),\n",
       " (455.0, 1648256858.276235),\n",
       " (468.0, 1648256858.380936),\n",
       " (462.0, 1648256858.471151),\n",
       " (468.0, 1648256858.5769532),\n",
       " (465.0, 1648256858.6666298),\n",
       " (453.0, 1648256858.756835),\n",
       " (446.0, 1648256858.876787),\n",
       " (472.0, 1648256858.952451),\n",
       " (463.0, 1648256859.0864398),\n",
       " (449.0, 1648256859.146878),\n",
       " (441.0, 1648256859.236234),\n",
       " (460.0, 1648256859.327007),\n",
       " (433.0, 1648256859.431875),\n",
       " (459.0, 1648256859.522399),\n",
       " (455.0, 1648256860.392056),\n",
       " (466.0, 1648256860.510977),\n",
       " (468.0, 1648256860.617179),\n",
       " (493.0, 1648256860.691914),\n",
       " (461.0, 1648256860.796268),\n",
       " (470.0, 1648256860.901021),\n",
       " (456.0, 1648256860.991324),\n",
       " (484.0, 1648256861.096693),\n",
       " (461.0, 1648256861.201946),\n",
       " (457.0, 1648256861.2770472),\n",
       " (475.0, 1648256861.381205),\n",
       " (459.0, 1648256861.4718451),\n",
       " (460.0, 1648256861.6068852),\n",
       " (467.0, 1648256861.6962712),\n",
       " (467.0, 1648256861.7868228),\n",
       " (478.0, 1648256861.877656),\n",
       " (466.0, 1648256861.967032),\n",
       " (476.0, 1648256862.057395),\n",
       " (460.0, 1648256862.1629481),\n",
       " (453.0, 1648256862.266913),\n",
       " (467.0, 1648256862.358088),\n",
       " (477.0, 1648256862.4765608),\n",
       " (475.0, 1648256862.5668192),\n",
       " (433.0, 1648256862.6417768),\n",
       " (467.0, 1648256862.761785),\n",
       " (414.0, 1648256862.837287),\n",
       " (432.0, 1648256862.9569018),\n",
       " (408.0, 1648256863.061572),\n",
       " (404.0, 1648256863.152443),\n",
       " (388.0, 1648256863.2274492),\n",
       " (398.0, 1648256863.302407),\n",
       " (410.0, 1648256863.43663),\n",
       " (427.0, 1648256863.5414631),\n",
       " (424.0, 1648256863.617286),\n",
       " (361.0, 1648256863.721854),\n",
       " (368.0, 1648256863.826442),\n",
       " (358.0, 1648256863.8870149),\n",
       " (352.0, 1648256864.021419),\n",
       " (349.0, 1648256864.111855),\n",
       " (334.0, 1648256864.187287),\n",
       " (314.0, 1648256864.3210921),\n",
       " (357.0, 1648256864.382262),\n",
       " (314.0, 1648256864.5017579)]"
      ]
     },
     "execution_count": 56,
     "metadata": {},
     "output_type": "execute_result"
    }
   ],
   "source": [
    "rc.tof2_readings"
   ]
  },
  {
   "cell_type": "code",
   "execution_count": 49,
   "metadata": {},
   "outputs": [],
   "source": [
    "# Get front ToF sensor output\n",
    "frontTOFData = rc.tof2_readings\n",
    "startTimeTOF = frontTOFData[0][1]\n",
    "\n",
    "# Get KF ToF Sensor output\n",
    "kfTOF = rc.kf_tof\n",
    "startTimeKFTOF = kfTOF[0][1]\n",
    "\n",
    "# Get speed data\n",
    "# format: [ [velocities], [times] ]\n",
    "speedData = distToVelocity(frontTOFData)\n",
    "\n",
    "# Get motor PWM input\n",
    "motorData = rc.motor_readings\n",
    "\n",
    "# Get KF motor PWM\n",
    "kfMotorData = rc.kf_motor_pwm"
   ]
  },
  {
   "cell_type": "code",
   "execution_count": 53,
   "metadata": {},
   "outputs": [
    {
     "data": {
      "image/png": "[encoded data removed]",
      "text/plain": [
       "<Figure size 432x288 with 1 Axes>"
      ]
     },
     "metadata": {
      "needs_background": "light"
     },
     "output_type": "display_data"
    },
    {
     "data": {
      "image/png": "[encoded data removed]",
      "text/plain": [
       "<Figure size 432x288 with 1 Axes>"
      ]
     },
     "metadata": {
      "needs_background": "light"
     },
     "output_type": "display_data"
    },
    {
     "name": "stdout",
     "output_type": "stream",
     "text": [
      "2022-03-25 21:07:12,222 |\u001b[32m INFO     \u001b[0m|: Disconnected from 607452C2-8441-D076-814E-841EB3635426\n"
     ]
    }
   ],
   "source": [
    "# Plot ---\n",
    "\n",
    "# Front ToF Sensor Output\n",
    "plotTOFData = dataForPlot(frontTOFData)\n",
    "plotKFTOFData = dataForPlot(kfTOF)\n",
    "\n",
    "plt.plot([x - startTimeTOF for x in plotTOFData[1]], plotTOFData[0], 'ro')\n",
    "plt.plot([x - startTimeTOF for x in plotKFTOFData[1]], plotKFTOFData[0])\n",
    "\n",
    "plt.title('Kalman Filter vs. Front ToF Sensor')\n",
    "plt.xlim([0, 20])\n",
    "plt.xlabel('Time (sec)')\n",
    "plt.ylabel('Distance (mm)')\n",
    "plt.show()\n",
    "\n",
    "# Motor data\n",
    "plotMotorData = dataForPlot(motorData)\n",
    "startTimeMotor = plotMotorData[1][0]\n",
    "plt.plot([x - startTimeMotor for x in plotMotorData[1]], plotMotorData[0])\n",
    "plt.title('PWM Input Graph')\n",
    "plt.xlabel('Time (sec)')\n",
    "plt.ylabel('PWM Signal Input')\n",
    "plt.show()"
   ]
  },
  {
   "cell_type": "code",
   "execution_count": null,
   "metadata": {},
   "outputs": [],
   "source": []
  },
  {
   "cell_type": "code",
   "execution_count": null,
   "metadata": {},
   "outputs": [],
   "source": []
  },
  {
   "cell_type": "code",
   "execution_count": null,
   "metadata": {},
   "outputs": [],
   "source": []
  },
  {
   "cell_type": "code",
   "execution_count": null,
   "metadata": {},
   "outputs": [],
   "source": []
  },
  {
   "cell_type": "code",
   "execution_count": null,
   "metadata": {},
   "outputs": [],
   "source": []
  },
  {
   "cell_type": "code",
   "execution_count": null,
   "metadata": {},
   "outputs": [],
   "source": []
  },
  {
   "cell_type": "code",
   "execution_count": null,
   "metadata": {},
   "outputs": [],
   "source": []
  },
  {
   "cell_type": "code",
   "execution_count": null,
   "metadata": {},
   "outputs": [],
   "source": []
  },
  {
   "cell_type": "code",
   "execution_count": null,
   "metadata": {},
   "outputs": [],
   "source": []
  }
 ],
 "metadata": {
  "kernelspec": {
   "display_name": "Python 3",
   "language": "python",
   "name": "python3"
  },
  "language_info": {
   "codemirror_mode": {
    "name": "ipython",
    "version": 3
   },
   "file_extension": ".py",
   "mimetype": "text/x-python",
   "name": "python",
   "nbconvert_exporter": "python",
   "pygments_lexer": "ipython3",
   "version": "3.8.3"
  }
 },
 "nbformat": 4,
 "nbformat_minor": 4
}
