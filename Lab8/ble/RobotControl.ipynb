{
 "cells": [
  {
   "cell_type": "code",
   "execution_count": 2,
   "metadata": {},
   "outputs": [],
   "source": [
    "%load_ext autoreload\n",
    "%autoreload 2\n",
    "\n",
    "from ble import get_ble_controller\n",
    "from base_ble import LOG\n",
    "from cmd_types import CMD\n",
    "from funcs import *\n",
    "from robotClass import *\n",
    "\n",
    "import time\n",
    "import numpy as np\n",
    "import matplotlib.pyplot as plt\n",
    "import asyncio\n",
    "\n",
    "LOG.propagate = False"
   ]
  },
  {
   "cell_type": "markdown",
   "metadata": {},
   "source": [
    "### Lab 8\n"
   ]
  },
  {
   "cell_type": "code",
   "execution_count": 4,
   "metadata": {},
   "outputs": [
    {
     "name": "stdout",
     "output_type": "stream",
     "text": [
      "2022-03-23 15:41:12,495 |\u001b[32m INFO     \u001b[0m|: Looking for Artemis Nano Peripheral Device: C0:83:B0:6C:9A:3C\n",
      "2022-03-23 15:41:15,488 |\u001b[32m INFO     \u001b[0m|: Connected to C0:83:B0:6C:9A:3C\n"
     ]
    }
   ],
   "source": [
    "# Setup robot\n",
    "rc = setupRobot()"
   ]
  },
  {
   "cell_type": "code",
   "execution_count": 6,
   "metadata": {},
   "outputs": [
    {
     "name": "stdout",
     "output_type": "stream",
     "text": [
      "2022-03-23 15:41:42,101 |\u001b[32m INFO     \u001b[0m|: Disconnected from 607452C2-8441-D076-814E-841EB3635426\n"
     ]
    }
   ],
   "source": [
    "rc.pingRobot(clear = True, startX = 500)"
   ]
  },
  {
   "cell_type": "code",
   "execution_count": null,
   "metadata": {},
   "outputs": [],
   "source": [
    "# Ping robot to start writing PWM values to the characteristic\n",
    "rc.pingRobot(clear = True) #startX = 1000\n",
    "rc.updatePID(350, 0.05, 0, 0.75, 1000, 200)\n",
    "\n",
    "# Wait one second\n",
    "await asyncio.sleep(2)\n",
    "\n",
    "# Apply a constant PWM signal for enough time to reach steady state (constant speed)\n",
    "rc.move_forward([50, 50], 0, 0) # PWM: 100, 0: forward, 0: do PID (no PWM adjustment)\n",
    "await asyncio.sleep(10) # start with 5 seconds but make it longer if needed\n",
    "rc.stop()\n",
    "await asyncio.sleep(2)\n",
    "\n",
    "# Ping robot to stop writing PWM values to the characteristic\n",
    "rc.pingRobot()"
   ]
  },
  {
   "cell_type": "code",
   "execution_count": null,
   "metadata": {},
   "outputs": [],
   "source": [
    "# Get front ToF sensor output\n",
    "frontTOFData = rc.tof2_readings\n",
    "startTimeTOF = frontTOFData[0][1]\n",
    "\n",
    "# Get KF ToF Sensor output\n",
    "kfTOF = rc.kf_tof\n",
    "startTimeKFTOF = kfTOF[0][1]\n",
    "\n",
    "# Get speed data\n",
    "# format: [ [velocities], [times] ]\n",
    "speedData = distToVelocity(frontTOFData)\n",
    "\n",
    "# Get motor PWM input\n",
    "motorData = rc.motor_readings\n",
    "\n",
    "# Get KF motor PWM\n",
    "kfMotorData = rc.kf_motor_pwm"
   ]
  },
  {
   "cell_type": "code",
   "execution_count": null,
   "metadata": {},
   "outputs": [],
   "source": [
    "# Plot ---\n",
    "\n",
    "# Front ToF Sensor Output\n",
    "plotTOFData = dataForPlot(frontTOFData)\n",
    "plotKFTOFData = dataForPlot(kfTOF)\n",
    "\n",
    "plt.plot([x - startTimeTOF for x in plotTOFData[1]], plotTOFData[0], 'ro')\n",
    "plt.plot([x - startTimeTOF for x in plotKFTOFData[1]], plotKFTOFData[0])\n",
    "\n",
    "plt.title('Kalman Filter vs. Front ToF Sensor')\n",
    "plt.xlim([0, 20])\n",
    "plt.xlabel('Time (sec)')\n",
    "plt.ylabel('Distance (mm)')\n",
    "plt.show()\n",
    "\n",
    "# Motor data\n",
    "plotMotorData = dataForPlot(motorData)\n",
    "startTimeMotor = plotMotorData[1][0]\n",
    "plt.plot([x - startTimeMotor for x in plotMotorData[1]], plotMotorData[0])\n",
    "plt.title('PWM Input Graph')\n",
    "plt.xlabel('Time (sec)')\n",
    "plt.ylabel('PWM Signal Input')\n",
    "plt.show()"
   ]
  },
  {
   "cell_type": "code",
   "execution_count": null,
   "metadata": {},
   "outputs": [],
   "source": []
  },
  {
   "cell_type": "code",
   "execution_count": null,
   "metadata": {},
   "outputs": [],
   "source": []
  },
  {
   "cell_type": "code",
   "execution_count": null,
   "metadata": {},
   "outputs": [],
   "source": []
  },
  {
   "cell_type": "code",
   "execution_count": null,
   "metadata": {},
   "outputs": [],
   "source": []
  },
  {
   "cell_type": "code",
   "execution_count": null,
   "metadata": {},
   "outputs": [],
   "source": []
  },
  {
   "cell_type": "code",
   "execution_count": null,
   "metadata": {},
   "outputs": [],
   "source": []
  },
  {
   "cell_type": "code",
   "execution_count": null,
   "metadata": {},
   "outputs": [],
   "source": []
  },
  {
   "cell_type": "code",
   "execution_count": null,
   "metadata": {},
   "outputs": [],
   "source": []
  },
  {
   "cell_type": "code",
   "execution_count": null,
   "metadata": {},
   "outputs": [],
   "source": []
  }
 ],
 "metadata": {
  "kernelspec": {
   "display_name": "Python 3 (ipykernel)",
   "language": "python",
   "name": "python3"
  },
  "language_info": {
   "codemirror_mode": {
    "name": "ipython",
    "version": 3
   },
   "file_extension": ".py",
   "mimetype": "text/x-python",
   "name": "python",
   "nbconvert_exporter": "python",
   "pygments_lexer": "ipython3",
   "version": "3.9.10"
  }
 },
 "nbformat": 4,
 "nbformat_minor": 4
}
