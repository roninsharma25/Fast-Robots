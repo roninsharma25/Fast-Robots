{
 "cells": [
  {
   "cell_type": "markdown",
   "metadata": {},
   "source": [
    "### This notebook contains skeleton code, and discusses some ideas on how to approach the problem of designing a robot control architecuture using BLE.\n",
    "\n",
    "# A Robot Control Class\n",
    "Classes provide a means of bundling data and functionality together. It helps organize your thoughts and your code. \n",
    "\n",
    "Below is the skeleton of one possible class structure to deal with robot communication. You do not have to use the exact same structure, it merely serves as a reference."
   ]
  },
  {
   "cell_type": "code",
   "execution_count": null,
   "metadata": {},
   "outputs": [],
   "source": [
    "%load_ext autoreload\n",
    "%autoreload 2\n",
    "\n",
    "from ble import get_ble_controller\n",
    "from base_ble import LOG\n",
    "from cmd_types import CMD\n",
    "import time\n",
    "import numpy as np\n",
    "import matplotlib.pyplot as plt\n",
    "import asyncio\n",
    "\n",
    "LOG.propagate = False"
   ]
  },
  {
   "cell_type": "code",
   "execution_count": null,
   "metadata": {},
   "outputs": [],
   "source": [
    "class RobotControl():\n",
    "    # Initialize Function\n",
    "    def __init__(self, ble):\n",
    "        self.ble = ble\n",
    "        \n",
    "        # A variable to store the latest sensor value\n",
    "        self.latest_tof_front_reading = None\n",
    "        self.latest_tof_side_reading = None\n",
    "        \n",
    "        # A list to store the history of all the sensor values\n",
    "        # Each item in the list is a tuple (value, time)\n",
    "        # WARNING: The list could grow really fast; you need to deal with this accordingly.\n",
    "        self.tof_readings = []\n",
    "        self.tof2_readings = []\n",
    "        \n",
    "        self.imu_readings = []\n",
    "        \n",
    "        self.motor_readings = []\n",
    "        \n",
    "        # A variable to store the latest imu reading\n",
    "        self.latest_imu_reading = None\n",
    "        \n",
    "        # Activate notifications (if required)\n",
    "        self.setup_notify()\n",
    "    \n",
    "    # A function to activate various notifications (if required)\n",
    "    def setup_notify(self):\n",
    "        # Code to setup various notify events\n",
    "        # Ex:\n",
    "        # ble.start_notify(ble.uuid['RX_TOF2'], self.tof_callback_handler)\n",
    "        # ble.start_notify(ble.uuid['RX_FANCY_SENSOR'], self.fancy_sensor_callback_handler)\n",
    "        self.ble.start_notify(self.ble.uuid['RX_TOF1'], self.tof_callback_handler)\n",
    "        self.ble.start_notify(self.ble.uuid['RX_TOF2'], self.tof2_callback_handler)\n",
    "        self.ble.start_notify(self.ble.uuid['RX_IMU'], self.imu_callback_handler)\n",
    "        self.ble.start_notify(self.ble.uuid['RX_MOTOR'], self.motor_callback_handler)\n",
    "    \n",
    "    def stop_notify(self, sensor):\n",
    "        self.ble.stop_notify(ble.uuid[f'RX_{sensor}'])\n",
    "        \n",
    "    # An example function callback handler for storing the history of the tof sensor\n",
    "    # Your callback handlers should perform minimal processing!\n",
    "    # Do not add a receive_* function inside the callback handler, it defeats the purpose of BLE notify\n",
    "    def tof_callback_handler(self, uuid, byte_array):\n",
    "        # Append a tuple (value, time) to a list\n",
    "        self.tof_readings.append( ( self.ble.bytearray_to_float(byte_array), time.time() ) )\n",
    "        #self.update_tof_readings()\n",
    "    \n",
    "    def tof2_callback_handler(self, uuid, byte_array):\n",
    "        # Append a tuple (value, time) to a list\n",
    "        self.tof2_readings.append( ( self.ble.bytearray_to_float(byte_array), time.time() ) )\n",
    "        #self.update_tof2_readings()\n",
    "    \n",
    "    def imu_callback_handler(self, uuid, byte_array):\n",
    "        self.imu_readings.append( ( self.ble.bytearray_to_float(byte_array), time.time() ) )\n",
    "        #self.update_imu_readings()\n",
    "    \n",
    "    def motor_callback_handler(self, uuid, byte_array):\n",
    "        self.motor_readings.append( ( self.ble.bytearray_to_float(byte_array), time.time() ) )\n",
    "    \n",
    "    def update_imu_readings(self):\n",
    "        if len(self.imu_readings) > 10000:\n",
    "            self.imu_readings = self.imu_readings[-10000:]\n",
    "    \n",
    "    def update_tof_readings(self):\n",
    "        if len(self.tof_readings) > 10000:\n",
    "            self.tof_readings = self.tof_readings[-10000:]\n",
    "    \n",
    "    def update_tof2_readings(self):\n",
    "        if len(self.tof2_readings) > 10000:\n",
    "            self.tof2_readings = self.tof2_readings[-10000:]\n",
    "    \n",
    "    # An example function to fetch the front TOF sensor reading\n",
    "    # Here we assume RX_TOF1 is a valid UUID defined in connection.yaml and\n",
    "    # in the Arduino code as well\n",
    "    def get_front_tof(self):\n",
    "        self.latest_tof_front_reading = self.ble.receive_float(self.ble.uuid['RX_TOF2'])\n",
    "        print(self.latest_tof_front_reading)\n",
    "    \n",
    "    def get_side_tof(self):\n",
    "        self.latest_tof_side_reading = self.ble.receive_float(self.ble.uuid['RX_TOF1'])\n",
    "        print(self.latest_tof_side_reading)\n",
    "    \n",
    "    # An example function to fetch the IMU readings as a string\n",
    "    # Here we assume RX_IMU is a valid UUID defined in connection.yaml and\n",
    "    # in the Arduino code as well\n",
    "    def get_imu(self):\n",
    "        self.ble.send_command(CMD.GET_IMU, '')\n",
    "        self.latest_imu_reading = self.ble.receive_float(self.ble.uuid['RX_IMU'])\n",
    "        \n",
    "        print(self.latest_imu_reading)\n",
    "    \n",
    "    # A function to instruct the robot to move forward\n",
    "    def move_forward(self, speed, forward, doPID = 0):\n",
    "        # Code to move forward\n",
    "        # Ex: \n",
    "        # Here we assume the command is defined in cmd_types.py and \n",
    "        # the Artemis is programmed to handle it accordingly\n",
    "        # ble.send_command(CMD.MOVE_FORWARD, speed)\n",
    "        \n",
    "        \"\"\"\n",
    "        speed: two element list ([motor1Speed, motor2Speed])\n",
    "        time: duration of robot movement in seconds\n",
    "        forward:\n",
    "        doPID: 0 when PID should be done and 1 otherwise\n",
    "        \"\"\"\n",
    "        self.tof_readings = []\n",
    "        self.tof2_readings = []\n",
    "        \n",
    "        self.ble.send_command(CMD.MOVE_FORWARD, f'{speed[0]}|{speed[1]}|{forward}|{doPID}')\n",
    "    \n",
    "    # A function to stop robot motion\n",
    "    def stop(self):\n",
    "        # Code to stop robot motion\n",
    "        self.ble.send_command(CMD.STOP_ROBOT, '')\n",
    "    \n",
    "    # A function to instruct the robot to update PID constants\n",
    "    def updatePID(self, setpoint, k_p, k_i, k_d):\n",
    "        self.ble.send_command(CMD.UPDATE_PID, f'{setpoint}|{k_p}|{k_i}|{k_d}')"
   ]
  },
  {
   "cell_type": "markdown",
   "metadata": {},
   "source": [
    "### You can now use such a class to control your robot"
   ]
  },
  {
   "cell_type": "code",
   "execution_count": null,
   "metadata": {},
   "outputs": [],
   "source": [
    "# Get ArtemisBLEController object\n",
    "ble = get_ble_controller()\n",
    "\n",
    "# Connect to the Artemis Device\n",
    "ble.connect()\n",
    "\n",
    "# Instantiate RobotControl class\n",
    "rc = RobotControl(ble)"
   ]
  },
  {
   "cell_type": "code",
   "execution_count": null,
   "metadata": {},
   "outputs": [],
   "source": [
    "startingSpeed = 75\n",
    "rc.updatePID(300, 0.35, 0.00001, 0.75)"
   ]
  },
  {
   "cell_type": "code",
   "execution_count": null,
   "metadata": {},
   "outputs": [],
   "source": [
    "rc.move_forward([startingSpeed, startingSpeed], 0)\n",
    "await asyncio.sleep(10)\n",
    "rc.stop()"
   ]
  },
  {
   "cell_type": "code",
   "execution_count": null,
   "metadata": {},
   "outputs": [],
   "source": [
    "# Move backward after a test\n",
    "rc.move_forward([100, 100], 1, 1) # 0 to go forward and 1 not to do PID\n",
    "await asyncio.sleep(3)\n",
    "rc.stop()"
   ]
  },
  {
   "cell_type": "code",
   "execution_count": null,
   "metadata": {},
   "outputs": [],
   "source": []
  },
  {
   "cell_type": "code",
   "execution_count": null,
   "metadata": {},
   "outputs": [],
   "source": [
    "file = 'trial102_motor.txt'\n",
    "with open(file, 'w') as f:\n",
    "    for item in rc.tof_readings:\n",
    "        f.write(str(item))\n",
    "        f.write(\"\\n\")"
   ]
  },
  {
   "cell_type": "code",
   "execution_count": null,
   "metadata": {
    "scrolled": false
   },
   "outputs": [],
   "source": [
    "def plot(x):\n",
    "    start_time = x[0][1]\n",
    "    plt.plot([(x[i][1] - start_time) for i in range(len(x))], [x[i][0] for i in range(len(x))])\n",
    "    plt.title('Front ToF Sensor Reading (mm) vs. Time (msec)')\n",
    "    plt.xlim([0, 0.032])\n",
    "plot(rc.tof2_readings)"
   ]
  },
  {
   "cell_type": "code",
   "execution_count": null,
   "metadata": {},
   "outputs": [],
   "source": []
  },
  {
   "cell_type": "code",
   "execution_count": null,
   "metadata": {},
   "outputs": [],
   "source": [
    "def processRunData(file):\n",
    "    with open(file, 'r') as f:\n",
    "        x = f.read().splitlines()\n",
    "    \n",
    "    calculate = False\n",
    "    comma = x[0].index(\",\")\n",
    "    oldSensorValue = float(x[0][1:comma])\n",
    "    oldTimeValue = float(x[0][comma+2:-1])\n",
    "\n",
    "    for val in x[1:]:\n",
    "\n",
    "        comma = val.index(\",\")\n",
    "        newSensorValue = float(val[1:comma])\n",
    "        newTimeValue = float(val[comma+2:-1])\n",
    "\n",
    "        #print(newTimeValue-oldTimeValue)\n",
    "\n",
    "        if (newTimeValue - oldTimeValue) > 0.01:\n",
    "            timeDelta = newTimeValue - oldTimeValue\n",
    "            sensorDelta = newSensorValue - oldSensorValue\n",
    "            \n",
    "            speed = sensorDelta/(timeDelta * 1000) # convert mm/s to m/s\n",
    "            if speed > 0:\n",
    "                print(f'{speed} m/s')\n",
    "\n",
    "            oldTimeValue = newTimeValue\n",
    "            oldSensorValue = newSensorValue"
   ]
  },
  {
   "cell_type": "code",
   "execution_count": null,
   "metadata": {},
   "outputs": [],
   "source": [
    "#files = ['trial60_15.txt', '300+2x.txt', '300+2x_2.txt', 'trial10.txt', \n",
    "files=[         'trial30.txt', 'trial31.txt', 'trial32.txt']\n",
    "\n",
    "for file in files:\n",
    "    print(file)\n",
    "    processRunData(file)\n",
    "    print(\"\\n\")"
   ]
  },
  {
   "cell_type": "code",
   "execution_count": null,
   "metadata": {},
   "outputs": [],
   "source": []
  },
  {
   "cell_type": "markdown",
   "metadata": {},
   "source": [
    "### Lab 7"
   ]
  },
  {
   "cell_type": "markdown",
   "metadata": {},
   "source": [
    "***KF essentially interpolates ToF Sensor Data***"
   ]
  },
  {
   "cell_type": "code",
   "execution_count": 4,
   "metadata": {},
   "outputs": [],
   "source": [
    "# A = [ \n",
    "#         [ 0    1   ]\n",
    "#         [ 0   -d/m ]\n",
    "#     ]\n",
    "    \n",
    "# B = [ \n",
    "#         0\n",
    "#         1/m\n",
    "#     ]\n",
    "\n",
    "# C = [ 1 0 ]"
   ]
  },
  {
   "cell_type": "markdown",
   "metadata": {},
   "source": [
    "***For these parts, plot the PWM step function (PWM vs. time), front ToF sensor distance vs. time and speed vs. time***\n",
    "\n",
    "-Find d: At steady state (constant speed), we can find d = u / x dot\n",
    "\n",
    "    -u is the PWM signal value\n",
    "        -Since we're analying the unit step response, we scale this to 1 for now (we are supposed to use the max PWM value from lab 6)\n",
    "    -x dot is the steady state speed\n",
    "    \n",
    "    ***d = 1 / steady state speed\n",
    "    \n",
    "    -Lecture example:\n",
    "        -Steady state speed: 2000 mm/s \n",
    "\n",
    "\n",
    "-Find m:\n",
    "    \n",
    "    -Find the 90% rise time\n",
    "    \n",
    "    -m = (-d * t_0.9) / ln(1-0.9)\n",
    "   \n",
    "-dt: time between samples\n",
    "\n",
    "***We did initial analysis by setting u=1, so later scale down the PWM signal value by dividing it by the max value\n",
    "    -Ex: if the max was 120, then one of the KF input arguments should be motor PWM/120***"
   ]
  },
  {
   "cell_type": "code",
   "execution_count": null,
   "metadata": {},
   "outputs": [],
   "source": []
  },
  {
   "cell_type": "code",
   "execution_count": null,
   "metadata": {},
   "outputs": [],
   "source": []
  },
  {
   "cell_type": "code",
   "execution_count": null,
   "metadata": {},
   "outputs": [],
   "source": [
    "def calcRiseTime(data, start, max_, percent = 90):\n",
    "    startTime = data[0][1]\n",
    "    topValue = max_ * percent / 100\n",
    "    for val in data: # data format - [ (motorPWM1, time1), (motorPWM2, time2) ]\n",
    "        # Get the PWM signal\n",
    "        if val[0] >= topValue:\n",
    "            return val[1] - startTime"
   ]
  },
  {
   "cell_type": "code",
   "execution_count": 5,
   "metadata": {},
   "outputs": [],
   "source": [
    "# u is the input (PWM signal)\n",
    "# x dot is velocity\n",
    "# d = u / x dot --- when the robot is moving at a constant speed\n",
    "    # u might need to be the PWM motor value scaled down to [0..1]\n",
    "\n",
    "# m = (-d * t_90%) / ln(1 - 0.9)\n",
    "\n",
    "# A = np.array([ [0, 1], [0, -d/m] ])\n",
    "# B = np.array([ 0, 1/m ])\n",
    "\n",
    "# sigma values\n",
    "# sigma_1 and sigma_2: process noise - trust in modeled position (sigma 1) and speed (sigma 2)\n",
    "    # start with sigma1 = 35 mm and sigma2 = 71 mm/s (or 30 mm/s)\n",
    "        # Every time the robot travels for 1 second, the ToF measurement is 35 mm off\n",
    "            # Correlated with how fast the robot runs - use smaller values are larger speeds\n",
    "# sigma_4: measurement noise --- LARGER VALUE MEANS THERE IS MORE SENSOR ERROR (trusts the sensor data less)\n",
    "    # error of the sensor: 10-30 mm\n",
    "    # sigma4 = square root of value in 10-30"
   ]
  },
  {
   "cell_type": "code",
   "execution_count": null,
   "metadata": {},
   "outputs": [],
   "source": [
    "sig_u=np.array([[sigma_1**2,0],[0,sigma_2**2]]) # We assume uncorrelated noise, therefore a diagonal matrix works.\n",
    "sig_z=np.array([[sigma_4**2]])"
   ]
  },
  {
   "cell_type": "code",
   "execution_count": null,
   "metadata": {},
   "outputs": [],
   "source": []
  },
  {
   "cell_type": "code",
   "execution_count": null,
   "metadata": {},
   "outputs": [],
   "source": []
  },
  {
   "cell_type": "code",
   "execution_count": null,
   "metadata": {},
   "outputs": [],
   "source": []
  },
  {
   "cell_type": "code",
   "execution_count": null,
   "metadata": {},
   "outputs": [],
   "source": [
    "def performKF(data, A, B, n = 2):\n",
    "    x = np.array([[sensorVal],[0]])\n",
    "    \n",
    "    Ad = np.eye(n) + Delta_T * A  # n is the dimension of your state space \n",
    "    Bd = Delta_t * B\n",
    "    \n",
    "    # Use numpy linspace and interp to make data the same size (if needed)\n",
    "    \n",
    "    # loop over data and perform KF\n",
    "    for val in data:\n",
    "        sensorVal = val[0]\n",
    "        timeVal = val[1]\n",
    "        \n",
    "        # STILL NEED TO ADD: sigma, y\n",
    "        kf(timeVal, sigma, sensorVal, y, Ad, Bd)\n",
    "\n",
    "\n",
    "# C = 1 -> measure positive distance from the wall (initial state)\n",
    "def kf(mu, sigma, u, y, A, B, C = np.array([[1, 0]])):\n",
    "\n",
    "    mu_p = A.dot(mu) + B.dot(u) \n",
    "    sigma_p = A.dot(sigma.dot(A.transpose())) + Sigma_u\n",
    "    \n",
    "    y_m = y-C.dot(mu_p)\n",
    "    sigma_m = C.dot(sigma_p.dot(C.transpose())) + Sigma_n\n",
    "    kkf_gain = sigma_p.dot(C.transpose().dot(np.linalg.inv(sigma_m)))\n",
    "\n",
    "    mu = mu_p + kkf_gain.dot(y_m)    \n",
    "    sigma=(np.eye(3)-kkf_gain.dot(C)).dot(sigma_p)\n",
    "\n",
    "    return mu,sigma"
   ]
  },
  {
   "cell_type": "code",
   "execution_count": null,
   "metadata": {},
   "outputs": [],
   "source": []
  },
  {
   "cell_type": "code",
   "execution_count": null,
   "metadata": {},
   "outputs": [],
   "source": []
  },
  {
   "cell_type": "code",
   "execution_count": null,
   "metadata": {},
   "outputs": [],
   "source": []
  },
  {
   "cell_type": "code",
   "execution_count": null,
   "metadata": {},
   "outputs": [],
   "source": []
  },
  {
   "cell_type": "code",
   "execution_count": null,
   "metadata": {},
   "outputs": [],
   "source": [
    "\n",
    "\n",
    "### Move robot forward for 3 secs and get sensor readings ###\n",
    "rc.get_imu()\n",
    "\n",
    "rc.move_forward(50)\n",
    "log.info(\"IMU Reading: \" + str(rc.latest_imu_reading))\n",
    "await time.sleep(3)\n",
    "rc.stop()\n",
    "\n",
    "rc.get_imu()\n",
    "log.info(\"IMU Reading: \" + str(rc.latest_imu_reading))"
   ]
  },
  {
   "cell_type": "markdown",
   "metadata": {},
   "source": [
    "<hr>\n",
    "\n",
    "### There are two possible approaches to reading values from the Artemis board\n",
    "**Approach 1:** Read values explicitly <br>\n",
    "**Approach 2:** Notifications\n",
    "\n",
    "#### You can use a combination of both i.e read some values explicitly and activate notifications for others."
   ]
  },
  {
   "cell_type": "markdown",
   "metadata": {},
   "source": [
    "## Approach 1: Read values explicitly\n",
    "Below is a possible structure to run your robot commands in a loop and explicitly read the sensor values as required. \n",
    "\n",
    "You have more control of your code in this approach. However, the read functions could perform slower in comparison to notify events."
   ]
  },
  {
   "cell_type": "code",
   "execution_count": null,
   "metadata": {},
   "outputs": [],
   "source": [
    "# Add this to the top most cell containing the imports\n",
    "import asyncio\n",
    "\n",
    "\n",
    "while True:\n",
    "    ###### Your code ######\n",
    "    # Ex: Move the robot for 1 sec\n",
    "    # rc.move_forward(50)\n",
    "    # await asyncio.sleep(1)\n",
    "    # rc.stop()\n",
    "    \n",
    "    ###### Read values ######\n",
    "    # rc.get_imu()\n",
    "    # rc.get_front_tof()"
   ]
  },
  {
   "cell_type": "markdown",
   "metadata": {},
   "source": [
    "## Approach 2: Notifications\n",
    "Below is a possible structure to run your robot command in a loop and utilize the notify events. \n",
    "\n",
    "You may have to tweak the sleep time based on how you program your arduino, system OS, system specs, system load and, the number and frequency of notify events. \n",
    "\n",
    "However, you **don't have to worry too much** about this if you keep your notify callback functions light. It becomes an issue only when you have a large number of notify events within a (very) short duration of time."
   ]
  },
  {
   "cell_type": "code",
   "execution_count": null,
   "metadata": {},
   "outputs": [],
   "source": [
    "while True:\n",
    "    ###### Your code ######\n",
    "    # Ex: Move the robot for 1 sec\n",
    "    # rc.move_forward(50)\n",
    "    # await asyncio.sleep(1)\n",
    "    # rc.stop()\n",
    "    \n",
    "    # Process notify events\n",
    "    # Sleep the current execution so that the notify callback functions can run\n",
    "    # The sleep time can be much smaller, but it depends on the OS, hardware specs, number of notify events and the system load\n",
    "    await asyncio.sleep(0.1)"
   ]
  }
 ],
 "metadata": {
  "kernelspec": {
   "display_name": "Python 3 (ipykernel)",
   "language": "python",
   "name": "python3"
  },
  "language_info": {
   "codemirror_mode": {
    "name": "ipython",
    "version": 3
   },
   "file_extension": ".py",
   "mimetype": "text/x-python",
   "name": "python",
   "nbconvert_exporter": "python",
   "pygments_lexer": "ipython3",
   "version": "3.9.10"
  }
 },
 "nbformat": 4,
 "nbformat_minor": 4
}
