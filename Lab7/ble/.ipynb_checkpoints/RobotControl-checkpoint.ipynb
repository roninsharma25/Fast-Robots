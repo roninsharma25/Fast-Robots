{
 "cells": [
  {
   "cell_type": "code",
   "execution_count": 43,
   "metadata": {},
   "outputs": [
    {
     "name": "stdout",
     "output_type": "stream",
     "text": [
      "The autoreload extension is already loaded. To reload it, use:\n",
      "  %reload_ext autoreload\n"
     ]
    }
   ],
   "source": [
    "%load_ext autoreload\n",
    "%autoreload 2\n",
    "\n",
    "from ble import get_ble_controller\n",
    "from base_ble import LOG\n",
    "from cmd_types import CMD\n",
    "from funcs import *\n",
    "from robotClass import *\n",
    "\n",
    "import time\n",
    "import numpy as np\n",
    "import matplotlib.pyplot as plt\n",
    "import asyncio\n",
    "\n",
    "LOG.propagate = False"
   ]
  },
  {
   "cell_type": "code",
   "execution_count": 41,
   "metadata": {},
   "outputs": [],
   "source": []
  },
  {
   "cell_type": "code",
   "execution_count": 42,
   "metadata": {},
   "outputs": [
    {
     "data": {
      "image/png": "[encoded data removed]",
      "text/plain": [
       "<Figure size 432x288 with 1 Axes>"
      ]
     },
     "metadata": {
      "needs_background": "light"
     },
     "output_type": "display_data"
    }
   ],
   "source": [
    "output = processRunData('trial100.txt')\n",
    "plotData = dataForPlot(output)\n",
    "\n",
    "plt.plot(plotData[1], plotData[0])\n",
    "plt.show()"
   ]
  },
  {
   "cell_type": "code",
   "execution_count": 39,
   "metadata": {},
   "outputs": [
    {
     "data": {
      "image/png": "[encoded data removed]",
      "text/plain": [
       "<Figure size 432x288 with 1 Axes>"
      ]
     },
     "metadata": {
      "needs_background": "light"
     },
     "output_type": "display_data"
    }
   ],
   "source": [
    "outputVelocity = distToVelocity(output)\n",
    "plt.plot(outputVelocity[1], outputVelocity[0])\n",
    "plt.show()"
   ]
  },
  {
   "cell_type": "code",
   "execution_count": null,
   "metadata": {},
   "outputs": [],
   "source": []
  },
  {
   "cell_type": "code",
   "execution_count": null,
   "metadata": {},
   "outputs": [],
   "source": []
  },
  {
   "cell_type": "code",
   "execution_count": null,
   "metadata": {},
   "outputs": [],
   "source": [
    "# Get ArtemisBLEController object\n",
    "ble = get_ble_controller()\n",
    "\n",
    "# Connect to the Artemis Device\n",
    "ble.connect()\n",
    "\n",
    "# Instantiate RobotControl class\n",
    "rc = RobotControl(ble)"
   ]
  },
  {
   "cell_type": "code",
   "execution_count": null,
   "metadata": {},
   "outputs": [],
   "source": [
    "startingSpeed = 75\n",
    "rc.updatePID(300, 0.35, 0.00001, 0.75)"
   ]
  },
  {
   "cell_type": "code",
   "execution_count": null,
   "metadata": {},
   "outputs": [],
   "source": [
    "rc.move_forward([startingSpeed, startingSpeed], 0)\n",
    "await asyncio.sleep(10)\n",
    "rc.stop()"
   ]
  },
  {
   "cell_type": "code",
   "execution_count": null,
   "metadata": {},
   "outputs": [],
   "source": [
    "# Move backward after a test\n",
    "rc.move_forward([100, 100], 1, 1) # 0 to go forward and 1 not to do PID\n",
    "await asyncio.sleep(3)\n",
    "rc.stop()"
   ]
  },
  {
   "cell_type": "code",
   "execution_count": null,
   "metadata": {},
   "outputs": [],
   "source": []
  },
  {
   "cell_type": "code",
   "execution_count": null,
   "metadata": {},
   "outputs": [],
   "source": []
  },
  {
   "cell_type": "markdown",
   "metadata": {},
   "source": [
    "### Lab 7"
   ]
  },
  {
   "cell_type": "markdown",
   "metadata": {},
   "source": [
    "***KF essentially interpolates ToF Sensor Data***"
   ]
  },
  {
   "cell_type": "code",
   "execution_count": 4,
   "metadata": {},
   "outputs": [],
   "source": [
    "# A = [ \n",
    "#         [ 0    1   ]\n",
    "#         [ 0   -d/m ]\n",
    "#     ]\n",
    "    \n",
    "# B = [ \n",
    "#         0\n",
    "#         1/m\n",
    "#     ]\n",
    "\n",
    "# C = [ 1 0 ]"
   ]
  },
  {
   "cell_type": "markdown",
   "metadata": {},
   "source": [
    "***For these parts, plot the PWM step function (PWM vs. time), front ToF sensor distance vs. time and speed vs. time***\n",
    "\n",
    "-Find d: At steady state (constant speed), we can find d = u / x dot\n",
    "\n",
    "    -u is the PWM signal value\n",
    "        -Since we're analying the unit step response, we scale this to 1 for now (we are supposed to use the max PWM value from lab 6)\n",
    "    -x dot is the steady state speed\n",
    "    \n",
    "    ***d = 1 / steady state speed\n",
    "    \n",
    "    -Lecture example:\n",
    "        -Steady state speed: 2000 mm/s \n",
    "\n",
    "\n",
    "-Find m:\n",
    "    \n",
    "    -Find the 90% rise time\n",
    "    \n",
    "    -m = (-d * t_0.9) / ln(1-0.9)\n",
    "   \n",
    "-dt: time between samples\n",
    "\n",
    "***We did initial analysis by setting u=1, so later scale down the PWM signal value by dividing it by the max value\n",
    "    -Ex: if the max was 120, then one of the KF input arguments should be motor PWM/120***"
   ]
  },
  {
   "cell_type": "code",
   "execution_count": null,
   "metadata": {},
   "outputs": [],
   "source": []
  },
  {
   "cell_type": "code",
   "execution_count": null,
   "metadata": {},
   "outputs": [],
   "source": []
  },
  {
   "cell_type": "code",
   "execution_count": null,
   "metadata": {},
   "outputs": [],
   "source": []
  },
  {
   "cell_type": "code",
   "execution_count": 5,
   "metadata": {},
   "outputs": [],
   "source": [
    "# u is the input (PWM signal)\n",
    "# x dot is velocity\n",
    "# d = u / x dot --- when the robot is moving at a constant speed\n",
    "    # u might need to be the PWM motor value scaled down to [0..1]\n",
    "\n",
    "# m = (-d * t_90%) / ln(1 - 0.9)\n",
    "\n",
    "# A = np.array([ [0, 1], [0, -d/m] ])\n",
    "# B = np.array([ 0, 1/m ])\n",
    "\n",
    "# sigma values\n",
    "# sigma_1 and sigma_2: process noise - trust in modeled position (sigma 1) and speed (sigma 2)\n",
    "    # start with sigma1 = 35 mm and sigma2 = 71 mm/s (or 30 mm/s)\n",
    "        # Every time the robot travels for 1 second, the ToF measurement is 35 mm off\n",
    "            # Correlated with how fast the robot runs - use smaller values are larger speeds\n",
    "# sigma_4: measurement noise --- LARGER VALUE MEANS THERE IS MORE SENSOR ERROR (trusts the sensor data less)\n",
    "    # error of the sensor: 10-30 mm\n",
    "    # sigma4 = square root of value in 10-30"
   ]
  },
  {
   "cell_type": "code",
   "execution_count": null,
   "metadata": {},
   "outputs": [],
   "source": [
    "sig_u=np.array([[sigma_1**2,0],[0,sigma_2**2]]) # We assume uncorrelated noise, therefore a diagonal matrix works.\n",
    "sig_z=np.array([[sigma_4**2]])"
   ]
  },
  {
   "cell_type": "code",
   "execution_count": null,
   "metadata": {},
   "outputs": [],
   "source": []
  },
  {
   "cell_type": "code",
   "execution_count": null,
   "metadata": {},
   "outputs": [],
   "source": []
  },
  {
   "cell_type": "code",
   "execution_count": null,
   "metadata": {},
   "outputs": [],
   "source": []
  },
  {
   "cell_type": "code",
   "execution_count": null,
   "metadata": {},
   "outputs": [],
   "source": []
  }
 ],
 "metadata": {
  "kernelspec": {
   "display_name": "Python 3 (ipykernel)",
   "language": "python",
   "name": "python3"
  },
  "language_info": {
   "codemirror_mode": {
    "name": "ipython",
    "version": 3
   },
   "file_extension": ".py",
   "mimetype": "text/x-python",
   "name": "python",
   "nbconvert_exporter": "python",
   "pygments_lexer": "ipython3",
   "version": "3.9.10"
  }
 },
 "nbformat": 4,
 "nbformat_minor": 4
}
