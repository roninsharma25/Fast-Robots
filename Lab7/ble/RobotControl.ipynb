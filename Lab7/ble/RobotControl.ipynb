{
 "cells": [
  {
   "cell_type": "code",
   "execution_count": null,
   "metadata": {},
   "outputs": [],
   "source": [
    "%load_ext autoreload\n",
    "%autoreload 2\n",
    "\n",
    "from ble import get_ble_controller\n",
    "from base_ble import LOG\n",
    "from cmd_types import CMD\n",
    "from funcs import *\n",
    "from robotClass import *\n",
    "\n",
    "import time\n",
    "import numpy as np\n",
    "import matplotlib.pyplot as plt\n",
    "import asyncio\n",
    "\n",
    "LOG.propagate = False"
   ]
  },
  {
   "cell_type": "markdown",
   "metadata": {},
   "source": [
    "### Lab 7\n",
    "***KF essentially interpolates ToF Sensor Data***\n"
   ]
  },
  {
   "cell_type": "code",
   "execution_count": null,
   "metadata": {},
   "outputs": [],
   "source": [
    "# Setup robot\n",
    "rc = setupRobot()"
   ]
  },
  {
   "cell_type": "markdown",
   "metadata": {},
   "source": [
    "*Step response*"
   ]
  },
  {
   "cell_type": "code",
   "execution_count": null,
   "metadata": {},
   "outputs": [],
   "source": [
    "# Ping robot to start writing PWM values to the characteristic\n",
    "rc.pingRobot(clear = True)\n",
    "\n",
    "# Wait one second\n",
    "await asyncio.sleep(3)\n",
    "\n",
    "# Apply a constant PWM signal for enough time to reach steady state (constant speed)\n",
    "rc.move_forward([80, 80], 0, 1) # PWM: 100, 0: forward, 1: no PID (no PWM adjustment)\n",
    "await asyncio.sleep(5)\n",
    "rc.stop()\n",
    "await asyncio.sleep(2)\n",
    "\n",
    "# Ping robot to stop writing PWM values to the characteristic\n",
    "rc.pingRobot()"
   ]
  },
  {
   "cell_type": "code",
   "execution_count": null,
   "metadata": {},
   "outputs": [],
   "source": [
    "# Get front ToF sensor output\n",
    "frontTOFData = rc.tof2_readings\n",
    "startTimeTOF = frontTOFData[0][1]\n",
    "\n",
    "# Get speed data\n",
    "# format: [ [velocities], [times] ]\n",
    "speedData = distToVelocity(frontTOFData)\n",
    "\n",
    "# Get motor PWM input\n",
    "motorData = rc.motor_readings"
   ]
  },
  {
   "cell_type": "code",
   "execution_count": null,
   "metadata": {},
   "outputs": [],
   "source": [
    "# Plot all three ---\n",
    "\n",
    "# Front ToF Sensor Output\n",
    "plotTOFData = dataForPlot(frontTOFData)\n",
    "plt.plot([x - startTimeTOF for x in plotTOFData[1]], plotTOFData[0])\n",
    "plt.title('Front ToF Sensor Output')\n",
    "#plt.xlim([0, 10])\n",
    "plt.xlabel('Time (sec)')\n",
    "plt.ylabel('Distance (mm)')\n",
    "plt.show()\n",
    "\n",
    "# Speed data\n",
    "plt.plot(speedData[1], speedData[0])\n",
    "plt.title('Robot Velocity Graph')\n",
    "plt.xlabel('Time (sec)')\n",
    "plt.ylabel('Velocity (mm/sec)')\n",
    "plt.show()\n",
    "\n",
    "# Motor data\n",
    "plotMotorData = dataForPlot(motorData)\n",
    "startTimeMotor = plotMotorData[1][0]\n",
    "plt.plot([x - startTimeMotor for x in plotMotorData[1]], plotMotorData[0])\n",
    "plt.title('PWM Input Graph')\n",
    "plt.xlabel('Time (sec)')\n",
    "plt.ylabel('PWM Signal Input')\n",
    "plt.show()"
   ]
  },
  {
   "cell_type": "code",
   "execution_count": null,
   "metadata": {},
   "outputs": [],
   "source": [
    "# Store the data\n",
    "# Trial 200, 300: not great data\n",
    "# Trial 400: acceptable data\n",
    "    # Steady state velocity = 2000 - velocity graph is roughly flat starting around 6 seconds\n",
    "    # robot officially started moving when the velocity spiked around 4 seconds\n",
    "\n",
    "# Trial 500: repeat PID trial\n",
    "    # rc.updatePID(300, 0.25, 0.000001, 0.75)\n",
    "# Trial 600: other PIID repeat (same values)\n",
    "\n",
    "trial = 600\n",
    "storeData(frontTOFData, f'{trial}_TOFData.txt')\n",
    "storeData(speedData, f'{trial}_velocityData.txt')\n",
    "storeData(motorData, f'{trial}_motorData.txt')"
   ]
  },
  {
   "cell_type": "code",
   "execution_count": null,
   "metadata": {},
   "outputs": [],
   "source": []
  },
  {
   "cell_type": "markdown",
   "metadata": {},
   "source": [
    "Re-obtain PID results"
   ]
  },
  {
   "cell_type": "code",
   "execution_count": null,
   "metadata": {},
   "outputs": [],
   "source": [
    "rc.updatePID(300, 0.25, 0.000001, 0.75)\n",
    "\n",
    "# Ping robot to start writing PWM values to the characteristic\n",
    "rc.pingRobot(clear = True)\n",
    "\n",
    "# Wait one second\n",
    "await asyncio.sleep(1)\n",
    "\n",
    "# Apply a constant PWM signal for enough time to reach steady state (constant speed)\n",
    "rc.move_forward([40, 40], 1, 0) # starting PWM: 40, 1: forward, 0: PID (with PWM adjustment)\n",
    "await asyncio.sleep(5)\n",
    "rc.stop()\n",
    "await asyncio.sleep(2)\n",
    "\n",
    "# Ping robot to stop writing PWM values to the characteristic\n",
    "rc.pingRobot()"
   ]
  },
  {
   "cell_type": "code",
   "execution_count": null,
   "metadata": {},
   "outputs": [],
   "source": [
    "frontTOFData = rc.tof2_readings\n",
    "startTimeTOF = frontTOFData[0][1]\n",
    "\n",
    "# Get speed data\n",
    "# format: [ [velocities], [times] ]\n",
    "speedData = distToVelocity(frontTOFData)\n",
    "\n",
    "# Get motor PWM input\n",
    "motorData = rc.motor_readings"
   ]
  },
  {
   "cell_type": "code",
   "execution_count": null,
   "metadata": {},
   "outputs": [],
   "source": [
    "plotTOFData = dataForPlot(frontTOFData)\n",
    "\n",
    "plt.plot([x - startTimeTOF for x in plotTOFData[1]], plotTOFData[0])\n",
    "plt.title('Front Tof Sensor Output')\n",
    "#plt.xlim([0, 10])\n",
    "plt.xlabel('Time (sec)')\n",
    "plt.ylabel('Distance (mm)')\n",
    "plt.show()"
   ]
  },
  {
   "cell_type": "markdown",
   "metadata": {},
   "source": [
    "Load data prior to creating A and B matrices"
   ]
  },
  {
   "cell_type": "code",
   "execution_count": null,
   "metadata": {},
   "outputs": [],
   "source": [
    "loadedTOFData = processRunData('data/400_TOFData.txt')\n",
    "loadedSpeedData = distToVelocity(loadedTOFData)\n",
    "loadedMotorData = processRunData('data/400_MotorData.txt')"
   ]
  },
  {
   "cell_type": "code",
   "execution_count": null,
   "metadata": {},
   "outputs": [],
   "source": [
    "# Plot all three ---\n",
    "\n",
    "# Front ToF Sensor Output\n",
    "plotTOFData = dataForPlot(loadedTOFData) #frontTOFData)\n",
    "startTimeTOF = loadedTOFData[0][1]\n",
    "\n",
    "plt.plot([x - startTimeTOF for x in plotTOFData[1]], plotTOFData[0])\n",
    "plt.title('Front ToF Sensor Output')\n",
    "#plt.xlim([0, 10])\n",
    "plt.xlabel('Time (sec)')\n",
    "plt.ylabel('Distance (mm)')\n",
    "plt.show()\n",
    "\n",
    "# Speed data\n",
    "plt.plot([x[1] for x in loadedSpeedData], [x[0] for x in loadedSpeedData])\n",
    "plt.title('Robot Velocity Graph')\n",
    "plt.xlabel('Time (sec)')\n",
    "plt.ylabel('Velocity (mm/sec)')\n",
    "plt.show()\n",
    "\n",
    "# # Motor data\n",
    "plotMotorData = dataForPlot(loadedMotorData)\n",
    "startTimeMotor = plotMotorData[1][0]\n",
    "plt.plot([x - startTimeMotor for x in plotMotorData[1]], plotMotorData[0])\n",
    "plt.title('PWM Input Graph')\n",
    "plt.xlabel('Time (sec)')\n",
    "plt.ylabel('PWM Signal Input')\n",
    "plt.show()"
   ]
  },
  {
   "cell_type": "markdown",
   "metadata": {},
   "source": [
    "Create the A and B matrices"
   ]
  },
  {
   "cell_type": "code",
   "execution_count": null,
   "metadata": {},
   "outputs": [],
   "source": [
    "# Obtain the steady state speed and 90% rise time from the graphs\n",
    "# d = 1 / steady state speed\n",
    "d = 1 / 2000"
   ]
  },
  {
   "cell_type": "code",
   "execution_count": null,
   "metadata": {},
   "outputs": [],
   "source": [
    "# Identify the time of the initial spike - when the robot started moving\n",
    "for val in loadedSpeedData:\n",
    "    if val[0] > 20000 and val[1] > 4 and val[1] < 6:\n",
    "        print(val)"
   ]
  },
  {
   "cell_type": "code",
   "execution_count": null,
   "metadata": {},
   "outputs": [],
   "source": [
    "# Identify the 90% mark - occurred at t = 6.810151100158691\n",
    "finalVelocity = 0.90 * 20000\n",
    "\n",
    "for val in loadedSpeedData:\n",
    "    if val[0] > finalVelocity - 10000 and val[0] < finalVelocity + 10000 and val[1] > 6 and val[1] < 7:\n",
    "        print(val)"
   ]
  },
  {
   "cell_type": "code",
   "execution_count": null,
   "metadata": {},
   "outputs": [],
   "source": [
    "t_90 = 6.810151100158691 - 4.2762861251831055\n",
    "t_90"
   ]
  },
  {
   "cell_type": "code",
   "execution_count": null,
   "metadata": {},
   "outputs": [],
   "source": [
    "# np.log = ln\n",
    "m = (-d * t_90) / np.log(1-0.9)\n",
    "m"
   ]
  },
  {
   "cell_type": "code",
   "execution_count": null,
   "metadata": {},
   "outputs": [],
   "source": [
    "A = np.array([ [0, 1], [0, -d/m] ])\n",
    "B = np.array([ [0], [1/m] ])\n",
    "\n",
    "print('A Matrix:\\n', A, '\\n')\n",
    "print('B Matrix:\\n', B)"
   ]
  },
  {
   "cell_type": "code",
   "execution_count": null,
   "metadata": {},
   "outputs": [],
   "source": []
  },
  {
   "cell_type": "markdown",
   "metadata": {},
   "source": [
    "Kalman Filter Sanity Check"
   ]
  },
  {
   "cell_type": "code",
   "execution_count": null,
   "metadata": {},
   "outputs": [],
   "source": [
    "# Load PID data\n",
    "loadedTOFData_PID = processRunData('data/500_TOFData.txt')\n",
    "loadedMotorData_PID = processRunData('data/500_MotorData.txt')\n",
    "\n",
    "kfInputData = [ [ x[0] for x in loadedTOFData_PID[:-6] ], [ x[0] for x in loadedMotorData_PID ] ]"
   ]
  },
  {
   "cell_type": "code",
   "execution_count": null,
   "metadata": {},
   "outputs": [],
   "source": [
    "sig = np.array( [ [5**2, 0], [0, 5**2] ] )\n",
    "\n",
    "sig_u = np.array( [ [10**2, 0], [0, 10**2] ] )\n",
    "sig_z = np.array( [ [20**2] ])\n",
    "\n",
    "Delta_T = loadedTOFData_PID[1][1] - loadedTOFData_PID[0][1]\n",
    "kfOutput = performKF(kfInputData, A, B, sig, sig_u, sig_z, Delta_T, n = 2)"
   ]
  },
  {
   "cell_type": "code",
   "execution_count": null,
   "metadata": {},
   "outputs": [],
   "source": [
    "plt.plot([ x[1] for x in loadedTOFData_PID[:-6] ], [ x[0] for x in loadedTOFData_PID[:-6] ])\n",
    "plt.plot([ x[1] for x in loadedTOFData_PID[:-6] ], [ x[0] for x in kfOutput ] )\n",
    "plt.title('KF vs. Lab 6 PID Data')\n",
    "plt.xlabel('Time (sec)')\n",
    "plt.ylabel('Distance (mm)')\n",
    "plt.show()"
   ]
  },
  {
   "cell_type": "markdown",
   "metadata": {},
   "source": [
    " Repeat using larger values for sig_u, which makes the model process noise larger, which makes the model more closely follow the input data."
   ]
  },
  {
   "cell_type": "code",
   "execution_count": null,
   "metadata": {},
   "outputs": [],
   "source": [
    "sig = np.array( [ [5**2, 0], [0, 5**2] ] )\n",
    "\n",
    "sig_u = np.array( [ [100**2, 0], [0, 100**2] ] )\n",
    "sig_z = np.array( [ [20**2] ])\n",
    "\n",
    "Delta_T = loadedTOFData_PID[1][1] - loadedTOFData_PID[0][1]\n",
    "kfOutput = performKF(kfInputData, A, B, sig, sig_u, sig_z, Delta_T, n = 2)\n",
    "\n",
    "plt.plot([ x[1] for x in loadedTOFData_PID[:-6] ], [ x[0] for x in loadedTOFData_PID[:-6] ])\n",
    "plt.plot([ x[1] for x in loadedTOFData_PID[:-6] ], [ x[0] for x in kfOutput ] )\n",
    "plt.title('KF vs. Lab 6 PID Data')\n",
    "plt.xlabel('Time (sec)')\n",
    "plt.ylabel('Distance (mm)')\n",
    "plt.show()"
   ]
  },
  {
   "cell_type": "markdown",
   "metadata": {},
   "source": [
    " Repeat using larger values for sig_z, which means the sensors have more noise, which means the model will less closely follow the sensors."
   ]
  },
  {
   "cell_type": "code",
   "execution_count": null,
   "metadata": {},
   "outputs": [],
   "source": [
    "sig = np.array( [ [5**2, 0], [0, 5**2] ] )\n",
    "\n",
    "sig_u = np.array( [ [10**2, 0], [0, 10**2] ] )\n",
    "sig_z = np.array( [ [100**2] ])\n",
    "\n",
    "Delta_T = loadedTOFData_PID[1][1] - loadedTOFData_PID[0][1]\n",
    "kfOutput = performKF(kfInputData, A, B, sig, sig_u, sig_z, Delta_T, n = 2)\n",
    "\n",
    "plt.plot([ x[1] for x in loadedTOFData_PID[:-6] ], [ x[0] for x in loadedTOFData_PID[:-6] ])\n",
    "plt.plot([ x[1] for x in loadedTOFData_PID[:-6] ], [ x[0] for x in kfOutput ] )\n",
    "plt.title('KF vs. Lab 6 PID Data')\n",
    "plt.xlabel('Time (sec)')\n",
    "plt.ylabel('Distance (mm)')\n",
    "plt.show()"
   ]
  },
  {
   "cell_type": "code",
   "execution_count": null,
   "metadata": {},
   "outputs": [],
   "source": []
  },
  {
   "cell_type": "markdown",
   "metadata": {},
   "source": [
    "Implement KF on the Arduino (move to bottom later)"
   ]
  },
  {
   "cell_type": "code",
   "execution_count": null,
   "metadata": {},
   "outputs": [],
   "source": [
    "# Setup robot\n",
    "rc = setupRobot()"
   ]
  },
  {
   "cell_type": "code",
   "execution_count": null,
   "metadata": {},
   "outputs": [],
   "source": [
    "# Ping robot to start writing PWM values to the characteristic\n",
    "rc.pingRobot(clear = True) #startX = 1000\n",
    "rc.updatePID(350, 0.05, 0, 0.75, 1000, 200)\n",
    "\n",
    "# Wait one second\n",
    "await asyncio.sleep(2)\n",
    "\n",
    "# Apply a constant PWM signal for enough time to reach steady state (constant speed)\n",
    "rc.move_forward([50, 50], 0, 0) # PWM: 100, 0: forward, 0: do PID (no PWM adjustment)\n",
    "await asyncio.sleep(10) # start with 5 seconds but make it longer if needed\n",
    "rc.stop()\n",
    "await asyncio.sleep(2)\n",
    "\n",
    "# Ping robot to stop writing PWM values to the characteristic\n",
    "rc.pingRobot()"
   ]
  },
  {
   "cell_type": "code",
   "execution_count": null,
   "metadata": {},
   "outputs": [],
   "source": [
    "# Get front ToF sensor output\n",
    "frontTOFData = rc.tof2_readings\n",
    "startTimeTOF = frontTOFData[0][1]\n",
    "\n",
    "# Get KF ToF Sensor output\n",
    "kfTOF = rc.kf_tof\n",
    "startTimeKFTOF = kfTOF[0][1]\n",
    "\n",
    "# Get speed data\n",
    "# format: [ [velocities], [times] ]\n",
    "speedData = distToVelocity(frontTOFData)\n",
    "\n",
    "# Get motor PWM input\n",
    "motorData = rc.motor_readings\n",
    "\n",
    "# Get KF motor PWM\n",
    "kfMotorData = rc.kf_motor_pwm"
   ]
  },
  {
   "cell_type": "code",
   "execution_count": null,
   "metadata": {},
   "outputs": [],
   "source": [
    "# Plot ---\n",
    "\n",
    "# Front ToF Sensor Output\n",
    "plotTOFData = dataForPlot(frontTOFData)\n",
    "plotKFTOFData = dataForPlot(kfTOF)\n",
    "\n",
    "plt.plot([x - startTimeTOF for x in plotTOFData[1]], plotTOFData[0], 'ro')\n",
    "plt.plot([x - startTimeTOF for x in plotKFTOFData[1]], plotKFTOFData[0])\n",
    "\n",
    "plt.title('Kalman Filter vs. Front ToF Sensor')\n",
    "plt.xlim([0, 20])\n",
    "plt.xlabel('Time (sec)')\n",
    "plt.ylabel('Distance (mm)')\n",
    "plt.show()\n",
    "\n",
    "# Motor data\n",
    "plotMotorData = dataForPlot(motorData)\n",
    "startTimeMotor = plotMotorData[1][0]\n",
    "plt.plot([x - startTimeMotor for x in plotMotorData[1]], plotMotorData[0])\n",
    "plt.title('PWM Input Graph')\n",
    "plt.xlabel('Time (sec)')\n",
    "plt.ylabel('PWM Signal Input')\n",
    "plt.show()"
   ]
  },
  {
   "cell_type": "code",
   "execution_count": null,
   "metadata": {},
   "outputs": [],
   "source": []
  },
  {
   "cell_type": "code",
   "execution_count": null,
   "metadata": {},
   "outputs": [],
   "source": []
  },
  {
   "cell_type": "markdown",
   "metadata": {},
   "source": [
    "***For these parts, plot the PWM step function (PWM vs. time), front ToF sensor distance vs. time and speed vs. time***\n",
    "\n",
    "-Find d: At steady state (constant speed), we can find d = u / x dot\n",
    "\n",
    "    -u is the PWM signal value\n",
    "        -Since we're analying the unit step response, we scale this to 1 for now (we are supposed to use the max PWM value from lab 6)\n",
    "    -x dot is the steady state speed\n",
    "    \n",
    "    ***d = 1 / steady state speed\n",
    "    \n",
    "    -Lecture example:\n",
    "        -Steady state speed: 2000 mm/s \n",
    "\n",
    "\n",
    "-Find m:\n",
    "    \n",
    "    -Find the 90% rise time\n",
    "    \n",
    "    -m = (-d * t_0.9) / ln(1-0.9)\n",
    "   \n",
    "-dt: time between samples\n",
    "\n",
    "***We did initial analysis by setting u=1, so later scale down the PWM signal value by dividing it by the max value\n",
    "    -Ex: if the max was 120, then one of the KF input arguments should be motor PWM/120***"
   ]
  },
  {
   "cell_type": "code",
   "execution_count": null,
   "metadata": {},
   "outputs": [],
   "source": []
  },
  {
   "cell_type": "code",
   "execution_count": null,
   "metadata": {},
   "outputs": [],
   "source": []
  },
  {
   "cell_type": "code",
   "execution_count": null,
   "metadata": {},
   "outputs": [],
   "source": []
  },
  {
   "cell_type": "code",
   "execution_count": null,
   "metadata": {},
   "outputs": [],
   "source": [
    "# u is the input (PWM signal)\n",
    "# x dot is velocity\n",
    "# d = u / x dot --- when the robot is moving at a constant speed\n",
    "    # u might need to be the PWM motor value scaled down to [0..1]\n",
    "\n",
    "# m = (-d * t_90%) / ln(1 - 0.9)\n",
    "\n",
    "# A = np.array([ [0, 1], [0, -d/m] ])\n",
    "# B = np.array([ 0, 1/m ])\n",
    "\n",
    "# sigma values\n",
    "# sigma_1 and sigma_2: process noise - trust in modeled position (sigma 1) and speed (sigma 2)\n",
    "    # start with sigma1 = 35 mm and sigma2 = 71 mm/s (or 30 mm/s)\n",
    "        # Every time the robot travels for 1 second, the ToF measurement is 35 mm off\n",
    "            # Correlated with how fast the robot runs - use smaller values at larger speeds\n",
    "# sigma_4: measurement noise --- LARGER VALUE MEANS THERE IS MORE SENSOR ERROR (trusts the sensor data less)\n",
    "    # error of the sensor: 10-30 mm\n",
    "    # sigma4 = square root of value in 10-30"
   ]
  },
  {
   "cell_type": "code",
   "execution_count": null,
   "metadata": {},
   "outputs": [],
   "source": []
  },
  {
   "cell_type": "code",
   "execution_count": null,
   "metadata": {},
   "outputs": [],
   "source": []
  },
  {
   "cell_type": "code",
   "execution_count": null,
   "metadata": {},
   "outputs": [],
   "source": []
  },
  {
   "cell_type": "code",
   "execution_count": null,
   "metadata": {},
   "outputs": [],
   "source": []
  }
 ],
 "metadata": {
  "kernelspec": {
   "display_name": "Python 3 (ipykernel)",
   "language": "python",
   "name": "python3"
  },
  "language_info": {
   "codemirror_mode": {
    "name": "ipython",
    "version": 3
   },
   "file_extension": ".py",
   "mimetype": "text/x-python",
   "name": "python",
   "nbconvert_exporter": "python",
   "pygments_lexer": "ipython3",
   "version": "3.9.10"
  }
 },
 "nbformat": 4,
 "nbformat_minor": 4
}
