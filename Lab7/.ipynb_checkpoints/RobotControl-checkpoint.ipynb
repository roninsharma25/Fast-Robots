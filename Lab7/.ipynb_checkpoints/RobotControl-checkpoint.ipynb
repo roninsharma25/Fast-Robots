{
 "cells": [
  {
   "cell_type": "markdown",
   "metadata": {},
   "source": [
    "### This notebook contains skeleton code, and discusses some ideas on how to approach the problem of designing a robot control architecuture using BLE.\n",
    "\n",
    "# A Robot Control Class\n",
    "Classes provide a means of bundling data and functionality together. It helps organize your thoughts and your code. \n",
    "\n",
    "Below is the skeleton of one possible class structure to deal with robot communication. You do not have to use the exact same structure, it merely serves as a reference."
   ]
  },
  {
   "cell_type": "code",
   "execution_count": 1,
   "metadata": {},
   "outputs": [],
   "source": [
    "%load_ext autoreload\n",
    "%autoreload 2\n",
    "\n",
    "from ble import get_ble_controller\n",
    "from base_ble import LOG\n",
    "from cmd_types import CMD\n",
    "import time\n",
    "import numpy as np\n",
    "import matplotlib.pyplot as plt\n",
    "\n",
    "LOG.propagate = False"
   ]
  },
  {
   "cell_type": "code",
   "execution_count": 68,
   "metadata": {},
   "outputs": [],
   "source": [
    "class RobotControl():\n",
    "    # Initialize Function\n",
    "    def __init__(self, ble):\n",
    "        self.ble = ble\n",
    "        \n",
    "        # A variable to store the latest sensor value\n",
    "        self.latest_tof_front_reading = None\n",
    "        self.latest_tof_side_reading = None\n",
    "        \n",
    "        # A list to store the history of all the sensor values\n",
    "        # Each item in the list is a tuple (value, time)\n",
    "        # WARNING: The list could grow really fast; you need to deal with this accordingly.\n",
    "        self.tof_readings = []\n",
    "        self.tof2_readings = []\n",
    "        \n",
    "        self.imu_readings = []\n",
    "        \n",
    "        # A variable to store the latest imu reading\n",
    "        self.latest_imu_reading = None\n",
    "        \n",
    "        # Activate notifications (if required)\n",
    "        self.setup_notify()\n",
    "    \n",
    "    # A function to activate various notifications (if required)\n",
    "    def setup_notify(self):\n",
    "        # Code to setup various notify events\n",
    "        # Ex:\n",
    "        # ble.start_notify(ble.uuid['RX_TOF2'], self.tof_callback_handler)\n",
    "        # ble.start_notify(ble.uuid['RX_FANCY_SENSOR'], self.fancy_sensor_callback_handler)\n",
    "        self.ble.start_notify(self.ble.uuid['RX_TOF1'], self.tof_callback_handler)\n",
    "        self.ble.start_notify(self.ble.uuid['RX_TOF2'], self.tof2_callback_handler)\n",
    "        self.ble.start_notify(self.ble.uuid['RX_IMU'], self.imu_callback_handler)\n",
    "    \n",
    "    def stop_notify(self, sensor):\n",
    "        self.ble.stop_notify(ble.uuid[f'RX_{sensor}'])\n",
    "        \n",
    "    # An example function callback handler for storing the history of the tof sensor\n",
    "    # Your callback handlers should perform minimal processing!\n",
    "    # Do not add a receive_* function inside the callback handler, it defeats the purpose of BLE notify\n",
    "    def tof_callback_handler(self, uuid, byte_array):\n",
    "        # Append a tuple (value, time) to a list\n",
    "        self.tof_readings.append( ( self.ble.bytearray_to_float(byte_array), time.time() ) )\n",
    "        self.update_tof_readings()\n",
    "    \n",
    "    def tof2_callback_handler(self, uuid, byte_array):\n",
    "        # Append a tuple (value, time) to a list\n",
    "        self.tof2_readings.append( ( self.ble.bytearray_to_float(byte_array), time.time() ) )\n",
    "        self.update_tof2_readings()\n",
    "    \n",
    "    def imu_callback_handler(self, uuid, byte_array):\n",
    "        self.imu_readings.append( ( self.ble.bytearray_to_float(byte_array), time.time() ) )\n",
    "        self.update_imu_readings()\n",
    "    \n",
    "    def update_imu_readings(self):\n",
    "        if len(self.imu_readings) > 10000:\n",
    "            self.imu_readings = self.imu_readings[-10000:]\n",
    "    \n",
    "    def update_tof_readings(self):\n",
    "        if len(self.tof_readings) > 10000:\n",
    "            self.tof_readings = self.tof_readings[-10000:]\n",
    "    \n",
    "    def update_tof2_readings(self):\n",
    "        if len(self.tof2_readings) > 10000:\n",
    "            self.tof2_readings = self.tof2_readings[-10000:]\n",
    "    \n",
    "    # An example function to fetch the front TOF sensor reading\n",
    "    # Here we assume RX_TOF1 is a valid UUID defined in connection.yaml and\n",
    "    # in the Arduino code as well\n",
    "    def get_front_tof(self):\n",
    "        self.latest_tof_front_reading = self.ble.receive_float(self.ble.uuid['RX_TOF2'])\n",
    "        print(self.latest_tof_front_reading)\n",
    "    \n",
    "    def get_side_tof(self):\n",
    "        self.latest_tof_side_reading = self.ble.receive_float(self.ble.uuid['RX_TOF1'])\n",
    "        print(self.latest_tof_side_reading)\n",
    "    \n",
    "    # An example function to fetch the IMU readings as a string\n",
    "    # Here we assume RX_IMU is a valid UUID defined in connection.yaml and\n",
    "    # in the Arduino code as well\n",
    "    def get_imu(self):\n",
    "        self.ble.send_command(CMD.GET_IMU, '')\n",
    "        self.latest_imu_reading = self.ble.receive_float(self.ble.uuid['RX_IMU'])\n",
    "        \n",
    "        print(self.latest_imu_reading)\n",
    "    \n",
    "    # A function to instruct the robot to move forward\n",
    "    def move_forward(self, speed, forward, doPID = 0):\n",
    "        # Code to move forward\n",
    "        # Ex: \n",
    "        # Here we assume the command is defined in cmd_types.py and \n",
    "        # the Artemis is programmed to handle it accordingly\n",
    "        # ble.send_command(CMD.MOVE_FORWARD, speed)\n",
    "        \n",
    "        \"\"\"\n",
    "        speed: two element list ([motor1Speed, motor2Speed])\n",
    "        time: duration of robot movement in seconds\n",
    "        forward:\n",
    "        doPID: 0 when PID should be done and 1 otherwise\n",
    "        \"\"\"\n",
    "        self.tof_readings = []\n",
    "        self.tof2_readings = []\n",
    "        \n",
    "        self.ble.send_command(CMD.MOVE_FORWARD, f'{speed[0]}|{speed[1]}|{forward}|{doPID}')\n",
    "    \n",
    "    # A function to stop robot motion\n",
    "    def stop(self):\n",
    "        # Code to stop robot motion\n",
    "        self.ble.send_command(CMD.STOP_ROBOT, '')\n",
    "    \n",
    "    # A function to instruct the robot to update PID constants\n",
    "    def updatePID(self, setpoint, k_p, k_i, k_d):\n",
    "        self.ble.send_command(CMD.UPDATE_PID, f'{setpoint}|{k_p}|{k_i}|{k_d}')"
   ]
  },
  {
   "cell_type": "markdown",
   "metadata": {},
   "source": [
    "### You can now use such a class to control your robot"
   ]
  },
  {
   "cell_type": "code",
   "execution_count": 161,
   "metadata": {},
   "outputs": [
    {
     "name": "stdout",
     "output_type": "stream",
     "text": [
      "2022-03-15 04:33:00,416 |\u001b[32m INFO     \u001b[0m|: Looking for Artemis Nano Peripheral Device: C0:83:B0:6C:9A:3C\n",
      "2022-03-15 04:33:03,211 |\u001b[32m INFO     \u001b[0m|: Connected to C0:83:B0:6C:9A:3C\n"
     ]
    }
   ],
   "source": [
    "# Get ArtemisBLEController object\n",
    "ble = get_ble_controller()\n",
    "\n",
    "# Connect to the Artemis Device\n",
    "ble.connect()\n",
    "\n",
    "# Instantiate RobotControl class\n",
    "rc = RobotControl(ble)"
   ]
  },
  {
   "cell_type": "code",
   "execution_count": 174,
   "metadata": {},
   "outputs": [],
   "source": [
    "startingSpeed = 75\n",
    "rc.updatePID(300, 0.25, 0, 0.75)"
   ]
  },
  {
   "cell_type": "code",
   "execution_count": 175,
   "metadata": {},
   "outputs": [],
   "source": [
    "rc.move_forward([startingSpeed, startingSpeed], 0)\n",
    "time.sleep(10)\n",
    "rc.stop()"
   ]
  },
  {
   "cell_type": "code",
   "execution_count": 173,
   "metadata": {},
   "outputs": [],
   "source": [
    "# Move backward after a test\n",
    "rc.move_forward([50, 50], 1, 1) # 0 to go forward and 1 not to do PID\n",
    "time.sleep(2)\n",
    "rc.stop()"
   ]
  },
  {
   "cell_type": "code",
   "execution_count": null,
   "metadata": {},
   "outputs": [],
   "source": []
  },
  {
   "cell_type": "code",
   "execution_count": 176,
   "metadata": {},
   "outputs": [
    {
     "data": {
      "text/plain": [
       "[(388.0, 1647333376.1129978),\n",
       " (388.0, 1647333376.1132438),\n",
       " (380.0, 1647333376.113492),\n",
       " (380.0, 1647333376.113832),\n",
       " (380.0, 1647333376.114072),\n",
       " (376.0, 1647333376.114326),\n",
       " (376.0, 1647333376.1145651),\n",
       " (376.0, 1647333376.114828),\n",
       " (376.0, 1647333376.1151118),\n",
       " (379.0, 1647333376.1153312),\n",
       " (400.0, 1647333376.1155388),\n",
       " (400.0, 1647333376.115746),\n",
       " (402.0, 1647333376.115954),\n",
       " (402.0, 1647333376.116161),\n",
       " (402.0, 1647333376.116373),\n",
       " (402.0, 1647333376.116558),\n",
       " (402.0, 1647333376.116725),\n",
       " (394.0, 1647333376.116891),\n",
       " (394.0, 1647333376.117056),\n",
       " (394.0, 1647333376.117232),\n",
       " (401.0, 1647333376.1174002),\n",
       " (401.0, 1647333376.117565),\n",
       " (401.0, 1647333376.1177301),\n",
       " (410.0, 1647333376.117895),\n",
       " (410.0, 1647333376.118061),\n",
       " (410.0, 1647333376.1182332),\n",
       " (403.0, 1647333376.1184),\n",
       " (403.0, 1647333376.1185741),\n",
       " (403.0, 1647333376.118738),\n",
       " (413.0, 1647333376.118902),\n",
       " (413.0, 1647333376.119066),\n",
       " (414.0, 1647333376.11923),\n",
       " (414.0, 1647333376.119395),\n",
       " (414.0, 1647333376.11956),\n",
       " (402.0, 1647333376.119725),\n",
       " (409.0, 1647333376.1198888),\n",
       " (409.0, 1647333376.120053),\n",
       " (405.0, 1647333376.120219),\n",
       " (405.0, 1647333376.120384),\n",
       " (405.0, 1647333376.1205492),\n",
       " (393.0, 1647333376.120714),\n",
       " (393.0, 1647333376.1208808),\n",
       " (409.0, 1647333376.121176),\n",
       " (409.0, 1647333376.1213398),\n",
       " (409.0, 1647333376.121505),\n",
       " (409.0, 1647333376.1216698),\n",
       " (410.0, 1647333376.121834),\n",
       " (410.0, 1647333376.122),\n",
       " (413.0, 1647333376.122166),\n",
       " (413.0, 1647333376.122331),\n",
       " (413.0, 1647333376.12253),\n",
       " (413.0, 1647333376.122696),\n",
       " (412.0, 1647333376.1228611),\n",
       " (412.0, 1647333376.123018),\n",
       " (411.0, 1647333376.12315),\n",
       " (411.0, 1647333376.123282),\n",
       " (411.0, 1647333376.123415),\n",
       " (411.0, 1647333376.1235478),\n",
       " (423.0, 1647333376.12368),\n",
       " (423.0, 1647333376.1240819),\n",
       " (423.0, 1647333376.1243231),\n",
       " (423.0, 1647333376.124465),\n",
       " (431.0, 1647333376.124605),\n",
       " (431.0, 1647333376.1247401),\n",
       " (431.0, 1647333376.1248782),\n",
       " (431.0, 1647333376.125014),\n",
       " (439.0, 1647333376.1251478),\n",
       " (439.0, 1647333376.1252868),\n",
       " (439.0, 1647333376.125421),\n",
       " (423.0, 1647333376.1255848),\n",
       " (423.0, 1647333376.125719),\n",
       " (423.0, 1647333376.1258528),\n",
       " (428.0, 1647333376.125987),\n",
       " (428.0, 1647333376.1261199),\n",
       " (428.0, 1647333376.126404),\n",
       " (416.0, 1647333376.1265569),\n",
       " (416.0, 1647333376.126705),\n",
       " (416.0, 1647333376.126868),\n",
       " (422.0, 1647333376.127012),\n",
       " (422.0, 1647333376.127157),\n",
       " (422.0, 1647333376.127436),\n",
       " (422.0, 1647333376.127594),\n",
       " (451.0, 1647333376.127733),\n",
       " (451.0, 1647333376.127869),\n",
       " (451.0, 1647333376.1280031),\n",
       " (428.0, 1647333376.128139),\n",
       " (428.0, 1647333376.128274),\n",
       " (477.0, 1647333376.1284091),\n",
       " (477.0, 1647333376.128544),\n",
       " (477.0, 1647333376.1286771),\n",
       " (478.0, 1647333376.128812),\n",
       " (478.0, 1647333376.1289458),\n",
       " (478.0, 1647333376.129083),\n",
       " (515.0, 1647333376.12922),\n",
       " (515.0, 1647333376.129354),\n",
       " (515.0, 1647333376.1294878),\n",
       " (515.0, 1647333376.129621),\n",
       " (558.0, 1647333376.129753),\n",
       " (558.0, 1647333376.129886),\n",
       " (558.0, 1647333376.1300192),\n",
       " (558.0, 1647333376.130152),\n",
       " (566.0, 1647333376.130285),\n",
       " (566.0, 1647333376.1304178),\n",
       " (587.0, 1647333376.130551),\n",
       " (587.0, 1647333376.130686),\n",
       " (619.0, 1647333376.130819),\n",
       " (619.0, 1647333376.130964),\n",
       " (619.0, 1647333376.131079),\n",
       " (647.0, 1647333376.131196),\n",
       " (647.0, 1647333376.1313128),\n",
       " (647.0, 1647333376.131427),\n",
       " (647.0, 1647333376.131542),\n",
       " (645.0, 1647333376.131656),\n",
       " (645.0, 1647333376.1317708),\n",
       " (645.0, 1647333376.131886),\n",
       " (645.0, 1647333376.132),\n",
       " (663.0, 1647333376.132114),\n",
       " (663.0, 1647333376.132229),\n",
       " (663.0, 1647333376.132343),\n",
       " (629.0, 1647333376.132457),\n",
       " (629.0, 1647333376.132571),\n",
       " (629.0, 1647333376.1326861),\n",
       " (574.0, 1647333376.1328),\n",
       " (574.0, 1647333376.132915),\n",
       " (574.0, 1647333376.1330292),\n",
       " (526.0, 1647333376.1331441),\n",
       " (526.0, 1647333376.133259),\n",
       " (526.0, 1647333376.133373),\n",
       " (485.0, 1647333376.1334898),\n",
       " (485.0, 1647333376.1336079),\n",
       " (485.0, 1647333376.1337228),\n",
       " (485.0, 1647333376.133837),\n",
       " (414.0, 1647333376.133952),\n",
       " (414.0, 1647333376.1340659),\n",
       " (414.0, 1647333376.134182),\n",
       " (353.0, 1647333376.1342962),\n",
       " (353.0, 1647333376.134411),\n",
       " (353.0, 1647333376.134557),\n",
       " (288.0, 1647333376.1346712),\n",
       " (288.0, 1647333376.1347609),\n",
       " (288.0, 1647333376.134851),\n",
       " (216.0, 1647333376.1349409),\n",
       " (216.0, 1647333376.1350698),\n",
       " (216.0, 1647333376.135236),\n",
       " (216.0, 1647333376.135354),\n",
       " (162.0, 1647333376.1354702),\n",
       " (120.0, 1647333376.135586),\n",
       " (120.0, 1647333376.135701),\n",
       " (120.0, 1647333376.1358159),\n",
       " (120.0, 1647333376.1359308),\n",
       " (95.0, 1647333376.1360462),\n",
       " (95.0, 1647333376.136161),\n",
       " (95.0, 1647333376.136276),\n",
       " (88.0, 1647333376.136391),\n",
       " (88.0, 1647333376.136506),\n",
       " (94.0, 1647333376.136621),\n",
       " (94.0, 1647333376.136735),\n",
       " (94.0, 1647333376.1368499),\n",
       " (105.0, 1647333376.136965),\n",
       " (105.0, 1647333376.13708),\n",
       " (105.0, 1647333376.137195),\n",
       " (111.0, 1647333376.13731),\n",
       " (111.0, 1647333376.137428),\n",
       " (111.0, 1647333376.13758),\n",
       " (122.0, 1647333376.137695),\n",
       " (122.0, 1647333376.13781),\n",
       " (122.0, 1647333376.1379251),\n",
       " (122.0, 1647333376.13804),\n",
       " (129.0, 1647333376.138155),\n",
       " (129.0, 1647333376.13827),\n",
       " (139.0, 1647333376.1383848),\n",
       " (139.0, 1647333376.1385002),\n",
       " (139.0, 1647333376.138614),\n",
       " (145.0, 1647333376.138732),\n",
       " (145.0, 1647333376.1388469),\n",
       " (145.0, 1647333376.138964),\n",
       " (145.0, 1647333376.1390789),\n",
       " (151.0, 1647333376.139194),\n",
       " (151.0, 1647333376.1393092),\n",
       " (162.0, 1647333376.139425),\n",
       " (162.0, 1647333376.1395142),\n",
       " (162.0, 1647333376.1396291),\n",
       " (165.0, 1647333376.139744),\n",
       " (165.0, 1647333376.13986),\n",
       " (167.0, 1647333376.1399739),\n",
       " (167.0, 1647333376.140064),\n",
       " (169.0, 1647333376.140178),\n",
       " (169.0, 1647333376.1402931),\n",
       " (166.0, 1647333376.140408),\n",
       " (171.0, 1647333376.140523),\n",
       " (171.0, 1647333376.1406379),\n",
       " (170.0, 1647333376.1407528),\n",
       " (170.0, 1647333376.1408682),\n",
       " (166.0, 1647333376.140983),\n",
       " (167.0, 1647333376.141097),\n",
       " (167.0, 1647333376.1412108),\n",
       " (167.0, 1647333376.141325),\n",
       " (167.0, 1647333376.14144),\n",
       " (167.0, 1647333376.1415539),\n",
       " (167.0, 1647333376.141669),\n",
       " (167.0, 1647333376.141783),\n",
       " (168.0, 1647333376.141898),\n",
       " (168.0, 1647333376.142012),\n",
       " (170.0, 1647333376.142126),\n",
       " (170.0, 1647333376.14224),\n",
       " (167.0, 1647333376.142355),\n",
       " (167.0, 1647333376.14247),\n",
       " (168.0, 1647333376.142584),\n",
       " (168.0, 1647333376.142698),\n",
       " (166.0, 1647333376.142813),\n",
       " (167.0, 1647333376.1429272),\n",
       " (167.0, 1647333376.143042),\n",
       " (169.0, 1647333376.143157),\n",
       " (169.0, 1647333376.143272),\n",
       " (165.0, 1647333376.1433861),\n",
       " (166.0, 1647333376.143501),\n",
       " (165.0, 1647333376.143615),\n",
       " (165.0, 1647333376.14373),\n",
       " (169.0, 1647333376.1438441),\n",
       " (169.0, 1647333376.143959),\n",
       " (167.0, 1647333376.144074),\n",
       " (168.0, 1647333376.144188),\n",
       " (166.0, 1647333376.144303),\n",
       " (167.0, 1647333376.144418),\n",
       " (167.0, 1647333376.144532),\n",
       " (169.0, 1647333376.144647),\n",
       " (169.0, 1647333376.144761),\n",
       " (167.0, 1647333376.144876),\n",
       " (170.0, 1647333376.144991),\n",
       " (170.0, 1647333376.1451058),\n",
       " (166.0, 1647333376.14522),\n",
       " (166.0, 1647333376.145334),\n",
       " (168.0, 1647333376.145449),\n",
       " (168.0, 1647333376.145565),\n",
       " (166.0, 1647333376.14568),\n",
       " (167.0, 1647333376.145795),\n",
       " (167.0, 1647333376.145909),\n",
       " (167.0, 1647333376.146025),\n",
       " (169.0, 1647333376.1461399),\n",
       " (168.0, 1647333376.146255),\n",
       " (168.0, 1647333376.146369),\n",
       " (168.0, 1647333376.146484),\n",
       " (168.0, 1647333376.1465979),\n",
       " (168.0, 1647333376.146712),\n",
       " (168.0, 1647333376.146826),\n",
       " (168.0, 1647333376.14694),\n",
       " (169.0, 1647333376.1470551),\n",
       " (169.0, 1647333376.147168),\n",
       " (167.0, 1647333376.1472828),\n",
       " (167.0, 1647333376.147404),\n",
       " (167.0, 1647333376.201975)]"
      ]
     },
     "execution_count": 176,
     "metadata": {},
     "output_type": "execute_result"
    }
   ],
   "source": [
    "rc.tof2_readings"
   ]
  },
  {
   "cell_type": "code",
   "execution_count": null,
   "metadata": {},
   "outputs": [],
   "source": []
  },
  {
   "cell_type": "code",
   "execution_count": 177,
   "metadata": {},
   "outputs": [],
   "source": [
    "file = 'trial32.txt'\n",
    "with open(file, 'w') as f:\n",
    "    for item in rc.tof2_readings:\n",
    "        f.write(str(item))\n",
    "        f.write(\"\\n\")"
   ]
  },
  {
   "cell_type": "code",
   "execution_count": 183,
   "metadata": {
    "scrolled": false
   },
   "outputs": [
    {
     "data": {
      "image/png": "[encoded data removed]",
      "text/plain": [
       "<Figure size 432x288 with 1 Axes>"
      ]
     },
     "metadata": {
      "needs_background": "light"
     },
     "output_type": "display_data"
    }
   ],
   "source": [
    "def plot(x):\n",
    "    start_time = x[0][1]\n",
    "    plt.plot([(x[i][1] - start_time) for i in range(len(x))], [x[i][0] for i in range(len(x))])\n",
    "    plt.title('Front ToF Sensor Reading (mm) vs. Time (msec)')\n",
    "    plt.xlim([0, 0.032])\n",
    "plot(rc.tof2_readings)"
   ]
  },
  {
   "cell_type": "code",
   "execution_count": null,
   "metadata": {},
   "outputs": [],
   "source": []
  },
  {
   "cell_type": "code",
   "execution_count": null,
   "metadata": {},
   "outputs": [],
   "source": []
  },
  {
   "cell_type": "code",
   "execution_count": null,
   "metadata": {},
   "outputs": [],
   "source": []
  },
  {
   "cell_type": "code",
   "execution_count": null,
   "metadata": {},
   "outputs": [],
   "source": []
  },
  {
   "cell_type": "code",
   "execution_count": 216,
   "metadata": {},
   "outputs": [],
   "source": [
    "def processRunData(file):\n",
    "    with open(file, 'r') as f:\n",
    "        x = f.read().splitlines()\n",
    "    \n",
    "    calculate = False\n",
    "    comma = x[0].index(\",\")\n",
    "    oldSensorValue = float(x[0][1:comma])\n",
    "    oldTimeValue = float(x[0][comma+2:-1])\n",
    "\n",
    "    for val in x[1:]:\n",
    "\n",
    "        comma = val.index(\",\")\n",
    "        newSensorValue = float(val[1:comma])\n",
    "        newTimeValue = float(val[comma+2:-1])\n",
    "\n",
    "        #print(newTimeValue-oldTimeValue)\n",
    "\n",
    "        if (newTimeValue - oldTimeValue) > 0.01:\n",
    "            timeDelta = newTimeValue - oldTimeValue\n",
    "            sensorDelta = newSensorValue - oldSensorValue\n",
    "            \n",
    "            speed = sensorDelta/(timeDelta * 1000) # convert mm/s to m/s\n",
    "            if speed > 0:\n",
    "                print(f'{speed} m/s')\n",
    "\n",
    "            oldTimeValue = newTimeValue\n",
    "            oldSensorValue = newSensorValue"
   ]
  },
  {
   "cell_type": "code",
   "execution_count": 217,
   "metadata": {},
   "outputs": [
    {
     "name": "stdout",
     "output_type": "stream",
     "text": [
      "trial30.txt\n",
      "\n",
      "\n",
      "trial31.txt\n",
      "1.4354714398165578 m/s\n",
      "\n",
      "\n",
      "trial32.txt\n",
      "2.3951483772722946 m/s\n",
      "16.18188254346273 m/s\n",
      "\n",
      "\n"
     ]
    }
   ],
   "source": [
    "#files = ['trial60_15.txt', '300+2x.txt', '300+2x_2.txt', 'trial10.txt', \n",
    "files=[         'trial30.txt', 'trial31.txt', 'trial32.txt']\n",
    "\n",
    "for file in files:\n",
    "    print(file)\n",
    "    processRunData(file)\n",
    "    print(\"\\n\")"
   ]
  },
  {
   "cell_type": "code",
   "execution_count": 285,
   "metadata": {},
   "outputs": [
    {
     "name": "stdout",
     "output_type": "stream",
     "text": [
      "300+2x.txt         \u001b[34m__pycache__\u001b[m\u001b[m        connection.yaml    trial60_15.txt\r\n",
      "300+2x_2.txt       base_ble.py        demo.ipynb         utils.py\r\n",
      "RobotControl.ipynb ble.py             \u001b[34mlogs\u001b[m\u001b[m\r\n",
      "__init__.py        cmd_types.py       trial10.txt\r\n"
     ]
    }
   ],
   "source": [
    "!ls"
   ]
  },
  {
   "cell_type": "code",
   "execution_count": null,
   "metadata": {},
   "outputs": [],
   "source": []
  },
  {
   "cell_type": "code",
   "execution_count": null,
   "metadata": {},
   "outputs": [],
   "source": []
  },
  {
   "cell_type": "code",
   "execution_count": null,
   "metadata": {},
   "outputs": [],
   "source": []
  },
  {
   "cell_type": "code",
   "execution_count": null,
   "metadata": {},
   "outputs": [],
   "source": []
  },
  {
   "cell_type": "code",
   "execution_count": null,
   "metadata": {},
   "outputs": [],
   "source": [
    "rc.ble.send_command(CMD.PING, \"\")"
   ]
  },
  {
   "cell_type": "code",
   "execution_count": null,
   "metadata": {},
   "outputs": [],
   "source": [
    "rc.ble.receive_string(rc.ble.uuid['RX_STRING'])"
   ]
  },
  {
   "cell_type": "code",
   "execution_count": null,
   "metadata": {},
   "outputs": [],
   "source": [
    "time.sleep(5)\n",
    "\n",
    "speed = 80\n",
    "for i in range(5):\n",
    "    rc.move_forward([speed, speed], i % 2)\n",
    "    time.sleep(1)\n",
    "    rc.get_imu()\n",
    "    rc.stop()\n",
    "    time.sleep(2)\n",
    "    speed += 15"
   ]
  },
  {
   "cell_type": "code",
   "execution_count": null,
   "metadata": {},
   "outputs": [],
   "source": [
    "time.sleep(5)\n",
    "\n",
    "for i in range(5):\n",
    "    speed -= 15\n",
    "    \n",
    "    rc.move_forward([speed, speed], i % 2)\n",
    "    time.sleep(1)\n",
    "    rc.get_imu()\n",
    "    rc.stop()\n",
    "    time.sleep(2)"
   ]
  },
  {
   "cell_type": "code",
   "execution_count": null,
   "metadata": {},
   "outputs": [],
   "source": []
  },
  {
   "cell_type": "code",
   "execution_count": 120,
   "metadata": {},
   "outputs": [],
   "source": [
    "rc.move_forward([50, 50], 0, 1)"
   ]
  },
  {
   "cell_type": "code",
   "execution_count": 121,
   "metadata": {},
   "outputs": [],
   "source": [
    "rc.stop()"
   ]
  },
  {
   "cell_type": "code",
   "execution_count": null,
   "metadata": {},
   "outputs": [],
   "source": []
  },
  {
   "cell_type": "code",
   "execution_count": null,
   "metadata": {
    "scrolled": false
   },
   "outputs": [],
   "source": [
    "rc.setup_notify()\n",
    "startTime = time.time()\n",
    "\n",
    "while time.time() - startTime < 1:\n",
    "    time.sleep(0.01)\n",
    "\n",
    "rc.stop_notify('IMU')"
   ]
  },
  {
   "cell_type": "code",
   "execution_count": null,
   "metadata": {},
   "outputs": [],
   "source": [
    "\n",
    "\n",
    "### Move robot forward for 3 secs and get sensor readings ###\n",
    "rc.get_imu()\n",
    "\n",
    "rc.move_forward(50)\n",
    "log.info(\"IMU Reading: \" + str(rc.latest_imu_reading))\n",
    "await time.sleep(3)\n",
    "rc.stop()\n",
    "\n",
    "rc.get_imu()\n",
    "log.info(\"IMU Reading: \" + str(rc.latest_imu_reading))"
   ]
  },
  {
   "cell_type": "markdown",
   "metadata": {},
   "source": [
    "<hr>\n",
    "\n",
    "### There are two possible approaches to reading values from the Artemis board\n",
    "**Approach 1:** Read values explicitly <br>\n",
    "**Approach 2:** Notifications\n",
    "\n",
    "#### You can use a combination of both i.e read some values explicitly and activate notifications for others."
   ]
  },
  {
   "cell_type": "markdown",
   "metadata": {},
   "source": [
    "## Approach 1: Read values explicitly\n",
    "Below is a possible structure to run your robot commands in a loop and explicitly read the sensor values as required. \n",
    "\n",
    "You have more control of your code in this approach. However, the read functions could perform slower in comparison to notify events."
   ]
  },
  {
   "cell_type": "code",
   "execution_count": null,
   "metadata": {},
   "outputs": [],
   "source": [
    "# Add this to the top most cell containing the imports\n",
    "import asyncio\n",
    "\n",
    "\n",
    "while True:\n",
    "    ###### Your code ######\n",
    "    # Ex: Move the robot for 1 sec\n",
    "    # rc.move_forward(50)\n",
    "    # await asyncio.sleep(1)\n",
    "    # rc.stop()\n",
    "    \n",
    "    ###### Read values ######\n",
    "    # rc.get_imu()\n",
    "    # rc.get_front_tof()"
   ]
  },
  {
   "cell_type": "markdown",
   "metadata": {},
   "source": [
    "## Approach 2: Notifications\n",
    "Below is a possible structure to run your robot command in a loop and utilize the notify events. \n",
    "\n",
    "You may have to tweak the sleep time based on how you program your arduino, system OS, system specs, system load and, the number and frequency of notify events. \n",
    "\n",
    "However, you **don't have to worry too much** about this if you keep your notify callback functions light. It becomes an issue only when you have a large number of notify events within a (very) short duration of time."
   ]
  },
  {
   "cell_type": "code",
   "execution_count": null,
   "metadata": {},
   "outputs": [],
   "source": [
    "while True:\n",
    "    ###### Your code ######\n",
    "    # Ex: Move the robot for 1 sec\n",
    "    # rc.move_forward(50)\n",
    "    # await asyncio.sleep(1)\n",
    "    # rc.stop()\n",
    "    \n",
    "    # Process notify events\n",
    "    # Sleep the current execution so that the notify callback functions can run\n",
    "    # The sleep time can be much smaller, but it depends on the OS, hardware specs, number of notify events and the system load\n",
    "    await asyncio.sleep(0.1)"
   ]
  }
 ],
 "metadata": {
  "kernelspec": {
   "display_name": "Python 3 (ipykernel)",
   "language": "python",
   "name": "python3"
  },
  "language_info": {
   "codemirror_mode": {
    "name": "ipython",
    "version": 3
   },
   "file_extension": ".py",
   "mimetype": "text/x-python",
   "name": "python",
   "nbconvert_exporter": "python",
   "pygments_lexer": "ipython3",
   "version": "3.9.10"
  }
 },
 "nbformat": 4,
 "nbformat_minor": 4
}
