{
 "cells": [
  {
   "cell_type": "markdown",
   "metadata": {},
   "source": [
    "### This notebook contains skeleton code, and discusses some ideas on how to approach the problem of designing a robot control architecuture using BLE.\n",
    "\n",
    "# A Robot Control Class\n",
    "Classes provide a means of bundling data and functionality together. It helps organize your thoughts and your code. \n",
    "\n",
    "Below is the skeleton of one possible class structure to deal with robot communication. You do not have to use the exact same structure, it merely serves as a reference."
   ]
  },
  {
   "cell_type": "code",
   "execution_count": 6,
   "metadata": {},
   "outputs": [
    {
     "name": "stdout",
     "output_type": "stream",
     "text": [
      "The autoreload extension is already loaded. To reload it, use:\n",
      "  %reload_ext autoreload\n"
     ]
    }
   ],
   "source": [
    "%load_ext autoreload\n",
    "%autoreload 2\n",
    "\n",
    "from ble import get_ble_controller\n",
    "from base_ble import LOG\n",
    "from cmd_types import CMD\n",
    "import time\n",
    "import numpy as np\n",
    "import matplotlib.pyplot as plt\n",
    "\n",
    "LOG.propagate = False"
   ]
  },
  {
   "cell_type": "code",
   "execution_count": 7,
   "metadata": {},
   "outputs": [],
   "source": [
    "class RobotControl():\n",
    "    # Initialize Function\n",
    "    def __init__(self, ble):\n",
    "        self.ble = ble\n",
    "        \n",
    "        # A variable to store the latest sensor value\n",
    "        self.latest_tof_front_reading = None\n",
    "        self.latest_tof_side_reading = None\n",
    "        \n",
    "        # A list to store the history of all the sensor values\n",
    "        # Each item in the list is a tuple (value, time)\n",
    "        # WARNING: The list could grow really fast; you need to deal with this accordingly.\n",
    "        self.tof_readings = []\n",
    "        self.tof2_readings = []\n",
    "        \n",
    "        self.imu_readings = []\n",
    "        \n",
    "        # A variable to store the latest imu reading\n",
    "        self.latest_imu_reading = None\n",
    "        \n",
    "        # Activate notifications (if required)\n",
    "        self.setup_notify()\n",
    "    \n",
    "    # A function to activate various notifications (if required)\n",
    "    def setup_notify(self):\n",
    "        # Code to setup various notify events\n",
    "        # Ex:\n",
    "        # ble.start_notify(ble.uuid['RX_TOF2'], self.tof_callback_handler)\n",
    "        # ble.start_notify(ble.uuid['RX_FANCY_SENSOR'], self.fancy_sensor_callback_handler)\n",
    "        self.ble.start_notify(self.ble.uuid['RX_TOF1'], self.tof_callback_handler)\n",
    "        self.ble.start_notify(self.ble.uuid['RX_TOF2'], self.tof2_callback_handler)\n",
    "        self.ble.start_notify(self.ble.uuid['RX_IMU'], self.imu_callback_handler)\n",
    "    \n",
    "    def stop_notify(self, sensor):\n",
    "        self.ble.stop_notify(ble.uuid[f'RX_{sensor}'])\n",
    "        \n",
    "    # An example function callback handler for storing the history of the tof sensor\n",
    "    # Your callback handlers should perform minimal processing!\n",
    "    # Do not add a receive_* function inside the callback handler, it defeats the purpose of BLE notify\n",
    "    def tof_callback_handler(self, uuid, byte_array):\n",
    "        # Append a tuple (value, time) to a list\n",
    "        self.tof_readings.append( ( self.ble.bytearray_to_float(byte_array), time.time() ) )\n",
    "        self.update_tof_readings()\n",
    "    \n",
    "    def tof2_callback_handler(self, uuid, byte_array):\n",
    "        # Append a tuple (value, time) to a list\n",
    "        self.tof2_readings.append( ( self.ble.bytearray_to_float(byte_array), time.time() ) )\n",
    "        self.update_tof2_readings()\n",
    "    \n",
    "    def imu_callback_handler(self, uuid, byte_array):\n",
    "        self.imu_readings.append( ( self.ble.bytearray_to_float(byte_array), time.time() ) )\n",
    "        self.update_imu_readings()\n",
    "    \n",
    "    def update_imu_readings(self):\n",
    "        if len(self.imu_readings) > 10000:\n",
    "            self.imu_readings = self.imu_readings[-10000:]\n",
    "    \n",
    "    def update_tof_readings(self):\n",
    "        if len(self.tof_readings) > 10000:\n",
    "            self.tof_readings = self.tof_readings[-10000:]\n",
    "    \n",
    "    def update_tof2_readings(self):\n",
    "        if len(self.tof2_readings) > 10000:\n",
    "            self.tof2_readings = self.tof2_readings[-10000:]\n",
    "    \n",
    "    # An example function to fetch the front TOF sensor reading\n",
    "    # Here we assume RX_TOF1 is a valid UUID defined in connection.yaml and\n",
    "    # in the Arduino code as well\n",
    "    def get_front_tof(self):\n",
    "        self.latest_tof_front_reading = self.ble.receive_float(self.ble.uuid['RX_TOF2'])\n",
    "        print(self.latest_tof_front_reading)\n",
    "    \n",
    "    def get_side_tof(self):\n",
    "        self.latest_tof_side_reading = self.ble.receive_float(self.ble.uuid['RX_TOF1'])\n",
    "        print(self.latest_tof_side_reading)\n",
    "    \n",
    "    # An example function to fetch the IMU readings as a string\n",
    "    # Here we assume RX_IMU is a valid UUID defined in connection.yaml and\n",
    "    # in the Arduino code as well\n",
    "    def get_imu(self):\n",
    "        self.ble.send_command(CMD.GET_IMU, '')\n",
    "        self.latest_imu_reading = self.ble.receive_float(self.ble.uuid['RX_IMU'])\n",
    "        \n",
    "        print(self.latest_imu_reading)\n",
    "    \n",
    "    # A function to instruct the robot to move forward\n",
    "    def move_forward(self, speed, forward, doPID = 0):\n",
    "        # Code to move forward\n",
    "        # Ex: \n",
    "        # Here we assume the command is defined in cmd_types.py and \n",
    "        # the Artemis is programmed to handle it accordingly\n",
    "        # ble.send_command(CMD.MOVE_FORWARD, speed)\n",
    "        \n",
    "        \"\"\"\n",
    "        speed: two element list ([motor1Speed, motor2Speed])\n",
    "        time: duration of robot movement in seconds\n",
    "        forward:\n",
    "        doPID: 0 when PID should be done and 1 otherwise\n",
    "        \"\"\"\n",
    "        self.tof_readings = []\n",
    "        self.tof2_readings = []\n",
    "        \n",
    "        self.ble.send_command(CMD.MOVE_FORWARD, f'{speed[0]}|{speed[1]}|{forward}|{doPID}')\n",
    "    \n",
    "    # A function to stop robot motion\n",
    "    def stop(self):\n",
    "        # Code to stop robot motion\n",
    "        self.ble.send_command(CMD.STOP_ROBOT, '')\n",
    "    \n",
    "    # A function to instruct the robot to update PID constants\n",
    "    def updatePID(self, setpoint, k_p, k_i, k_d):\n",
    "        self.ble.send_command(CMD.UPDATE_PID, f'{setpoint}|{k_p}|{k_i}|{k_d}')"
   ]
  },
  {
   "cell_type": "markdown",
   "metadata": {},
   "source": [
    "### You can now use such a class to control your robot"
   ]
  },
  {
   "cell_type": "code",
   "execution_count": null,
   "metadata": {},
   "outputs": [],
   "source": [
    "# Get ArtemisBLEController object\n",
    "ble = get_ble_controller()\n",
    "\n",
    "# Connect to the Artemis Device\n",
    "ble.connect()\n",
    "\n",
    "# Instantiate RobotControl class\n",
    "rc = RobotControl(ble)"
   ]
  },
  {
   "cell_type": "code",
   "execution_count": null,
   "metadata": {},
   "outputs": [],
   "source": [
    "startingSpeed = 75\n",
    "rc.updatePID(300, 0.35, 0.00001, 0.75)"
   ]
  },
  {
   "cell_type": "code",
   "execution_count": null,
   "metadata": {},
   "outputs": [],
   "source": [
    "rc.move_forward([startingSpeed, startingSpeed], 0)\n",
    "time.sleep(10)\n",
    "rc.stop()"
   ]
  },
  {
   "cell_type": "code",
   "execution_count": null,
   "metadata": {},
   "outputs": [],
   "source": [
    "# Move backward after a test\n",
    "rc.move_forward([100, 100], 1, 1) # 0 to go forward and 1 not to do PID\n",
    "time.sleep(2)\n",
    "rc.stop()"
   ]
  },
  {
   "cell_type": "code",
   "execution_count": null,
   "metadata": {},
   "outputs": [],
   "source": []
  },
  {
   "cell_type": "code",
   "execution_count": null,
   "metadata": {},
   "outputs": [],
   "source": []
  },
  {
   "cell_type": "code",
   "execution_count": null,
   "metadata": {},
   "outputs": [],
   "source": [
    "rc.tof_readings"
   ]
  },
  {
   "cell_type": "code",
   "execution_count": null,
   "metadata": {},
   "outputs": [],
   "source": [
    "rc.tof2_readings"
   ]
  },
  {
   "cell_type": "code",
   "execution_count": null,
   "metadata": {},
   "outputs": [],
   "source": []
  },
  {
   "cell_type": "code",
   "execution_count": null,
   "metadata": {},
   "outputs": [],
   "source": [
    "file = 'trial102_motor.txt'\n",
    "with open(file, 'w') as f:\n",
    "    for item in rc.tof_readings:\n",
    "        f.write(str(item))\n",
    "        f.write(\"\\n\")"
   ]
  },
  {
   "cell_type": "code",
   "execution_count": null,
   "metadata": {
    "scrolled": false
   },
   "outputs": [],
   "source": [
    "def plot(x):\n",
    "    start_time = x[0][1]\n",
    "    plt.plot([(x[i][1] - start_time) for i in range(len(x))], [x[i][0] for i in range(len(x))])\n",
    "    plt.title('Front ToF Sensor Reading (mm) vs. Time (msec)')\n",
    "    plt.xlim([0, 0.032])\n",
    "plot(rc.tof2_readings)"
   ]
  },
  {
   "cell_type": "code",
   "execution_count": null,
   "metadata": {},
   "outputs": [],
   "source": []
  },
  {
   "cell_type": "code",
   "execution_count": null,
   "metadata": {},
   "outputs": [],
   "source": []
  },
  {
   "cell_type": "code",
   "execution_count": null,
   "metadata": {},
   "outputs": [],
   "source": []
  },
  {
   "cell_type": "code",
   "execution_count": null,
   "metadata": {},
   "outputs": [],
   "source": []
  },
  {
   "cell_type": "code",
   "execution_count": 8,
   "metadata": {},
   "outputs": [],
   "source": [
    "def processRunData(file):\n",
    "    with open(file, 'r') as f:\n",
    "        x = f.read().splitlines()\n",
    "    \n",
    "    calculate = False\n",
    "    comma = x[0].index(\",\")\n",
    "    oldSensorValue = float(x[0][1:comma])\n",
    "    oldTimeValue = float(x[0][comma+2:-1])\n",
    "\n",
    "    for val in x[1:]:\n",
    "\n",
    "        comma = val.index(\",\")\n",
    "        newSensorValue = float(val[1:comma])\n",
    "        newTimeValue = float(val[comma+2:-1])\n",
    "\n",
    "        #print(newTimeValue-oldTimeValue)\n",
    "\n",
    "        if (newTimeValue - oldTimeValue) > 0.01:\n",
    "            timeDelta = newTimeValue - oldTimeValue\n",
    "            sensorDelta = newSensorValue - oldSensorValue\n",
    "            \n",
    "            speed = sensorDelta/(timeDelta * 1000) # convert mm/s to m/s\n",
    "            if speed > 0:\n",
    "                print(f'{speed} m/s')\n",
    "\n",
    "            oldTimeValue = newTimeValue\n",
    "            oldSensorValue = newSensorValue"
   ]
  },
  {
   "cell_type": "code",
   "execution_count": 9,
   "metadata": {},
   "outputs": [
    {
     "name": "stdout",
     "output_type": "stream",
     "text": [
      "trial10.txt\n",
      "0.09931342788814435 m/s\n",
      "0.13329214732894779 m/s\n",
      "0.04405573265969571 m/s\n",
      "0.05352289722408909 m/s\n",
      "0.11443276130193981 m/s\n",
      "0.1318839103229255 m/s\n",
      "0.06651888582862399 m/s\n",
      "0.022113225850670097 m/s\n",
      "0.04435155097573742 m/s\n",
      "0.06464560776184275 m/s\n",
      "0.06712282554771393 m/s\n",
      "0.1622943994304243 m/s\n",
      "0.022472455288734584 m/s\n",
      "0.04479706073972808 m/s\n",
      "0.06636136953357383 m/s\n",
      "0.0329847199175835 m/s\n",
      "0.09774274284382646 m/s\n",
      "0.1326964953769981 m/s\n",
      "0.03340903587586822 m/s\n",
      "0.034255994772950014 m/s\n",
      "0.03345700520085511 m/s\n",
      "0.03313075589363223 m/s\n",
      "0.16641818167390113 m/s\n",
      "0.033120421990239894 m/s\n",
      "0.131035828651466 m/s\n",
      "0.06641005314741415 m/s\n",
      "0.0657007652002287 m/s\n",
      "0.10200569089214057 m/s\n",
      "0.13352553164395772 m/s\n",
      "0.02201191307131574 m/s\n",
      "0.02198572132470882 m/s\n",
      "0.06580280983048455 m/s\n",
      "0.032884637699339844 m/s\n",
      "0.06655987812522315 m/s\n",
      "0.04513644336830778 m/s\n",
      "0.06656251884531764 m/s\n",
      "0.022336860604446812 m/s\n",
      "0.0221008746970176 m/s\n",
      "0.032886958294455725 m/s\n",
      "0.16841753599794412 m/s\n",
      "0.022367235494880545 m/s\n",
      "0.17107458376499954 m/s\n",
      "0.044879265976513386 m/s\n",
      "0.13323921917438333 m/s\n",
      "0.09906868642333008 m/s\n",
      "0.044412602777439525 m/s\n",
      "\n",
      "\n"
     ]
    }
   ],
   "source": [
    "#files = ['trial60_15.txt', '300+2x.txt', '300+2x_2.txt', 'trial10.txt', \n",
    "files=[ 'trial10.txt' ]\n",
    "\n",
    "for file in files:\n",
    "    print(file)\n",
    "    processRunData(file)\n",
    "    print(\"\\n\")"
   ]
  },
  {
   "cell_type": "code",
   "execution_count": null,
   "metadata": {},
   "outputs": [],
   "source": [
    "!ls"
   ]
  },
  {
   "cell_type": "code",
   "execution_count": null,
   "metadata": {},
   "outputs": [],
   "source": []
  },
  {
   "cell_type": "code",
   "execution_count": null,
   "metadata": {},
   "outputs": [],
   "source": []
  },
  {
   "cell_type": "code",
   "execution_count": null,
   "metadata": {},
   "outputs": [],
   "source": []
  },
  {
   "cell_type": "code",
   "execution_count": null,
   "metadata": {},
   "outputs": [],
   "source": []
  },
  {
   "cell_type": "code",
   "execution_count": null,
   "metadata": {},
   "outputs": [],
   "source": [
    "rc.ble.send_command(CMD.PING, \"\")"
   ]
  },
  {
   "cell_type": "code",
   "execution_count": null,
   "metadata": {},
   "outputs": [],
   "source": [
    "rc.ble.receive_string(rc.ble.uuid['RX_STRING'])"
   ]
  },
  {
   "cell_type": "code",
   "execution_count": null,
   "metadata": {},
   "outputs": [],
   "source": [
    "time.sleep(5)\n",
    "\n",
    "speed = 80\n",
    "for i in range(5):\n",
    "    rc.move_forward([speed, speed], i % 2)\n",
    "    time.sleep(1)\n",
    "    rc.get_imu()\n",
    "    rc.stop()\n",
    "    time.sleep(2)\n",
    "    speed += 15"
   ]
  },
  {
   "cell_type": "code",
   "execution_count": null,
   "metadata": {},
   "outputs": [],
   "source": [
    "time.sleep(5)\n",
    "\n",
    "for i in range(5):\n",
    "    speed -= 15\n",
    "    \n",
    "    rc.move_forward([speed, speed], i % 2)\n",
    "    time.sleep(1)\n",
    "    rc.get_imu()\n",
    "    rc.stop()\n",
    "    time.sleep(2)"
   ]
  },
  {
   "cell_type": "code",
   "execution_count": null,
   "metadata": {},
   "outputs": [],
   "source": []
  },
  {
   "cell_type": "code",
   "execution_count": null,
   "metadata": {},
   "outputs": [],
   "source": [
    "rc.move_forward([50, 50], 0, 1)"
   ]
  },
  {
   "cell_type": "code",
   "execution_count": null,
   "metadata": {},
   "outputs": [],
   "source": [
    "rc.stop()"
   ]
  },
  {
   "cell_type": "code",
   "execution_count": null,
   "metadata": {},
   "outputs": [],
   "source": []
  },
  {
   "cell_type": "code",
   "execution_count": null,
   "metadata": {
    "scrolled": false
   },
   "outputs": [],
   "source": [
    "rc.setup_notify()\n",
    "startTime = time.time()\n",
    "\n",
    "while time.time() - startTime < 1:\n",
    "    time.sleep(0.01)\n",
    "\n",
    "rc.stop_notify('IMU')"
   ]
  },
  {
   "cell_type": "code",
   "execution_count": null,
   "metadata": {},
   "outputs": [],
   "source": [
    "\n",
    "\n",
    "### Move robot forward for 3 secs and get sensor readings ###\n",
    "rc.get_imu()\n",
    "\n",
    "rc.move_forward(50)\n",
    "log.info(\"IMU Reading: \" + str(rc.latest_imu_reading))\n",
    "await time.sleep(3)\n",
    "rc.stop()\n",
    "\n",
    "rc.get_imu()\n",
    "log.info(\"IMU Reading: \" + str(rc.latest_imu_reading))"
   ]
  },
  {
   "cell_type": "markdown",
   "metadata": {},
   "source": [
    "<hr>\n",
    "\n",
    "### There are two possible approaches to reading values from the Artemis board\n",
    "**Approach 1:** Read values explicitly <br>\n",
    "**Approach 2:** Notifications\n",
    "\n",
    "#### You can use a combination of both i.e read some values explicitly and activate notifications for others."
   ]
  },
  {
   "cell_type": "markdown",
   "metadata": {},
   "source": [
    "## Approach 1: Read values explicitly\n",
    "Below is a possible structure to run your robot commands in a loop and explicitly read the sensor values as required. \n",
    "\n",
    "You have more control of your code in this approach. However, the read functions could perform slower in comparison to notify events."
   ]
  },
  {
   "cell_type": "code",
   "execution_count": null,
   "metadata": {},
   "outputs": [],
   "source": [
    "# Add this to the top most cell containing the imports\n",
    "import asyncio\n",
    "\n",
    "\n",
    "while True:\n",
    "    ###### Your code ######\n",
    "    # Ex: Move the robot for 1 sec\n",
    "    # rc.move_forward(50)\n",
    "    # await asyncio.sleep(1)\n",
    "    # rc.stop()\n",
    "    \n",
    "    ###### Read values ######\n",
    "    # rc.get_imu()\n",
    "    # rc.get_front_tof()"
   ]
  },
  {
   "cell_type": "markdown",
   "metadata": {},
   "source": [
    "## Approach 2: Notifications\n",
    "Below is a possible structure to run your robot command in a loop and utilize the notify events. \n",
    "\n",
    "You may have to tweak the sleep time based on how you program your arduino, system OS, system specs, system load and, the number and frequency of notify events. \n",
    "\n",
    "However, you **don't have to worry too much** about this if you keep your notify callback functions light. It becomes an issue only when you have a large number of notify events within a (very) short duration of time."
   ]
  },
  {
   "cell_type": "code",
   "execution_count": null,
   "metadata": {},
   "outputs": [],
   "source": [
    "while True:\n",
    "    ###### Your code ######\n",
    "    # Ex: Move the robot for 1 sec\n",
    "    # rc.move_forward(50)\n",
    "    # await asyncio.sleep(1)\n",
    "    # rc.stop()\n",
    "    \n",
    "    # Process notify events\n",
    "    # Sleep the current execution so that the notify callback functions can run\n",
    "    # The sleep time can be much smaller, but it depends on the OS, hardware specs, number of notify events and the system load\n",
    "    await asyncio.sleep(0.1)"
   ]
  }
 ],
 "metadata": {
  "kernelspec": {
   "display_name": "Python 3 (ipykernel)",
   "language": "python",
   "name": "python3"
  },
  "language_info": {
   "codemirror_mode": {
    "name": "ipython",
    "version": 3
   },
   "file_extension": ".py",
   "mimetype": "text/x-python",
   "name": "python",
   "nbconvert_exporter": "python",
   "pygments_lexer": "ipython3",
   "version": "3.10.4"
  }
 },
 "nbformat": 4,
 "nbformat_minor": 4
}
