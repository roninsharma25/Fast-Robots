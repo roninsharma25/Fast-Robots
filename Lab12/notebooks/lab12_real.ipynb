{
 "cells": [
  {
   "cell_type": "markdown",
   "metadata": {},
   "source": [
    "# Lab 12: Grid Localization using Bayes Filter (Real Robot)\n",
    "\n",
    "### <span style=\"color:rgb(0,150,0)\">It is recommended that you close any heavy-duty applications running on your system while working on this lab.</span>\n",
    "\n",
    "### <span style=\"color:rgb(0,150,0)\">The notebook only provides skeleton code for you to integrate the Localization class with the Real Robot.</span>\n",
    "\n",
    "<hr>"
   ]
  },
  {
   "cell_type": "code",
   "execution_count": 2,
   "metadata": {},
   "outputs": [
    {
     "name": "stdout",
     "output_type": "stream",
     "text": [
      "2022-05-12 22:44:48,214 |\u001b[32m INFO     \u001b[0m|: Logger demo_notebook.log initialized.\n"
     ]
    }
   ],
   "source": [
    "%load_ext autoreload\n",
    "%autoreload 2\n",
    "\n",
    "import traceback\n",
    "from notebook_utils import *\n",
    "from Traj import *\n",
    "import asyncio\n",
    "import pathlib\n",
    "import os\n",
    "from utils import load_config_params\n",
    "from localization_extras import Localization\n",
    "\n",
    "# The imports below will only work if you copied the required ble-related python files \n",
    "# into the notebooks directory\n",
    "from ble import get_ble_controller\n",
    "from base_ble import LOG\n",
    "from cmd_types import CMD\n",
    "import numpy as np\n",
    "\n",
    "# Lab 9 imports\n",
    "from funcs import *\n",
    "from robotClass import *\n",
    "\n",
    "# Setup Logger\n",
    "LOG = get_logger('demo_notebook.log')\n",
    "LOG.propagate = False\n",
    "\n",
    "# Init GUI and Commander\n",
    "gui = GET_GUI()\n",
    "cmdr = gui.launcher.commander"
   ]
  },
  {
   "cell_type": "code",
   "execution_count": 3,
   "metadata": {},
   "outputs": [],
   "source": [
    "# Start the plotter\n",
    "START_PLOTTER()"
   ]
  },
  {
   "cell_type": "markdown",
   "metadata": {},
   "source": [
    "# Data from robot runs"
   ]
  },
  {
   "cell_type": "code",
   "execution_count": 41,
   "metadata": {},
   "outputs": [],
   "source": [
    "# Data from multiple trials at each location\n",
    "loc_0_3 = {\n",
    "    0: [0.605, 0.605, 0.558, 0.554, 0.414, 0.414, 0.358, 0.358, 0.35, 0.35, 0.634, 0.634, 0.673, 0.673, 0.492, 0.492, 0.594, 0.594],\n",
    "    1: [0.526, 0.526, 0.501, 0.597, 0.597, 0.471, 0.471, 0.376, 0.376, 0.47, 0.47, 0.671, 0.671, 0.444, 0.444, 0.657, 0.657, 0.576],\n",
    "    2: [0.422, 0.422, 0.721, 0.683, 0.551, 0.404, 0.404, 0.388, 0.388, 0.398, 0.398, 0.664, 0.664, 0.77, 0.77, 0.779, 0.779, 0.8],\n",
    "    3: [0.785, 0.802, 0.688, 0.5, 0.378, 0.378, 0.393, 0.393, 0.412, 0.412, 0.638, 0.638, 0.732, 0.732, 0.708, 0.708, 0.75, 0.75]\n",
    "}\n",
    "\n",
    "loc_5_3 = {\n",
    "    0: [0.413, 0.413, 0.412, 0.458, 0.565, 0.565, 0.45, 0.45, 0.455, 0.455, 0.682, 0.682, 0.747, 0.747, 0.493, 0.493, 0.71, 0.71],\n",
    "    1: [0.474, 0.417, 0.486, 0.56, 0.466, 0.466, 0.438, 0.438, 0.62, 0.62, 0.853, 0.853, 0.6, 0.6, 0.593, 0.593, 0.644, 0.644]\n",
    "}\n",
    "\n",
    "loc_5_minus3 = {\n",
    "    0: [0.701, 0.701, 0.392, 0.444, 0.582, 0.609, 0.609, 0.598, 0.598, 0.596, 0.596, 0.504, 0.504, 0.69, 0.69, 0.433, 0.433, 0.486],\n",
    "    1: [0.416, 0.408, 0.425, 0.517, 0.646, 0.646, 0.502, 0.502, 0.689, 0.689, 0.413, 0.413, 0.853, 0.853, 0.505, 0.505, 0.446, 0.446]\n",
    "}\n",
    "\n",
    "loc_minus3_minus2 = {\n",
    "    0: [0.556, 0.435, 0.504, 0.617, 0.465, 0.472, 0.563, 0.563, 0.609, 0.609, 0.716, 0.716, 0.685, 0.685, 0.825, 0.825, 0.793, 0.793],\n",
    "    1: [0.566, 0.386, 0.674, 0.479, 0.46, 0.63, 0.655, 0.655, 0.768, 0.768, 0.658, 0.658, 0.667, 0.667, 0.729, 0.729, 0.725, 0.725],\n",
    "    2: [0.564, 0.564, 0.415, 0.608, 0.462, 0.556, 0.6, 0.6, 0.628, 0.756, 0.756, 0.673, 0.673, 0.667, 0.667, 0.806, 0.806, 0.766]\n",
    "}"
   ]
  },
  {
   "cell_type": "code",
   "execution_count": null,
   "metadata": {},
   "outputs": [],
   "source": []
  },
  {
   "cell_type": "markdown",
   "metadata": {},
   "source": [
    "# The RealRobot class\n",
    "Define the RealRobot class in the code cell below, based on the documentation and your real robot communication protocol. <br>\n",
    "This class is used by the **Localization** class to communicate with the real robot. <br>\n",
    "More specifically, the **Localization** class utilizes the **RealRobot's** member function **perform_observation_loop()** to get the 18 sensor readings and store them in its member variable **obs_range_data**, which is then utilized in the update step."
   ]
  },
  {
   "cell_type": "code",
   "execution_count": 60,
   "metadata": {},
   "outputs": [],
   "source": [
    "class RealRobot():\n",
    "    \"\"\"A class to interact with the real robot\n",
    "    \"\"\"\n",
    "    def __init__(self, commander, ble):\n",
    "        # Load world config\n",
    "        self.world_config = os.path.join(str(pathlib.Path(os.getcwd()).parent), \"config\", \"world.yaml\")\n",
    "        \n",
    "        self.config_params = load_config_params(self.world_config)\n",
    "        \n",
    "        # Commander to commuincate with the Plotter process\n",
    "        # Used by the Localization module to plot odom and belief\n",
    "        self.cmdr = commander\n",
    "\n",
    "        # ArtemisBLEController to communicate with the Robot\n",
    "        self.ble = ble\n",
    "        \n",
    "        # Robot Control attribute\n",
    "        self.rc = RobotControl(ble)\n",
    "\n",
    "    def get_pose(self):\n",
    "        \"\"\"Get robot pose based on odometry\n",
    "        \n",
    "        Returns:\n",
    "            current_odom -- Odometry Pose (meters, meters, degrees)\n",
    "        \"\"\"\n",
    "        raise NotImplementedError(\"get_pose is not implemented\")\n",
    "\n",
    "    async def perform_observation_loop(self, constant_data, rot_vel=120):\n",
    "        \"\"\"Perform the observation loop behavior on the real robot, where the robot does  \n",
    "        a 360 degree turn in place while collecting equidistant (in the angular space) sensor\n",
    "        readings, with the first sensor reading taken at the robot's current heading. \n",
    "        The number of sensor readings depends on \"observations_count\"(=18) defined in world.yaml.\n",
    "        \n",
    "        Keyword arguments:\n",
    "            rot_vel -- (Optional) Angular Velocity for loop (degrees/second)\n",
    "                        Do not remove this parameter from the function definition, even if you don't use it.\n",
    "        Returns:\n",
    "            sensor_ranges   -- A column numpy array of the range values (meters)\n",
    "            sensor_bearings -- A column numpy array of the bearings at which the sensor readings were taken (degrees)\n",
    "                               The bearing values are not used in the Localization module, so you may return a empty numpy array\n",
    "        \"\"\"\n",
    "        #self.rc.pingRobot(clear = True) # clear attributes\n",
    "        #self.rc.turn360(forwardSpeed = 140, backwardSpeed = 140, dir_ = 0)\n",
    "        #await asyncio.sleep(5)\n",
    "        \n",
    "        #sensorVals = np.array(loc_minus3_minus2[2]).reshape(18, 1)\n",
    "        sensorVals = np.ones(18).reshape(18, 1)\n",
    "        gyroVals = np.array([2974.44995117, 2974.45556641, 2993.55810547, 3012.73193359, 3031.74584961, \n",
    "                             3050.94506836, 3070.16479492, 3089.19018555, 3108.37109375, 3127.76220703,\n",
    "                             3147.09936523, 3166.15039062, 3185.69360352, 3204.91992188, 3224.35595703,\n",
    "                             3243.38232422, 3262.41137695, 3281.63598633]).reshape(18, 1)\n",
    "        \n",
    "        \n",
    "        #sensorVals = np.array( [ val[0] / 1000 for val in self.rc.tof2_readings] ).reshape(18, 1)\n",
    "        #gyroVals = np.array( [ val[0] for val in self.rc.imu_readings] ).reshape(18, 1)\n",
    "        \n",
    "        #print(sensorVals)\n",
    "        #print(gyroVals)\n",
    "        \n",
    "        # RETURN DISTANCES AND ANGLES\n",
    "        return sensorVals, gyroVals"
   ]
  },
  {
   "cell_type": "code",
   "execution_count": null,
   "metadata": {
    "scrolled": true
   },
   "outputs": [],
   "source": [
    "# Get ArtemisBLEController object\n",
    "ble = get_ble_controller()\n",
    "\n",
    "# Connect to the Artemis Device\n",
    "ble.connect()"
   ]
  },
  {
   "cell_type": "code",
   "execution_count": 61,
   "metadata": {},
   "outputs": [
    {
     "name": "stdout",
     "output_type": "stream",
     "text": [
      "2022-05-12 23:46:59,464 |\u001b[32m INFO     \u001b[0m|:  | Number of observations per grid cell: 18\n",
      "2022-05-12 23:46:59,467 |\u001b[32m INFO     \u001b[0m|:  | Precaching Views...\n",
      "2022-05-12 23:47:04,261 |\u001b[32m INFO     \u001b[0m|:  | Precaching Time: 4.793 secs\n",
      "2022-05-12 23:47:04,262 |\u001b[32m INFO     \u001b[0m|: Initializing beliefs with a Uniform Distribution\n",
      "2022-05-12 23:47:04,263 |\u001b[32m INFO     \u001b[0m|: Uniform Belief with each cell value: 0.00051440329218107\n"
     ]
    }
   ],
   "source": [
    "# Initialize RealRobot with a Commander object to communicate with the plotter process\n",
    "# and the ArtemisBLEController object to communicate with the real robot\n",
    "ble = 5\n",
    "robot = RealRobot(cmdr, ble)\n",
    "\n",
    "# Initialize mapper\n",
    "# Requires a VirtualRobot object as a parameter\n",
    "mapper = Mapper(robot)\n",
    "\n",
    "# Initialize your BaseLocalization object\n",
    "# Requires a RealRobot object and a Mapper object as parameters\n",
    "loc = Localization(robot, mapper)\n",
    "\n",
    "## Plot Map\n",
    "cmdr.plot_map()"
   ]
  },
  {
   "cell_type": "markdown",
   "metadata": {},
   "source": [
    "### Lab 12 Testing"
   ]
  },
  {
   "cell_type": "code",
   "execution_count": null,
   "metadata": {},
   "outputs": [],
   "source": [
    "robot = RealRobot(cmdr, ble)"
   ]
  },
  {
   "cell_type": "code",
   "execution_count": null,
   "metadata": {},
   "outputs": [],
   "source": [
    "x = await robot.perform_observation_loop()"
   ]
  },
  {
   "cell_type": "code",
   "execution_count": null,
   "metadata": {},
   "outputs": [],
   "source": []
  },
  {
   "cell_type": "markdown",
   "metadata": {},
   "source": [
    "# Run an update step of the Bayes Filter"
   ]
  },
  {
   "cell_type": "code",
   "execution_count": 62,
   "metadata": {},
   "outputs": [
    {
     "name": "stdout",
     "output_type": "stream",
     "text": [
      "2022-05-12 23:47:04,510 |\u001b[32m INFO     \u001b[0m|: Initializing beliefs with a Uniform Distribution\n",
      "2022-05-12 23:47:04,511 |\u001b[32m INFO     \u001b[0m|: Uniform Belief with each cell value: 0.00051440329218107\n",
      "2022-05-12 23:47:04,512 |\u001b[32m INFO     \u001b[0m|: Update Step\n",
      "2022-05-12 23:47:04,519 |\u001b[32m INFO     \u001b[0m|:      | Update Time: 0.006 secs\n",
      "2022-05-12 23:47:04,523 |\u001b[32m INFO     \u001b[0m|: Bel index     : (10, 5, 11) with prob = 0.0555555\n",
      "2022-05-12 23:47:04,527 |\u001b[32m INFO     \u001b[0m|: Bel_bar prob at index = 0.00051440329218107\n",
      "2022-05-12 23:47:04,535 |\u001b[32m INFO     \u001b[0m|: Belief        : (1.524, 0.305, 50.000)\n"
     ]
    }
   ],
   "source": [
    "# Reset Plots\n",
    "cmdr.reset_plotter()\n",
    "\n",
    "# Init Uniform Belief\n",
    "loc.init_grid_beliefs()\n",
    "\n",
    "# Get Observation Data by executing a 360 degree rotation motion\n",
    "await loc.get_observation_data()\n",
    "\n",
    "# Run Update Step\n",
    "loc.update_step()\n",
    "loc.plot_update_step_data(plot_data=True)\n",
    "\n",
    "# Plot GT\n",
    "cmdr.plot_gt(1500/1000, -900/1000)\n",
    "\n",
    "# Plot Odom and GT\n",
    "#current_odom = robot.get_pose()\n",
    "# cmdr.plot_gt(current_gt[0], current_gt[1])\n",
    "#cmdr.plot_odom(current_odom[0], current_odom[1])"
   ]
  },
  {
   "cell_type": "code",
   "execution_count": 16,
   "metadata": {},
   "outputs": [],
   "source": []
  },
  {
   "cell_type": "code",
   "execution_count": null,
   "metadata": {},
   "outputs": [],
   "source": []
  }
 ],
 "metadata": {
  "kernelspec": {
   "display_name": "Python 3 (ipykernel)",
   "language": "python",
   "name": "python3"
  },
  "language_info": {
   "codemirror_mode": {
    "name": "ipython",
    "version": 3
   },
   "file_extension": ".py",
   "mimetype": "text/x-python",
   "name": "python",
   "nbconvert_exporter": "python",
   "pygments_lexer": "ipython3",
   "version": "3.10.4"
  }
 },
 "nbformat": 4,
 "nbformat_minor": 4
}
