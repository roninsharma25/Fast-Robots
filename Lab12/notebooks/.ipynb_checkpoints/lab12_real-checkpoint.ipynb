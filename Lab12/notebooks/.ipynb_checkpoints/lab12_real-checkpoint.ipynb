{
 "cells": [
  {
   "cell_type": "markdown",
   "metadata": {},
   "source": [
    "# Lab 12: Grid Localization using Bayes Filter (Real Robot)\n",
    "\n",
    "### <span style=\"color:rgb(0,150,0)\">It is recommended that you close any heavy-duty applications running on your system while working on this lab.</span>\n",
    "\n",
    "### <span style=\"color:rgb(0,150,0)\">The notebook only provides skeleton code for you to integrate the Localization class with the Real Robot.</span>\n",
    "\n",
    "<hr>"
   ]
  },
  {
   "cell_type": "code",
   "execution_count": 1,
   "metadata": {},
   "outputs": [
    {
     "name": "stdout",
     "output_type": "stream",
     "text": [
      "2022-05-19 20:05:34,214 |\u001b[32m INFO     \u001b[0m|: Logger demo_notebook.log initialized.\n"
     ]
    }
   ],
   "source": [
    "%load_ext autoreload\n",
    "%autoreload 2\n",
    "\n",
    "import traceback\n",
    "from notebook_utils import *\n",
    "from Traj import *\n",
    "import asyncio\n",
    "import pathlib\n",
    "import os\n",
    "from utils import load_config_params\n",
    "from localization_extras import Localization\n",
    "\n",
    "# The imports below will only work if you copied the required ble-related python files \n",
    "# into the notebooks directory\n",
    "from ble import get_ble_controller\n",
    "from base_ble import LOG\n",
    "from cmd_types import CMD\n",
    "import numpy as np\n",
    "\n",
    "# Lab 9 imports\n",
    "from funcs import *\n",
    "from robotClass import *\n",
    "\n",
    "# Setup Logger\n",
    "LOG = get_logger('demo_notebook.log')\n",
    "LOG.propagate = False\n",
    "\n",
    "# Init GUI and Commander\n",
    "gui = GET_GUI()\n",
    "cmdr = gui.launcher.commander"
   ]
  },
  {
   "cell_type": "code",
   "execution_count": 2,
   "metadata": {},
   "outputs": [],
   "source": [
    "# Start the plotter\n",
    "START_PLOTTER()"
   ]
  },
  {
   "cell_type": "markdown",
   "metadata": {},
   "source": [
    "# Data from robot runs"
   ]
  },
  {
   "cell_type": "code",
   "execution_count": null,
   "metadata": {},
   "outputs": [],
   "source": [
    "# Data from multiple trials at each location\n",
    "loc_0_3 = {\n",
    "    0: [0.605, 0.605, 0.558, 0.554, 0.414, 0.414, 0.358, 0.358, 0.35, 0.35, 0.634, 0.634, 0.673, 0.673, 0.492, 0.492, 0.594, 0.594],\n",
    "    1: [0.526, 0.526, 0.501, 0.597, 0.597, 0.471, 0.471, 0.376, 0.376, 0.47, 0.47, 0.671, 0.671, 0.444, 0.444, 0.657, 0.657, 0.576],\n",
    "    2: [0.422, 0.422, 0.721, 0.683, 0.551, 0.404, 0.404, 0.388, 0.388, 0.398, 0.398, 0.664, 0.664, 0.77, 0.77, 0.779, 0.779, 0.8],\n",
    "    3: [0.785, 0.802, 0.688, 0.5, 0.378, 0.378, 0.393, 0.393, 0.412, 0.412, 0.638, 0.638, 0.732, 0.732, 0.708, 0.708, 0.75, 0.75]\n",
    "}\n",
    "\n",
    "loc_5_3 = {\n",
    "    0: [0.413, 0.413, 0.412, 0.458, 0.565, 0.565, 0.45, 0.45, 0.455, 0.455, 0.682, 0.682, 0.747, 0.747, 0.493, 0.493, 0.71, 0.71],\n",
    "    1: [0.474, 0.417, 0.486, 0.56, 0.466, 0.466, 0.438, 0.438, 0.62, 0.62, 0.853, 0.853, 0.6, 0.6, 0.593, 0.593, 0.644, 0.644]\n",
    "}\n",
    "\n",
    "loc_5_minus3 = {\n",
    "    0: [0.701, 0.701, 0.392, 0.444, 0.582, 0.609, 0.609, 0.598, 0.598, 0.596, 0.596, 0.504, 0.504, 0.69, 0.69, 0.433, 0.433, 0.486],\n",
    "    1: [0.416, 0.408, 0.425, 0.517, 0.646, 0.646, 0.502, 0.502, 0.689, 0.689, 0.413, 0.413, 0.853, 0.853, 0.505, 0.505, 0.446, 0.446]\n",
    "}\n",
    "\n",
    "loc_minus3_minus2 = {\n",
    "    0: [0.556, 0.435, 0.504, 0.617, 0.465, 0.472, 0.563, 0.563, 0.609, 0.609, 0.716, 0.716, 0.685, 0.685, 0.825, 0.825, 0.793, 0.793],\n",
    "    1: [0.566, 0.386, 0.674, 0.479, 0.46, 0.63, 0.655, 0.655, 0.768, 0.768, 0.658, 0.658, 0.667, 0.667, 0.729, 0.729, 0.725, 0.725],\n",
    "    2: [0.564, 0.564, 0.415, 0.608, 0.462, 0.556, 0.6, 0.6, 0.628, 0.756, 0.756, 0.673, 0.673, 0.667, 0.667, 0.806, 0.806, 0.766]\n",
    "}"
   ]
  },
  {
   "cell_type": "code",
   "execution_count": null,
   "metadata": {},
   "outputs": [],
   "source": [
    "n3n2_tof = [(655.0, 166.56714582443237), (723.0, 167.82818984985352), (919.0, 169.08666062355042), (719.0, 170.3430426120758), (659.0, 171.66160011291504), (681.0, 172.98369193077087), (863.0, 174.06581830978394), (858.0, 175.14470434188843), (696.0, 176.28691744804382), (712.0, 177.36669301986694), (849.0, 178.566876411438), (890.0, 179.58805203437805), (1221.0, 180.90769481658936), (3024.0, 182.16811084747314), (1919.0, 183.36635780334473), (2125.0, 184.56875205039978), (2162.0, 185.76617431640625), (671.0, 186.7842662334442), (673.0, 188.10858964920044)]"
   ]
  },
  {
   "cell_type": "code",
   "execution_count": null,
   "metadata": {},
   "outputs": [],
   "source": [
    "p5n3_tof = [(2351.0, 12.130674362182617), (2222.0, 13.209893226623535), (808.0, 14.33945918083191), (1376.0, 15.30992579460144), (3070.0, 16.3868727684021), (2232.0, 17.34799885749817), (945.0, 18.430388689041138), (485.0, 19.32319164276123), (358.0, 20.344916820526123), (340.0, 21.30400848388672), (377.0, 22.26934242248535), (518.0, 23.281633377075195), (482.0, 24.365478992462158), (394.0, 25.509005546569824), (396.0, 26.46590518951416), (465.0, 27.73127055168152), (819.0, 28.6215980052948), (1953.0, 29.714779138565063), (2005.0, 30.663822174072266)]"
   ]
  },
  {
   "cell_type": "code",
   "execution_count": 4,
   "metadata": {},
   "outputs": [],
   "source": [
    "p5p3_tof = [(384.0, 396.39471197128296), (425.0, 397.47551369667053), (560.0, 398.4272940158844), (1204.0, 399.3923830986023), (2505.0, 400.35790038108826), (2995.0, 401.43852162361145), (621.0, 402.6385006904602), (466.0, 403.648610830307), (2138.0, 404.67747044563293), (1835.0, 405.93231773376465), (568.0, 406.95194029808044), (421.0, 407.8569657802582), (359.0, 408.93391823768616), (347.0, 409.89200019836426), (406.0, 410.91195797920227), (535.0, 411.818243265152), (437.0, 412.77171659469604), (400.0, 413.67212891578674)]"
   ]
  },
  {
   "cell_type": "code",
   "execution_count": 5,
   "metadata": {},
   "outputs": [],
   "source": [
    "y = [val[0] for val in p5p3_tof]\n",
    "x = y[-10:] + y[:-10]"
   ]
  },
  {
   "cell_type": "code",
   "execution_count": 6,
   "metadata": {},
   "outputs": [
    {
     "data": {
      "text/plain": [
       "[2138.0,\n",
       " 1835.0,\n",
       " 568.0,\n",
       " 421.0,\n",
       " 359.0,\n",
       " 347.0,\n",
       " 406.0,\n",
       " 535.0,\n",
       " 437.0,\n",
       " 400.0,\n",
       " 384.0,\n",
       " 425.0,\n",
       " 560.0,\n",
       " 1204.0,\n",
       " 2505.0,\n",
       " 2995.0,\n",
       " 621.0,\n",
       " 466.0]"
      ]
     },
     "execution_count": 6,
     "metadata": {},
     "output_type": "execute_result"
    }
   ],
   "source": [
    "x"
   ]
  },
  {
   "cell_type": "code",
   "execution_count": null,
   "metadata": {},
   "outputs": [],
   "source": []
  },
  {
   "cell_type": "code",
   "execution_count": null,
   "metadata": {},
   "outputs": [],
   "source": []
  },
  {
   "cell_type": "code",
   "execution_count": null,
   "metadata": {},
   "outputs": [],
   "source": []
  },
  {
   "cell_type": "code",
   "execution_count": null,
   "metadata": {},
   "outputs": [],
   "source": []
  },
  {
   "cell_type": "code",
   "execution_count": null,
   "metadata": {},
   "outputs": [],
   "source": []
  },
  {
   "cell_type": "markdown",
   "metadata": {},
   "source": [
    "# The RealRobot class\n",
    "Define the RealRobot class in the code cell below, based on the documentation and your real robot communication protocol. <br>\n",
    "This class is used by the **Localization** class to communicate with the real robot. <br>\n",
    "More specifically, the **Localization** class utilizes the **RealRobot's** member function **perform_observation_loop()** to get the 18 sensor readings and store them in its member variable **obs_range_data**, which is then utilized in the update step."
   ]
  },
  {
   "cell_type": "code",
   "execution_count": 13,
   "metadata": {},
   "outputs": [],
   "source": [
    "class RealRobot():\n",
    "    \"\"\"A class to interact with the real robot\n",
    "    \"\"\"\n",
    "    def __init__(self, commander, ble):\n",
    "        # Load world config\n",
    "        self.world_config = os.path.join(str(pathlib.Path(os.getcwd()).parent), \"config\", \"world.yaml\")\n",
    "        \n",
    "        self.config_params = load_config_params(self.world_config)\n",
    "        \n",
    "        # Commander to commuincate with the Plotter process\n",
    "        # Used by the Localization module to plot odom and belief\n",
    "        self.cmdr = commander\n",
    "\n",
    "        # ArtemisBLEController to communicate with the Robot\n",
    "        self.ble = ble\n",
    "        \n",
    "        # Robot Control attribute\n",
    "        self.rc = RobotControl(ble)\n",
    "\n",
    "    def get_pose(self):\n",
    "        \"\"\"Get robot pose based on odometry\n",
    "        \n",
    "        Returns:\n",
    "            current_odom -- Odometry Pose (meters, meters, degrees)\n",
    "        \"\"\"\n",
    "        raise NotImplementedError(\"get_pose is not implemented\")\n",
    "\n",
    "    async def perform_observation_loop(self, rot_vel=120):\n",
    "        \"\"\"Perform the observation loop behavior on the real robot, where the robot does  \n",
    "        a 360 degree turn in place while collecting equidistant (in the angular space) sensor\n",
    "        readings, with the first sensor reading taken at the robot's current heading. \n",
    "        The number of sensor readings depends on \"observations_count\"(=18) defined in world.yaml.\n",
    "        \n",
    "        Keyword arguments:\n",
    "            rot_vel -- (Optional) Angular Velocity for loop (degrees/second)\n",
    "                        Do not remove this parameter from the function definition, even if you don't use it.\n",
    "        Returns:\n",
    "            sensor_ranges   -- A column numpy array of the range values (meters)\n",
    "            sensor_bearings -- A column numpy array of the bearings at which the sensor readings were taken (degrees)\n",
    "                               The bearing values are not used in the Localization module, so you may return a empty numpy array\n",
    "        \"\"\"\n",
    "        #self.rc.pingRobot(clear = True) # clear attributes\n",
    "        #self.rc.turn360(forwardSpeed = 140, backwardSpeed = 140, dir_ = 0)\n",
    "        #await asyncio.sleep(5)\n",
    "        \n",
    "        sensorVals = np.array(x).reshape(18, 1)#np.array(loc_0_3[0]).reshape(18, 1)\n",
    "        #sensorVals = np.ones(18).reshape(18, 1)\n",
    "        #sensorVals = np.ones(18).reshape(18, 1)\n",
    "        gyroVals = np.array([2974.44995117, 2974.45556641, 2993.55810547, 3012.73193359, 3031.74584961, \n",
    "                             3050.94506836, 3070.16479492, 3089.19018555, 3108.37109375, 3127.76220703,\n",
    "                             3147.09936523, 3166.15039062, 3185.69360352, 3204.91992188, 3224.35595703,\n",
    "                             3243.38232422, 3262.41137695, 3281.63598633]).reshape(18, 1)\n",
    "        \n",
    "        \n",
    "        #sensorVals = np.array( [ val[0] / 1000 for val in self.rc.tof2_readings] ).reshape(18, 1)\n",
    "        #gyroVals = np.array( [ val[0] for val in self.rc.imu_readings] ).reshape(18, 1)\n",
    "        \n",
    "        print(sensorVals)\n",
    "        print(gyroVals)\n",
    "        \n",
    "        # RETURN DISTANCES AND ANGLES\n",
    "        return sensorVals, gyroVals"
   ]
  },
  {
   "cell_type": "code",
   "execution_count": null,
   "metadata": {
    "scrolled": true
   },
   "outputs": [],
   "source": [
    "# Get ArtemisBLEController object\n",
    "ble = get_ble_controller()\n",
    "\n",
    "# Connect to the Artemis Device\n",
    "ble.connect()"
   ]
  },
  {
   "cell_type": "code",
   "execution_count": 14,
   "metadata": {},
   "outputs": [
    {
     "name": "stdout",
     "output_type": "stream",
     "text": [
      "2022-05-19 20:07:34,853 |\u001b[32m INFO     \u001b[0m|:  | Number of observations per grid cell: 18\n",
      "2022-05-19 20:07:34,854 |\u001b[32m INFO     \u001b[0m|:  | Precaching Views...\n",
      "2022-05-19 20:07:41,114 |\u001b[32m INFO     \u001b[0m|:  | Precaching Time: 6.258 secs\n",
      "2022-05-19 20:07:41,115 |\u001b[32m INFO     \u001b[0m|: Initializing beliefs with a Uniform Distribution\n",
      "2022-05-19 20:07:41,119 |\u001b[32m INFO     \u001b[0m|: Uniform Belief with each cell value: 0.00051440329218107\n"
     ]
    }
   ],
   "source": [
    "# Initialize RealRobot with a Commander object to communicate with the plotter process\n",
    "# and the ArtemisBLEController object to communicate with the real robot\n",
    "ble = 5\n",
    "robot = RealRobot(cmdr, ble)\n",
    "\n",
    "# Initialize mapper\n",
    "# Requires a VirtualRobot object as a parameter\n",
    "mapper = Mapper(robot)\n",
    "\n",
    "# Initialize your BaseLocalization object\n",
    "# Requires a RealRobot object and a Mapper object as parameters\n",
    "loc = Localization(robot, mapper)\n",
    "\n",
    "## Plot Map\n",
    "cmdr.plot_map()"
   ]
  },
  {
   "cell_type": "markdown",
   "metadata": {},
   "source": [
    "### Lab 12 Testing"
   ]
  },
  {
   "cell_type": "code",
   "execution_count": null,
   "metadata": {},
   "outputs": [],
   "source": [
    "robot = RealRobot(cmdr, ble)"
   ]
  },
  {
   "cell_type": "code",
   "execution_count": null,
   "metadata": {},
   "outputs": [],
   "source": [
    "x = await robot.perform_observation_loop()"
   ]
  },
  {
   "cell_type": "code",
   "execution_count": null,
   "metadata": {},
   "outputs": [],
   "source": [
    "x"
   ]
  },
  {
   "cell_type": "code",
   "execution_count": null,
   "metadata": {},
   "outputs": [],
   "source": []
  },
  {
   "cell_type": "code",
   "execution_count": null,
   "metadata": {},
   "outputs": [],
   "source": []
  },
  {
   "cell_type": "markdown",
   "metadata": {},
   "source": [
    "# Run an update step of the Bayes Filter"
   ]
  },
  {
   "cell_type": "code",
   "execution_count": 15,
   "metadata": {},
   "outputs": [
    {
     "name": "stdout",
     "output_type": "stream",
     "text": [
      "2022-05-19 20:07:41,363 |\u001b[32m INFO     \u001b[0m|: Initializing beliefs with a Uniform Distribution\n",
      "2022-05-19 20:07:41,371 |\u001b[32m INFO     \u001b[0m|: Uniform Belief with each cell value: 0.00051440329218107\n",
      "[[2138.]\n",
      " [1835.]\n",
      " [ 568.]\n",
      " [ 421.]\n",
      " [ 359.]\n",
      " [ 347.]\n",
      " [ 406.]\n",
      " [ 535.]\n",
      " [ 437.]\n",
      " [ 400.]\n",
      " [ 384.]\n",
      " [ 425.]\n",
      " [ 560.]\n",
      " [1204.]\n",
      " [2505.]\n",
      " [2995.]\n",
      " [ 621.]\n",
      " [ 466.]]\n",
      "[[2974.44995117]\n",
      " [2974.45556641]\n",
      " [2993.55810547]\n",
      " [3012.73193359]\n",
      " [3031.74584961]\n",
      " [3050.94506836]\n",
      " [3070.16479492]\n",
      " [3089.19018555]\n",
      " [3108.37109375]\n",
      " [3127.76220703]\n",
      " [3147.09936523]\n",
      " [3166.15039062]\n",
      " [3185.69360352]\n",
      " [3204.91992188]\n",
      " [3224.35595703]\n",
      " [3243.38232422]\n",
      " [3262.41137695]\n",
      " [3281.63598633]]\n",
      "2022-05-19 20:07:41,384 |\u001b[32m INFO     \u001b[0m|: Update Step\n",
      "2022-05-19 20:07:41,411 |\u001b[32m INFO     \u001b[0m|:      | Update Time: 0.006 secs\n",
      "2022-05-19 20:07:41,412 |\u001b[32m INFO     \u001b[0m|: Bel index     : (0, 0, 0) with prob = nan\n",
      "2022-05-19 20:07:41,419 |\u001b[32m INFO     \u001b[0m|: Bel_bar prob at index = 0.00051440329218107\n",
      "2022-05-19 20:07:41,420 |\u001b[32m INFO     \u001b[0m|: Belief        : (-1.524, -1.219, -170.000)\n"
     ]
    }
   ],
   "source": [
    "# Reset Plots\n",
    "cmdr.reset_plotter()\n",
    "\n",
    "# Init Uniform Belief\n",
    "loc.init_grid_beliefs()\n",
    "\n",
    "# Get Observation Data by executing a 360 degree rotation motion\n",
    "await loc.get_observation_data()\n",
    "\n",
    "# Run Update Step\n",
    "loc.update_step()\n",
    "loc.plot_update_step_data(plot_data=True)\n",
    "\n",
    "# Plot GT\n",
    "cmdr.plot_gt(1500/1000, -900/1000)\n",
    "\n",
    "# Plot Odom and GT\n",
    "#current_odom = robot.get_pose()\n",
    "# cmdr.plot_gt(current_gt[0], current_gt[1])\n",
    "#cmdr.plot_odom(current_odom[0], current_odom[1])"
   ]
  },
  {
   "cell_type": "code",
   "execution_count": null,
   "metadata": {},
   "outputs": [],
   "source": []
  },
  {
   "cell_type": "markdown",
   "metadata": {},
   "source": [
    "### Plotting"
   ]
  },
  {
   "cell_type": "code",
   "execution_count": null,
   "metadata": {},
   "outputs": [],
   "source": [
    "import matplotlib.pyplot as plt"
   ]
  },
  {
   "cell_type": "code",
   "execution_count": null,
   "metadata": {},
   "outputs": [],
   "source": [
    "plt.title('Front ToF Sensor Readings')\n",
    "plt.scatter([x for x in range(1, 19)], loc_0_3[1])\n",
    "plt.xticks(np.arange(0, 20, 2))\n",
    "plt.xlabel('Sensor Reading Number')\n",
    "plt.ylabel('Sensor Value (m)')\n",
    "plt.savefig('sensorReadings_0_3.png')"
   ]
  },
  {
   "cell_type": "code",
   "execution_count": null,
   "metadata": {},
   "outputs": [],
   "source": [
    "plt.title('Front ToF Sensor Readings')\n",
    "plt.scatter([x for x in range(1, 19)], loc_minus3_minus2[1])\n",
    "plt.xticks(np.arange(0, 20, 2))\n",
    "plt.xlabel('Sensor Reading Number')\n",
    "plt.ylabel('Sensor Value (m)')\n",
    "plt.savefig('sensorReadings_minus3_minus2.png')"
   ]
  },
  {
   "cell_type": "code",
   "execution_count": null,
   "metadata": {},
   "outputs": [],
   "source": []
  }
 ],
 "metadata": {
  "kernelspec": {
   "display_name": "Python 3 (ipykernel)",
   "language": "python",
   "name": "python3"
  },
  "language_info": {
   "codemirror_mode": {
    "name": "ipython",
    "version": 3
   },
   "file_extension": ".py",
   "mimetype": "text/x-python",
   "name": "python",
   "nbconvert_exporter": "python",
   "pygments_lexer": "ipython3",
   "version": "3.10.4"
  }
 },
 "nbformat": 4,
 "nbformat_minor": 4
}
