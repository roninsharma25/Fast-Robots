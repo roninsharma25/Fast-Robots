{
 "cells": [
  {
   "cell_type": "code",
   "execution_count": 25,
   "metadata": {},
   "outputs": [
    {
     "name": "stdout",
     "output_type": "stream",
     "text": [
      "The autoreload extension is already loaded. To reload it, use:\n",
      "  %reload_ext autoreload\n",
      "2022-04-18 00:46:17,443 |\u001b[32m INFO     \u001b[0m|: Logger demo_notebook.log already initialized.\n",
      "2022-04-18 00:46:17,444 |\u001b[32m INFO     \u001b[0m|: GUI is already running. Shutdown notebook to force restart the GUI.\n"
     ]
    }
   ],
   "source": [
    "%load_ext autoreload\n",
    "%autoreload 2\n",
    "\n",
    "import traceback\n",
    "from notebook_utils import *\n",
    "import asyncio\n",
    "import numpy as np\n",
    "import time\n",
    "\n",
    "# Setup Logger\n",
    "LOG = get_logger('demo_notebook.log')\n",
    "\n",
    "# Init GUI and Commander\n",
    "gui = GET_GUI()\n",
    "cmdr = gui.launcher.commander"
   ]
  },
  {
   "cell_type": "markdown",
   "metadata": {},
   "source": [
    "# Start/Stop the Simulator and Plotter"
   ]
  },
  {
   "cell_type": "markdown",
   "metadata": {},
   "source": [
    "### OPTION 1: GUI\n",
    "- You can use a GUI to start, stop and track the running status of the simulator and plotter.\n",
    "- Run the below cell **only once** to render the GUI. You can then interact with the GUI using your mouse.\n",
    "- The GUI will not respond when the notebook's kernel is busy, just like any other cell."
   ]
  },
  {
   "cell_type": "code",
   "execution_count": 2,
   "metadata": {},
   "outputs": [
    {
     "data": {
      "application/vnd.jupyter.widget-view+json": {
       "model_id": "1223d4f03e4f425d962ff1bbcae37c7e",
       "version_major": 2,
       "version_minor": 0
      },
      "text/plain": [
       "TwoByTwoLayout(children=(Label(value='Simulator', layout=Layout(grid_area='top-left', width='80px')), HBox(chi…"
      ]
     },
     "metadata": {},
     "output_type": "display_data"
    }
   ],
   "source": [
    "gui.show()"
   ]
  },
  {
   "cell_type": "markdown",
   "metadata": {},
   "source": [
    "### OPTION 2: Programmatically\n",
    "You can also use functions to do the same."
   ]
  },
  {
   "cell_type": "code",
   "execution_count": null,
   "metadata": {},
   "outputs": [],
   "source": [
    "# Start the simulator\n",
    "START_SIM()\n",
    "\n",
    "# Start the plotter\n",
    "START_PLOTTER()"
   ]
  },
  {
   "cell_type": "code",
   "execution_count": null,
   "metadata": {},
   "outputs": [],
   "source": [
    "# Start the simulator\n",
    "STOP_SIM()\n",
    "\n",
    "# Start the plotter\n",
    "STOP_PLOTTER()"
   ]
  },
  {
   "cell_type": "code",
   "execution_count": null,
   "metadata": {},
   "outputs": [],
   "source": [
    "# Reset the simulator\n",
    "RESET_SIM()\n",
    "\n",
    "# Start the plotter\n",
    "RESET_PLOTTER()"
   ]
  },
  {
   "cell_type": "markdown",
   "metadata": {},
   "source": [
    "You can also quit each process by closing their respective windows.\n",
    "\n",
    "### Make sure there is only one running instance of the simulator and plotter to prevent any confusion."
   ]
  },
  {
   "cell_type": "markdown",
   "metadata": {},
   "source": [
    "<hr>\n",
    "\n",
    "# Interactions\n",
    "\n",
    "## Using your mouse and keyboard\n",
    "\n",
    "### Simulator\n",
    "- Press the up and down arrow keys to increase and decrease the linear velocity of the virtual robot, respectively.\n",
    "- Press the left and right arrow keys to increase to increase and decrease the angular velocity of the virtual robot, respectively.\n",
    "- Hit spacebar to stop the robot.\n",
    "- Press h to display the full keyboard map.\n",
    "\n",
    "### Plotter\n",
    "- Use the GUI buttons to show/hide the various plots.\n",
    "- Use your mouse to zoom in and out of the plot.\n",
    "- Press the \"A\" button (bottom-left to the plotting box and above \"Plotted Points\") to auto-fit the plot to your window.\n"
   ]
  },
  {
   "cell_type": "markdown",
   "metadata": {},
   "source": [
    "\n",
    "## Using the Commander class\n",
    "The **Commander** class (defined in *commander.py*) allows you to interact with the simulator and the plotter programmatically. <br>\n",
    "__NOTE__: The units of measurement are meters and radians.\n",
    "\n",
    "<table align=\"left\">\n",
    "    <tr>\n",
    "        <th style=\"text-align: left; font-size: medium\">Member Functions</th>\n",
    "        <th style=\"text-align: left; font-size: medium\">Description</th style=\"text-align: left\">\n",
    "    </tr>\n",
    "    <tr>\n",
    "        <th style=\"text-align: left\"><span style=\"font-family:monospace\">Utility Functions</span></th>\n",
    "    </tr>\n",
    "    <tr>\n",
    "        <th style=\"text-align: left\"><span style=\"color:rgb(201,152,4);font-family:monospace\">sim_is_running()</span></th>\n",
    "        <th style=\"text-align: left\"><span style=\"font-weight: normal\">Get the run status of the simulator.</span></th>\n",
    "    </tr>\n",
    "    <tr>\n",
    "        <th style=\"text-align: left\"><span style=\"color:rgb(201,152,4);font-family:monospace\">plotter_is_running()</span></th>\n",
    "        <th style=\"text-align: left\"><span style=\"font-weight: normal\">Get the run status of the plotter.</span></th>\n",
    "    </tr>\n",
    "    <tr>\n",
    "        <th style=\"text-align: left\"><span style=\"font-family:monospace\">Plotter Functions</span></th>\n",
    "    </tr>\n",
    "    <tr>\n",
    "        <th style=\"text-align: left\"><span style=\"color:rgb(201,152,4);font-family:monospace\">plot_odom(x,y)</span></th>\n",
    "        <th style=\"text-align: left\"><span style=\"font-weight: normal\">Plot a point (x,y) in the plotter in red. Units are (meters, meters).</span></th style=\"text-align: left\">\n",
    "    </tr>\n",
    "    <tr>\n",
    "        <th style=\"text-align: left\"><span style=\"color:rgb(201,152,4);font-family:monospace\">plot_gt(x,y)</span></th>\n",
    "        <th style=\"text-align: left\"><span style=\"font-weight: normal\">Plot a point (x,y) in the plotter in green. Units are (meters, meters).</span></th>\n",
    "    </tr>\n",
    "    <tr>\n",
    "        <th style=\"text-align: left\"><span style=\"color:rgb(201,152,4);font-family:monospace\">plot_bel(x,y)</span></th>\n",
    "        <th style=\"text-align: left\"><span style=\"font-weight: normal\">Plot a point (x,y) in the plotter in blue. Units are (meters, meters).</span></th>\n",
    "    </tr>\n",
    "    <tr>\n",
    "        <th style=\"text-align: left\"><span style=\"color:rgb(201,152,4);font-family:monospace\">plot_map()</span></th>\n",
    "        <th style=\"text-align: left\"><span style=\"font-weight: normal\">Plot the map based on the map lines in <em>world.yaml</em>.</span></th>\n",
    "    </tr>\n",
    "    <tr>\n",
    "        <th style=\"text-align: left\"><span style=\"color:rgb(201,152,4);font-family:monospace\">reset_plotter()</span></th>\n",
    "        <th style=\"text-align: left\"><span style=\"font-weight: normal\">Reset the plots in the plotter.</span></th>\n",
    "    </tr>\n",
    "    <tr>\n",
    "        <th style=\"text-align: left\"><span style=\"font-family:monospace\">Simulator Functions</span></th>\n",
    "    </tr>\n",
    "    <tr>\n",
    "        <th style=\"text-align: left\"><span style=\"color:rgb(201,152,4);font-family:monospace\">set_vel(linear_vel, angular_vel)</span></th>\n",
    "        <th style=\"text-align: left\"><span style=\"font-weight: normal\">Set the linear velocity (m/s) and angular velocity (rad/s) of the virtual robot.</span></th style=\"text-align: left\">\n",
    "    </tr>\n",
    "    <tr>\n",
    "        <th style=\"text-align: left\"><span style=\"color:rgb(201,152,4);font-family:monospace\">get_pose()</span></th>\n",
    "        <th style=\"text-align: left\"><span style=\"font-weight: normal\">Get the odometry and ground truth poses of the virtual robot as two numpy arrays. The units of each pose are (meters, meters, radians)</span></th>\n",
    "    </tr>\n",
    "    <tr>\n",
    "        <th style=\"text-align: left\"><span style=\"color:rgb(201,152,4);font-family:monospace\">get_sensor()</span></th>\n",
    "        <th style=\"text-align: left\"><span style=\"font-weight: normal\">Get the ToF sensor data (in meters) of the virtual robot as a numpy column array.</span></th>\n",
    "    </tr>\n",
    "    <tr>\n",
    "        <th style=\"text-align: left\"><span style=\"color:rgb(201,152,4);font-family:monospace\">reset_sim()</span></th>\n",
    "        <th style=\"text-align: left\"><span style=\"font-weight: normal\">Reset the virtual robot to its initial pose.</span></th>\n",
    "    </tr>    \n",
    "   \n",
    "</table>\n"
   ]
  },
  {
   "cell_type": "code",
   "execution_count": null,
   "metadata": {},
   "outputs": [],
   "source": [
    "# Reset Plotter and Simulator\n",
    "cmdr.reset_plotter()\n",
    "cmdr.reset_sim()\n",
    "\n",
    "# Loop for pose\n",
    "while cmdr.sim_is_running() and cmdr.plotter_is_running():\n",
    "    pose, gt_pose = cmdr.get_pose()\n",
    "\n",
    "    cmdr.plot_odom(pose[0], pose[1])\n",
    "    cmdr.plot_gt(gt_pose[0], gt_pose[1])"
   ]
  },
  {
   "cell_type": "code",
   "execution_count": null,
   "metadata": {},
   "outputs": [],
   "source": [
    "# Loop for sensor\n",
    "while cmdr.sim_is_running() and cmdr.plotter_is_running():\n",
    "    sensor_values = cmdr.get_sensor()\n",
    "    print(sensor_values)\n",
    "    await asyncio.sleep(1)"
   ]
  },
  {
   "cell_type": "markdown",
   "metadata": {},
   "source": [
    "### Open Loop Control"
   ]
  },
  {
   "cell_type": "code",
   "execution_count": null,
   "metadata": {},
   "outputs": [],
   "source": [
    "# Square loop ---\n",
    "cmdr.reset_sim()\n",
    "cmdr.reset_plotter()\n",
    "\n",
    "cmdr.set_vel(0, 0)\n",
    "\n",
    "for i in range(20):\n",
    "    # Move forward\n",
    "    cmdr.set_vel(1, 0)\n",
    "    await asyncio.sleep(0.5)\n",
    "\n",
    "    # Turn\n",
    "    cmdr.set_vel(0, np.pi)\n",
    "    await asyncio.sleep(0.5)\n",
    "    \n",
    "    cmdr.set_vel(0, 0)\n",
    "    \n",
    "    pose, gt_pose = cmdr.get_pose()\n",
    "\n",
    "    cmdr.plot_odom(pose[0], pose[1])\n",
    "    cmdr.plot_gt(gt_pose[0], gt_pose[1])\n",
    "\n",
    "cmdr.set_vel(0, 0)"
   ]
  },
  {
   "cell_type": "markdown",
   "metadata": {},
   "source": [
    "### Closed Loop Control"
   ]
  },
  {
   "cell_type": "code",
   "execution_count": null,
   "metadata": {},
   "outputs": [],
   "source": [
    "cmdr.reset_sim()"
   ]
  },
  {
   "cell_type": "code",
   "execution_count": 30,
   "metadata": {},
   "outputs": [],
   "source": [
    "class RobotController():\n",
    "    \n",
    "    CLOSEST_DISTANCE_FOR_TURNING = 0.25\n",
    "    MAX_SPEED = 10\n",
    "    \n",
    "    def __init__(self, cmdr):\n",
    "        self.cmdr = cmdr\n",
    "        self.cmdr.reset_sim()\n",
    "    \n",
    "    async def moveForward(self, speed, duration):\n",
    "        self.cmdr.set_vel(speed, 0)\n",
    "        await asyncio.sleep(duration)\n",
    "        self.cmdr.set_vel(0, 0)\n",
    "    \n",
    "    def reset(self):\n",
    "        self.cmdr.reset_sim()\n",
    "    \n",
    "    def getDistance(self):\n",
    "        return self.cmdr.get_sensor()[0]\n",
    "    \n",
    "    async def turn(self, angle): # angle is in degrees\n",
    "        self.cmdr.set_vel(0, angle * np.pi / 180 / 0.1)\n",
    "        await asyncio.sleep(0.1)\n",
    "        self.cmdr.set_vel(0, 0)\n",
    "    \n",
    "    # Based on the current location, checks if the robot can move at this speed for the duration\n",
    "    def checkSafeMovement(self, speed, duration):\n",
    "        return self.getDistance() > speed * duration + self.CLOSEST_DISTANCE_FOR_TURNING\n",
    "    \n",
    "    async def obstacleAvoidance(self, duration):\n",
    "        startTime = time.time()\n",
    "        \n",
    "        currSpeed = self.MAX_SPEED\n",
    "        \n",
    "        while (time.time() - startTime < duration):\n",
    "            \n",
    "            if (self.getDistance() < 0.3):\n",
    "                await self.turn(45)\n",
    "            elif (self.checkSafeMovement(currSpeed, 0.001)):\n",
    "                await self.moveForward(currSpeed, 0.001)\n",
    "                currSpeed = min(currSpeed * 3, self.MAX_SPEED)\n",
    "            else:\n",
    "                currSpeed /= 2"
   ]
  },
  {
   "cell_type": "code",
   "execution_count": 31,
   "metadata": {},
   "outputs": [],
   "source": [
    "rc = RobotController(cmdr)"
   ]
  },
  {
   "cell_type": "code",
   "execution_count": 32,
   "metadata": {},
   "outputs": [
    {
     "name": "stdout",
     "output_type": "stream",
     "text": [
      "Loading Flatland...\n",
      "Initializing pygame framework...\n"
     ]
    }
   ],
   "source": [
    "rc.reset()\n",
    "await rc.obstacleAvoidance(15)"
   ]
  },
  {
   "cell_type": "code",
   "execution_count": null,
   "metadata": {},
   "outputs": [],
   "source": []
  }
 ],
 "metadata": {
  "kernelspec": {
   "display_name": "Python 3 (ipykernel)",
   "language": "python",
   "name": "python3"
  },
  "language_info": {
   "codemirror_mode": {
    "name": "ipython",
    "version": 3
   },
   "file_extension": ".py",
   "mimetype": "text/x-python",
   "name": "python",
   "nbconvert_exporter": "python",
   "pygments_lexer": "ipython3",
   "version": "3.10.4"
  }
 },
 "nbformat": 4,
 "nbformat_minor": 4
}
