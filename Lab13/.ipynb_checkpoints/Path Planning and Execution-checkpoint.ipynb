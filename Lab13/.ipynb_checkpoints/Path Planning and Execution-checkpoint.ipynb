{
 "cells": [
  {
   "cell_type": "code",
   "execution_count": 2,
   "id": "b3543e69",
   "metadata": {},
   "outputs": [],
   "source": [
    "import asyncio\n",
    "from ble import get_ble_controller\n",
    "from base_ble import LOG\n",
    "from cmd_types import CMD\n",
    "import numpy as np\n",
    "\n",
    "from funcs import *\n",
    "from robotClass import *"
   ]
  },
  {
   "cell_type": "code",
   "execution_count": 3,
   "id": "6ba490e7",
   "metadata": {},
   "outputs": [
    {
     "name": "stdout",
     "output_type": "stream",
     "text": [
      "2022-05-19 19:14:52,347 |\u001b[31m ERROR    \u001b[0m|: Error loading config file: connection.yaml\n",
      "2022-05-19 19:14:52,355 |\u001b[31m ERROR    \u001b[0m|: [Errno 2] No such file or directory: 'connection.yaml'\n"
     ]
    },
    {
     "ename": "TypeError",
     "evalue": "cannot unpack non-iterable NoneType object",
     "output_type": "error",
     "traceback": [
      "\u001b[0;31m---------------------------------------------------------------------------\u001b[0m",
      "\u001b[0;31mTypeError\u001b[0m                                 Traceback (most recent call last)",
      "Input \u001b[0;32mIn [3]\u001b[0m, in \u001b[0;36m<cell line: 1>\u001b[0;34m()\u001b[0m\n\u001b[0;32m----> 1\u001b[0m rc \u001b[38;5;241m=\u001b[39m \u001b[43msetupRobot\u001b[49m\u001b[43m(\u001b[49m\u001b[43m)\u001b[49m\n",
      "File \u001b[0;32m~/Desktop/Cornell/ECE 5960/Fast-Robots/Lab13/funcs.py:12\u001b[0m, in \u001b[0;36msetupRobot\u001b[0;34m()\u001b[0m\n\u001b[1;32m     10\u001b[0m \u001b[38;5;28;01mdef\u001b[39;00m \u001b[38;5;21msetupRobot\u001b[39m():\n\u001b[1;32m     11\u001b[0m     \u001b[38;5;66;03m# Get ArtemisBLEController object\u001b[39;00m\n\u001b[0;32m---> 12\u001b[0m     ble \u001b[38;5;241m=\u001b[39m \u001b[43mget_ble_controller\u001b[49m\u001b[43m(\u001b[49m\u001b[43m)\u001b[49m\n\u001b[1;32m     14\u001b[0m     \u001b[38;5;66;03m# Connect to the Artemis Device\u001b[39;00m\n\u001b[1;32m     15\u001b[0m     ble\u001b[38;5;241m.\u001b[39mconnect()\n",
      "File \u001b[0;32m~/Desktop/Cornell/ECE 5960/Fast-Robots/Lab13/ble.py:13\u001b[0m, in \u001b[0;36mget_ble_controller\u001b[0;34m()\u001b[0m\n\u001b[1;32m     11\u001b[0m     \u001b[38;5;28;01mreturn\u001b[39;00m GLOBAL_BLE_DEVICE\n\u001b[1;32m     12\u001b[0m \u001b[38;5;28;01melse\u001b[39;00m:\n\u001b[0;32m---> 13\u001b[0m     GLOBAL_BLE_DEVICE \u001b[38;5;241m=\u001b[39m \u001b[43mArtemisBLEController\u001b[49m\u001b[43m(\u001b[49m\u001b[43m)\u001b[49m\n\u001b[1;32m     14\u001b[0m     \u001b[38;5;28;01mreturn\u001b[39;00m GLOBAL_BLE_DEVICE\n",
      "File \u001b[0;32m~/Desktop/Cornell/ECE 5960/Fast-Robots/Lab13/ble.py:107\u001b[0m, in \u001b[0;36mArtemisBLEController.__init__\u001b[0;34m(self, config, max_write_length)\u001b[0m\n\u001b[1;32m    104\u001b[0m     ArtemisBLEController\u001b[38;5;241m.\u001b[39m_instantiated \u001b[38;5;241m=\u001b[39m \u001b[38;5;28;01mTrue\u001b[39;00m\n\u001b[1;32m    106\u001b[0m \u001b[38;5;28mself\u001b[39m\u001b[38;5;241m.\u001b[39mconn_config \u001b[38;5;241m=\u001b[39m config\n\u001b[0;32m--> 107\u001b[0m address, service_uuid, \u001b[38;5;28mself\u001b[39m\u001b[38;5;241m.\u001b[39muuid \u001b[38;5;241m=\u001b[39m \u001b[38;5;28mself\u001b[39m\u001b[38;5;241m.\u001b[39m_load_config()\n\u001b[1;32m    109\u001b[0m \u001b[38;5;28msuper\u001b[39m(ArtemisBLEController, \u001b[38;5;28mself\u001b[39m)\u001b[38;5;241m.\u001b[39m\u001b[38;5;21m__init__\u001b[39m(address, service_uuid, max_write_length)\n",
      "\u001b[0;31mTypeError\u001b[0m: cannot unpack non-iterable NoneType object"
     ]
    }
   ],
   "source": [
    "rc = setupRobot()"
   ]
  },
  {
   "cell_type": "code",
   "execution_count": null,
   "id": "bd488b1d",
   "metadata": {},
   "outputs": [],
   "source": []
  }
 ],
 "metadata": {
  "kernelspec": {
   "display_name": "Python 3 (ipykernel)",
   "language": "python",
   "name": "python3"
  },
  "language_info": {
   "codemirror_mode": {
    "name": "ipython",
    "version": 3
   },
   "file_extension": ".py",
   "mimetype": "text/x-python",
   "name": "python",
   "nbconvert_exporter": "python",
   "pygments_lexer": "ipython3",
   "version": "3.10.4"
  }
 },
 "nbformat": 4,
 "nbformat_minor": 5
}
