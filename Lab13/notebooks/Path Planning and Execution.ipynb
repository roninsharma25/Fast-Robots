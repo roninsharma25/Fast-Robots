{
 "cells": [
  {
   "cell_type": "code",
   "execution_count": 2,
   "id": "b3543e69",
   "metadata": {},
   "outputs": [],
   "source": [
    "#%load_ext autoreload\n",
    "#%autoreload 2\n",
    "\n",
    "import traceback\n",
    "from notebook_utils import *\n",
    "from Traj import *\n",
    "import asyncio\n",
    "import pathlib\n",
    "import os\n",
    "from utils import load_config_params\n",
    "from localization_extras import Localization\n",
    "\n",
    "from ble import get_ble_controller\n",
    "from base_ble import LOG\n",
    "from cmd_types import CMD\n",
    "import numpy as np\n",
    "\n",
    "from funcs import *\n",
    "from robotClass import *\n",
    "from realRobot import *"
   ]
  },
  {
   "cell_type": "code",
   "execution_count": null,
   "id": "a49c0de5",
   "metadata": {},
   "outputs": [],
   "source": [
    "from realRobot import RealRobot as rvr"
   ]
  },
  {
   "cell_type": "code",
   "execution_count": null,
   "id": "f3508ec6",
   "metadata": {},
   "outputs": [],
   "source": [
    "# turn dir\n",
    "    # 0: counter clockwise\n",
    "    # 1: clockwise"
   ]
  },
  {
   "cell_type": "code",
   "execution_count": null,
   "id": "d1c625c8",
   "metadata": {},
   "outputs": [],
   "source": [
    "FORWARD_SPEED = 180\n",
    "BACKWARD_SPEED = 180"
   ]
  },
  {
   "cell_type": "code",
   "execution_count": null,
   "id": "3c6f0b7a",
   "metadata": {},
   "outputs": [],
   "source": []
  },
  {
   "cell_type": "code",
   "execution_count": null,
   "id": "55f5621c",
   "metadata": {},
   "outputs": [],
   "source": []
  },
  {
   "cell_type": "code",
   "execution_count": null,
   "id": "6ba490e7",
   "metadata": {},
   "outputs": [],
   "source": [
    "rc = setupRobot()"
   ]
  },
  {
   "cell_type": "code",
   "execution_count": null,
   "id": "bae3eb95",
   "metadata": {},
   "outputs": [],
   "source": [
    "rc.turn(FORWARD_SPEED, BACKWARD_SPEED, 0, 90, delta = 30)"
   ]
  },
  {
   "cell_type": "code",
   "execution_count": null,
   "id": "1eaf6c3a",
   "metadata": {},
   "outputs": [],
   "source": [
    "rc.turn(FORWARD_SPEED, BACKWARD_SPEED, 0, 45, delta = 20)"
   ]
  },
  {
   "cell_type": "code",
   "execution_count": null,
   "id": "10b143ba",
   "metadata": {},
   "outputs": [],
   "source": [
    "rc.turn(FORWARD_SPEED, BACKWARD_SPEED, 0, 30, delta = 10)"
   ]
  },
  {
   "cell_type": "code",
   "execution_count": null,
   "id": "aee593d6",
   "metadata": {},
   "outputs": [],
   "source": []
  },
  {
   "cell_type": "code",
   "execution_count": null,
   "id": "4ba358f9",
   "metadata": {},
   "outputs": [],
   "source": [
    "rc.updatePID(200, 0.35, 0.95, PIDbuffer = 100)"
   ]
  },
  {
   "cell_type": "code",
   "execution_count": null,
   "id": "36a7def8",
   "metadata": {},
   "outputs": [],
   "source": [
    "rc.stop()"
   ]
  },
  {
   "cell_type": "code",
   "execution_count": null,
   "id": "486b688d",
   "metadata": {},
   "outputs": [],
   "source": []
  },
  {
   "cell_type": "code",
   "execution_count": null,
   "id": "bab29e94",
   "metadata": {},
   "outputs": [],
   "source": []
  },
  {
   "cell_type": "markdown",
   "id": "63a77974",
   "metadata": {},
   "source": [
    "### Mapping"
   ]
  },
  {
   "cell_type": "code",
   "execution_count": 3,
   "id": "38fd175a",
   "metadata": {},
   "outputs": [],
   "source": [
    "FORWARD_SPEED = 180\n",
    "BACKWARD_SPEED = 180"
   ]
  },
  {
   "cell_type": "code",
   "execution_count": 4,
   "id": "2b80fa0a",
   "metadata": {},
   "outputs": [
    {
     "name": "stdout",
     "output_type": "stream",
     "text": [
      "2022-05-20 03:34:43,962 |\u001b[32m INFO     \u001b[0m|: Looking for Artemis Nano Peripheral Device: C0:83:A5:6D:80:3C\n",
      "2022-05-20 03:34:46,875 |\u001b[32m INFO     \u001b[0m|: Connected to C0:83:A5:6D:80:3C\n"
     ]
    }
   ],
   "source": [
    "rc = setupRobot()"
   ]
  },
  {
   "cell_type": "markdown",
   "id": "c2c00f9d",
   "metadata": {},
   "source": [
    "1 to 2"
   ]
  },
  {
   "cell_type": "code",
   "execution_count": 5,
   "id": "c2159880",
   "metadata": {},
   "outputs": [
    {
     "name": "stdout",
     "output_type": "stream",
     "text": [
      "2022-05-20 03:36:56,374 |\u001b[32m INFO     \u001b[0m|: Disconnected from CDA1A256-991A-774B-DB12-7C324EDA8C53\n"
     ]
    }
   ],
   "source": [
    "# move forward\n",
    "rc.updatePID(300, 0.35, 0.75, PIDbuffer = 300)"
   ]
  },
  {
   "cell_type": "code",
   "execution_count": null,
   "id": "12b0da47",
   "metadata": {},
   "outputs": [],
   "source": [
    "# turn right 90 degrees\n",
    "rc.turn(FORWARD_SPEED, BACKWARD_SPEED, 1, 90, delta = 50)"
   ]
  },
  {
   "cell_type": "markdown",
   "id": "d2a1d444",
   "metadata": {},
   "source": [
    "2 to 3"
   ]
  },
  {
   "cell_type": "code",
   "execution_count": null,
   "id": "3292b9df",
   "metadata": {},
   "outputs": [],
   "source": [
    "# move forward\n",
    "rc.updatePID(1800, 0.35, 0.75, PIDbuffer = 400)"
   ]
  },
  {
   "cell_type": "code",
   "execution_count": null,
   "id": "55ee347e",
   "metadata": {},
   "outputs": [],
   "source": [
    "# turn right 60 degrees\n",
    "rc.turn(FORWARD_SPEED, BACKWARD_SPEED, 1, 60, delta = 30)"
   ]
  },
  {
   "cell_type": "markdown",
   "id": "d4c7d18e",
   "metadata": {},
   "source": [
    "3 to 4"
   ]
  },
  {
   "cell_type": "code",
   "execution_count": null,
   "id": "86fcb0e8",
   "metadata": {},
   "outputs": [],
   "source": [
    "rc.updatePID(400, 0.35, 0.75, PIDbuffer = 200)"
   ]
  },
  {
   "cell_type": "code",
   "execution_count": null,
   "id": "f9122ebb",
   "metadata": {},
   "outputs": [],
   "source": [
    "# turn left 60 degrees\n",
    "rc.turn(FORWARD_SPEED, BACKWARD_SPEED, 0, 60, delta = 25)"
   ]
  },
  {
   "cell_type": "markdown",
   "id": "9a06be76",
   "metadata": {},
   "source": [
    "4 to 5"
   ]
  },
  {
   "cell_type": "code",
   "execution_count": null,
   "id": "0dbc40b4",
   "metadata": {},
   "outputs": [],
   "source": [
    "# move forward\n",
    "rc.updatePID(500, 0.35, 0.75, PIDbuffer = 200)"
   ]
  },
  {
   "cell_type": "code",
   "execution_count": null,
   "id": "7e2f4240",
   "metadata": {},
   "outputs": [],
   "source": [
    "# turn left 90 degrees\n",
    "rc.turn(FORWARD_SPEED, BACKWARD_SPEED, 0, 90, delta = 35)"
   ]
  },
  {
   "cell_type": "markdown",
   "id": "7d8af6b4",
   "metadata": {},
   "source": [
    "5 to 6 to 7"
   ]
  },
  {
   "cell_type": "code",
   "execution_count": null,
   "id": "8b70681c",
   "metadata": {},
   "outputs": [],
   "source": [
    "# move forward\n",
    "rc.updatePID(600, 0.35, 0.75, PIDbuffer = 500)"
   ]
  },
  {
   "cell_type": "code",
   "execution_count": null,
   "id": "80cf7caa",
   "metadata": {},
   "outputs": [],
   "source": [
    "# turn left 90 degrees\n",
    "rc.turn(FORWARD_SPEED, BACKWARD_SPEED, 0, 90, delta = 40)"
   ]
  },
  {
   "cell_type": "markdown",
   "id": "4fd8181c",
   "metadata": {},
   "source": [
    "7 to 8"
   ]
  },
  {
   "cell_type": "code",
   "execution_count": null,
   "id": "d456ca71",
   "metadata": {},
   "outputs": [],
   "source": [
    "# move forward\n",
    "rc.updatePID(900, 0.35, 0.75, PIDbuffer = 200)"
   ]
  },
  {
   "cell_type": "code",
   "execution_count": null,
   "id": "ae30d206",
   "metadata": {},
   "outputs": [],
   "source": [
    "# turn left 90 degrees\n",
    "rc.turn(FORWARD_SPEED, BACKWARD_SPEED, 0, 90, delta = 40)"
   ]
  },
  {
   "cell_type": "code",
   "execution_count": null,
   "id": "d92f7218",
   "metadata": {},
   "outputs": [],
   "source": [
    "# LOCALIZATION"
   ]
  },
  {
   "cell_type": "markdown",
   "id": "e8c9c859",
   "metadata": {},
   "source": [
    "8 to 9"
   ]
  },
  {
   "cell_type": "code",
   "execution_count": null,
   "id": "97dba3b4",
   "metadata": {},
   "outputs": [],
   "source": [
    "# move forward\n",
    "rc.updatePID(1200, 0.35, 0.75, PIDbuffer = 200)"
   ]
  },
  {
   "cell_type": "code",
   "execution_count": null,
   "id": "1cffe223",
   "metadata": {},
   "outputs": [],
   "source": [
    "# LOCALIZATION"
   ]
  },
  {
   "cell_type": "code",
   "execution_count": null,
   "id": "841a290e",
   "metadata": {},
   "outputs": [],
   "source": [
    "rc.stop()"
   ]
  },
  {
   "cell_type": "code",
   "execution_count": null,
   "id": "91928522",
   "metadata": {},
   "outputs": [],
   "source": []
  },
  {
   "cell_type": "code",
   "execution_count": null,
   "id": "3024ab8d",
   "metadata": {},
   "outputs": [],
   "source": []
  },
  {
   "cell_type": "code",
   "execution_count": null,
   "id": "ca85281a",
   "metadata": {},
   "outputs": [],
   "source": []
  },
  {
   "cell_type": "code",
   "execution_count": null,
   "id": "222c0416",
   "metadata": {},
   "outputs": [],
   "source": []
  },
  {
   "cell_type": "markdown",
   "id": "a3506889",
   "metadata": {},
   "source": [
    "### Localization"
   ]
  },
  {
   "cell_type": "code",
   "execution_count": null,
   "id": "c971a9ea",
   "metadata": {},
   "outputs": [],
   "source": [
    "#rc = setupRobot()"
   ]
  },
  {
   "cell_type": "code",
   "execution_count": null,
   "id": "38b314ad",
   "metadata": {},
   "outputs": [],
   "source": [
    "#rc.setup_notify()"
   ]
  },
  {
   "cell_type": "code",
   "execution_count": null,
   "id": "334afc3c",
   "metadata": {},
   "outputs": [],
   "source": [
    "# Get ArtemisBLEController object\n",
    "ble = get_ble_controller()\n",
    "\n",
    "# Connect to the Artemis Device\n",
    "ble.connect()"
   ]
  },
  {
   "cell_type": "code",
   "execution_count": null,
   "id": "c6c8413b",
   "metadata": {},
   "outputs": [],
   "source": []
  },
  {
   "cell_type": "code",
   "execution_count": null,
   "id": "49a05aec",
   "metadata": {},
   "outputs": [],
   "source": [
    "gui = GET_GUI()\n",
    "cmdr = gui.launcher.commander\n",
    "START_PLOTTER()"
   ]
  },
  {
   "cell_type": "code",
   "execution_count": null,
   "id": "b3c84097",
   "metadata": {},
   "outputs": [],
   "source": []
  },
  {
   "cell_type": "code",
   "execution_count": null,
   "id": "987b26d3",
   "metadata": {},
   "outputs": [],
   "source": [
    "robot = rvr(cmdr, ble)\n",
    "\n",
    "# Initialize mapper\n",
    "# Requires a VirtualRobot object as a parameter\n",
    "mapper = Mapper(robot)\n",
    "\n",
    "# Initialize your BaseLocalization object\n",
    "# Requires a RealRobot object and a Mapper object as parameters\n",
    "loc = Localization(robot, mapper)\n",
    "\n",
    "## Plot Map\n",
    "cmdr.plot_map()"
   ]
  },
  {
   "cell_type": "code",
   "execution_count": null,
   "id": "4a57467a",
   "metadata": {},
   "outputs": [],
   "source": []
  },
  {
   "cell_type": "code",
   "execution_count": null,
   "id": "1c8985f4",
   "metadata": {},
   "outputs": [],
   "source": []
  },
  {
   "cell_type": "code",
   "execution_count": null,
   "id": "fd89cc5d",
   "metadata": {},
   "outputs": [],
   "source": []
  },
  {
   "cell_type": "code",
   "execution_count": null,
   "id": "7840407e",
   "metadata": {},
   "outputs": [],
   "source": []
  },
  {
   "cell_type": "code",
   "execution_count": null,
   "id": "4c68be40",
   "metadata": {},
   "outputs": [],
   "source": [
    "readings = await performLocalization()"
   ]
  },
  {
   "cell_type": "code",
   "execution_count": null,
   "id": "0954a56b",
   "metadata": {},
   "outputs": [],
   "source": [
    "readings"
   ]
  },
  {
   "cell_type": "code",
   "execution_count": null,
   "id": "6a126b47",
   "metadata": {},
   "outputs": [],
   "source": []
  },
  {
   "cell_type": "code",
   "execution_count": null,
   "id": "0c5c09ea",
   "metadata": {},
   "outputs": [],
   "source": []
  },
  {
   "cell_type": "code",
   "execution_count": null,
   "id": "6982ddf3",
   "metadata": {},
   "outputs": [],
   "source": [
    "rc.stop()"
   ]
  },
  {
   "cell_type": "code",
   "execution_count": null,
   "id": "d2f9c1c3",
   "metadata": {},
   "outputs": [],
   "source": []
  },
  {
   "cell_type": "code",
   "execution_count": null,
   "id": "da5bfdd7",
   "metadata": {},
   "outputs": [],
   "source": []
  }
 ],
 "metadata": {
  "kernelspec": {
   "display_name": "Python 3 (ipykernel)",
   "language": "python",
   "name": "python3"
  },
  "language_info": {
   "codemirror_mode": {
    "name": "ipython",
    "version": 3
   },
   "file_extension": ".py",
   "mimetype": "text/x-python",
   "name": "python",
   "nbconvert_exporter": "python",
   "pygments_lexer": "ipython3",
   "version": "3.10.4"
  }
 },
 "nbformat": 4,
 "nbformat_minor": 5
}
