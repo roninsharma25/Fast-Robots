{
 "cells": [
  {
   "cell_type": "code",
   "execution_count": 2,
   "id": "b3543e69",
   "metadata": {},
   "outputs": [],
   "source": [
    "%load_ext autoreload\n",
    "%autoreload 2\n",
    "\n",
    "import traceback\n",
    "from notebook_utils import *\n",
    "from Traj import *\n",
    "import asyncio\n",
    "import pathlib\n",
    "import os\n",
    "from utils import load_config_params\n",
    "from localization_extras import Localization\n",
    "\n",
    "from ble import get_ble_controller\n",
    "from base_ble import LOG\n",
    "from cmd_types import CMD\n",
    "import numpy as np\n",
    "\n",
    "from funcs import *\n",
    "from robotClass import *"
   ]
  },
  {
   "cell_type": "code",
   "execution_count": null,
   "id": "69ca2eac",
   "metadata": {},
   "outputs": [],
   "source": []
  },
  {
   "cell_type": "code",
   "execution_count": null,
   "id": "f3508ec6",
   "metadata": {},
   "outputs": [],
   "source": [
    "# turn dir\n",
    "    # 0: counter clockwise\n",
    "    # 1: clockwise"
   ]
  },
  {
   "cell_type": "code",
   "execution_count": 33,
   "id": "6ba490e7",
   "metadata": {},
   "outputs": [
    {
     "name": "stdout",
     "output_type": "stream",
     "text": [
      "2022-05-19 21:44:47,971 |\u001b[32m INFO     \u001b[0m|: Looking for Artemis Nano Peripheral Device: C0:83:B0:6C:9A:3C\n",
      "2022-05-19 21:44:50,973 |\u001b[32m INFO     \u001b[0m|: Connected to C0:83:B0:6C:9A:3C\n"
     ]
    }
   ],
   "source": [
    "rc = setupRobot()"
   ]
  },
  {
   "cell_type": "code",
   "execution_count": null,
   "id": "bae3eb95",
   "metadata": {},
   "outputs": [],
   "source": [
    "rc.turn(150, 150, 0, 90, delta = 30)"
   ]
  },
  {
   "cell_type": "code",
   "execution_count": null,
   "id": "2a489720",
   "metadata": {},
   "outputs": [],
   "source": [
    "rc.turn(150, 150, 0, 45, delta = 20)"
   ]
  },
  {
   "cell_type": "code",
   "execution_count": null,
   "id": "704855f0",
   "metadata": {},
   "outputs": [],
   "source": [
    "rc.turn(150, 150, 0, 30, delta = 10)"
   ]
  },
  {
   "cell_type": "code",
   "execution_count": null,
   "id": "806a4677",
   "metadata": {},
   "outputs": [],
   "source": []
  },
  {
   "cell_type": "code",
   "execution_count": null,
   "id": "01b1a05d",
   "metadata": {},
   "outputs": [],
   "source": []
  },
  {
   "cell_type": "code",
   "execution_count": null,
   "id": "e63f73bb",
   "metadata": {},
   "outputs": [],
   "source": []
  },
  {
   "cell_type": "code",
   "execution_count": 22,
   "id": "36c4cece",
   "metadata": {},
   "outputs": [],
   "source": [
    "rc.updatePID(150, 0.35, 0.75, PIDbuffer = 100)"
   ]
  },
  {
   "cell_type": "code",
   "execution_count": 41,
   "id": "aec67abc",
   "metadata": {},
   "outputs": [],
   "source": [
    "rc.turn(150, 150, 0, 90, delta = 30)"
   ]
  },
  {
   "cell_type": "code",
   "execution_count": 36,
   "id": "7a9ea107",
   "metadata": {},
   "outputs": [],
   "source": [
    "rc.updatePID(300, 0.35, 0.75, PIDbuffer = 100)"
   ]
  },
  {
   "cell_type": "code",
   "execution_count": null,
   "id": "91b67c33",
   "metadata": {},
   "outputs": [],
   "source": []
  },
  {
   "cell_type": "code",
   "execution_count": null,
   "id": "4f0e083a",
   "metadata": {},
   "outputs": [],
   "source": []
  },
  {
   "cell_type": "markdown",
   "id": "16a5ce76",
   "metadata": {},
   "source": [
    "### Mapping"
   ]
  },
  {
   "cell_type": "code",
   "execution_count": null,
   "id": "f440404e",
   "metadata": {},
   "outputs": [],
   "source": [
    "# move forward\n",
    "rc.updatePID(300, 0.35, 0.75, PIDbuffer = 100)"
   ]
  },
  {
   "cell_type": "code",
   "execution_count": null,
   "id": "056d798f",
   "metadata": {},
   "outputs": [],
   "source": [
    "# turn right 90 degrees\n",
    "rc.turn(150, 150, 1, 90, delta = 30)"
   ]
  },
  {
   "cell_type": "code",
   "execution_count": null,
   "id": "62ec25a0",
   "metadata": {},
   "outputs": [],
   "source": [
    "# move forward\n"
   ]
  },
  {
   "cell_type": "code",
   "execution_count": null,
   "id": "7ca8a3e4",
   "metadata": {},
   "outputs": [],
   "source": []
  },
  {
   "cell_type": "code",
   "execution_count": null,
   "id": "f3d12b7c",
   "metadata": {},
   "outputs": [],
   "source": []
  },
  {
   "cell_type": "code",
   "execution_count": null,
   "id": "33405be4",
   "metadata": {},
   "outputs": [],
   "source": []
  },
  {
   "cell_type": "code",
   "execution_count": null,
   "id": "95b0eca3",
   "metadata": {},
   "outputs": [],
   "source": []
  },
  {
   "cell_type": "code",
   "execution_count": null,
   "id": "956eb4ab",
   "metadata": {},
   "outputs": [],
   "source": []
  },
  {
   "cell_type": "code",
   "execution_count": null,
   "id": "4fb75e9e",
   "metadata": {},
   "outputs": [],
   "source": []
  },
  {
   "cell_type": "code",
   "execution_count": null,
   "id": "edaa9fff",
   "metadata": {},
   "outputs": [],
   "source": []
  },
  {
   "cell_type": "code",
   "execution_count": null,
   "id": "9d2a4b65",
   "metadata": {},
   "outputs": [],
   "source": []
  }
 ],
 "metadata": {
  "kernelspec": {
   "display_name": "Python 3 (ipykernel)",
   "language": "python",
   "name": "python3"
  },
  "language_info": {
   "codemirror_mode": {
    "name": "ipython",
    "version": 3
   },
   "file_extension": ".py",
   "mimetype": "text/x-python",
   "name": "python",
   "nbconvert_exporter": "python",
   "pygments_lexer": "ipython3",
   "version": "3.10.4"
  }
 },
 "nbformat": 4,
 "nbformat_minor": 5
}
